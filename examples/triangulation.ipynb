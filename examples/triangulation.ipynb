{
 "cells": [
  {
   "cell_type": "code",
   "execution_count": 1,
   "id": "toxic-sewing",
   "metadata": {},
   "outputs": [],
   "source": [
    "%matplotlib widget"
   ]
  },
  {
   "cell_type": "markdown",
   "id": "informal-exploration",
   "metadata": {},
   "source": [
    "# Triangulation\n",
    "\n",
    "This notebook will showcase how one may use the Nowcast Library to generate dynamically lagged data based on wind, bearing and distance between two geographically situated locations using the `dynlag` and `gis` submodules of the Nowcast Library.\n",
    "\n",
    "\"Dynamically lagging\" in this context consists in dynamically shifting in time a particular quantity (\"DIMM Seeing [arcsec]\") measured at a source location (Paranal) to simulate the same quantity at a target location (Ventarrones). This shifting is dynamic because it depends on the wind measured at the source location, in particular how fast it is blowing and how aligned its direction is with the bearing between the source and the target locations. This is because it is assumed that the wind could transport the quantity in between sites."
   ]
  },
  {
   "cell_type": "markdown",
   "id": "hearing-pilot",
   "metadata": {},
   "source": [
    "## Imports"
   ]
  },
  {
   "cell_type": "code",
   "execution_count": 2,
   "id": "brief-python",
   "metadata": {},
   "outputs": [],
   "source": [
    "import pandas as pd\n",
    "import numpy as np\n",
    "import matplotlib.pyplot as plt\n",
    "import seaborn as sns\n",
    "import nowcastlib as ncl"
   ]
  },
  {
   "cell_type": "code",
   "execution_count": 3,
   "id": "uniform-dover",
   "metadata": {},
   "outputs": [],
   "source": [
    "sns.set_style(\"ticks\")\n",
    "sns.set_context(\"notebook\")"
   ]
  },
  {
   "cell_type": "code",
   "execution_count": 4,
   "id": "specified-daisy",
   "metadata": {},
   "outputs": [],
   "source": [
    "plt.close(\"all\")"
   ]
  },
  {
   "cell_type": "markdown",
   "id": "peaceful-leeds",
   "metadata": {},
   "source": [
    "## The Data"
   ]
  },
  {
   "cell_type": "markdown",
   "id": "eleven-announcement",
   "metadata": {},
   "source": [
    "### Time Series Data"
   ]
  },
  {
   "cell_type": "markdown",
   "id": "wicked-reputation",
   "metadata": {},
   "source": [
    "As alluded to earlier, dynamically lagging a quantity requires a time-series data-set with columns containing the quantity we wish to simulate, the wind speed and the wind direction. In our case, these quantities came from different datasets which therefore required synchronization. Since data synchronization is covered in [rawdata.ipynb](./rawdata.ipynb), we are omitting the synchronization process from this notebook and directly loading the interpolated synchronized data-frame along with the correctly sized gap mask that was produced in the process. Readers are strongly encouraged to read [rawdata.ipynb](./rawdata.ipynb) if they find themselves confused about this."
   ]
  },
  {
   "cell_type": "code",
   "execution_count": 5,
   "id": "fourth-rebate",
   "metadata": {},
   "outputs": [],
   "source": [
    "data_df = pd.read_csv(\n",
    "    \"data/output/wind_and_dimm.csv\",\n",
    "    usecols=[\n",
    "        \"Date time\",\n",
    "        \"Wind Speed at 30m [m/s]\",\n",
    "        \"Wind Direction at 30m (0/2pi) [rad]\",\n",
    "        \"Wind Direction at 30m (0/360) [deg]\",\n",
    "        \"DIMM Seeing [arcsec]\",\n",
    "        \"Target RA [deg]\",\n",
    "        \"Target DEC [deg]\",\n",
    "    ],\n",
    "    parse_dates=True,\n",
    "    index_col=\"Date time\",\n",
    ")\n",
    "data_df.index.freq = pd.infer_freq(data_df.index)"
   ]
  },
  {
   "cell_type": "code",
   "execution_count": 6,
   "id": "suburban-composition",
   "metadata": {},
   "outputs": [
    {
     "data": {
      "text/html": [
       "<div>\n",
       "<style scoped>\n",
       "    .dataframe tbody tr th:only-of-type {\n",
       "        vertical-align: middle;\n",
       "    }\n",
       "\n",
       "    .dataframe tbody tr th {\n",
       "        vertical-align: top;\n",
       "    }\n",
       "\n",
       "    .dataframe thead th {\n",
       "        text-align: right;\n",
       "    }\n",
       "</style>\n",
       "<table border=\"1\" class=\"dataframe\">\n",
       "  <thead>\n",
       "    <tr style=\"text-align: right;\">\n",
       "      <th></th>\n",
       "      <th>Target RA [deg]</th>\n",
       "      <th>Target DEC [deg]</th>\n",
       "      <th>DIMM Seeing [arcsec]</th>\n",
       "      <th>Wind Direction at 30m (0/360) [deg]</th>\n",
       "      <th>Wind Speed at 30m [m/s]</th>\n",
       "      <th>Wind Direction at 30m (0/2pi) [rad]</th>\n",
       "    </tr>\n",
       "    <tr>\n",
       "      <th>Date time</th>\n",
       "      <th></th>\n",
       "      <th></th>\n",
       "      <th></th>\n",
       "      <th></th>\n",
       "      <th></th>\n",
       "      <th></th>\n",
       "    </tr>\n",
       "  </thead>\n",
       "  <tbody>\n",
       "    <tr>\n",
       "      <th>2016-04-05 23:50:00</th>\n",
       "      <td>78.6333</td>\n",
       "      <td>-8.20167</td>\n",
       "      <td>1.0940</td>\n",
       "      <td>20.0</td>\n",
       "      <td>5.33</td>\n",
       "      <td>0.349066</td>\n",
       "    </tr>\n",
       "    <tr>\n",
       "      <th>2016-04-05 23:51:00</th>\n",
       "      <td>78.6333</td>\n",
       "      <td>-8.20167</td>\n",
       "      <td>1.1320</td>\n",
       "      <td>22.0</td>\n",
       "      <td>6.00</td>\n",
       "      <td>0.383972</td>\n",
       "    </tr>\n",
       "    <tr>\n",
       "      <th>2016-04-05 23:52:00</th>\n",
       "      <td>78.6333</td>\n",
       "      <td>-8.20167</td>\n",
       "      <td>1.2065</td>\n",
       "      <td>22.0</td>\n",
       "      <td>5.58</td>\n",
       "      <td>0.383972</td>\n",
       "    </tr>\n",
       "    <tr>\n",
       "      <th>2016-04-05 23:53:00</th>\n",
       "      <td>78.6333</td>\n",
       "      <td>-8.20167</td>\n",
       "      <td>1.2810</td>\n",
       "      <td>19.0</td>\n",
       "      <td>5.20</td>\n",
       "      <td>0.331613</td>\n",
       "    </tr>\n",
       "    <tr>\n",
       "      <th>2016-04-05 23:54:00</th>\n",
       "      <td>78.6333</td>\n",
       "      <td>-8.20167</td>\n",
       "      <td>1.0880</td>\n",
       "      <td>21.0</td>\n",
       "      <td>5.25</td>\n",
       "      <td>0.366519</td>\n",
       "    </tr>\n",
       "  </tbody>\n",
       "</table>\n",
       "</div>"
      ],
      "text/plain": [
       "                     Target RA [deg]  Target DEC [deg]  DIMM Seeing [arcsec]  \\\n",
       "Date time                                                                      \n",
       "2016-04-05 23:50:00          78.6333          -8.20167                1.0940   \n",
       "2016-04-05 23:51:00          78.6333          -8.20167                1.1320   \n",
       "2016-04-05 23:52:00          78.6333          -8.20167                1.2065   \n",
       "2016-04-05 23:53:00          78.6333          -8.20167                1.2810   \n",
       "2016-04-05 23:54:00          78.6333          -8.20167                1.0880   \n",
       "\n",
       "                     Wind Direction at 30m (0/360) [deg]  \\\n",
       "Date time                                                  \n",
       "2016-04-05 23:50:00                                 20.0   \n",
       "2016-04-05 23:51:00                                 22.0   \n",
       "2016-04-05 23:52:00                                 22.0   \n",
       "2016-04-05 23:53:00                                 19.0   \n",
       "2016-04-05 23:54:00                                 21.0   \n",
       "\n",
       "                     Wind Speed at 30m [m/s]  \\\n",
       "Date time                                      \n",
       "2016-04-05 23:50:00                     5.33   \n",
       "2016-04-05 23:51:00                     6.00   \n",
       "2016-04-05 23:52:00                     5.58   \n",
       "2016-04-05 23:53:00                     5.20   \n",
       "2016-04-05 23:54:00                     5.25   \n",
       "\n",
       "                     Wind Direction at 30m (0/2pi) [rad]  \n",
       "Date time                                                 \n",
       "2016-04-05 23:50:00                             0.349066  \n",
       "2016-04-05 23:51:00                             0.383972  \n",
       "2016-04-05 23:52:00                             0.383972  \n",
       "2016-04-05 23:53:00                             0.331613  \n",
       "2016-04-05 23:54:00                             0.366519  "
      ]
     },
     "execution_count": 6,
     "metadata": {},
     "output_type": "execute_result"
    }
   ],
   "source": [
    "# visualizing\n",
    "data_df.head()"
   ]
  },
  {
   "cell_type": "code",
   "execution_count": 7,
   "id": "perceived-airport",
   "metadata": {},
   "outputs": [],
   "source": [
    "final_mask = np.load(\"data/output/wind_and_dimm_mask.npy\")"
   ]
  },
  {
   "cell_type": "markdown",
   "id": "increased-trailer",
   "metadata": {},
   "source": [
    "### Geographical Data"
   ]
  },
  {
   "cell_type": "code",
   "execution_count": 8,
   "id": "english-company",
   "metadata": {},
   "outputs": [],
   "source": [
    "# constants\n",
    "PARANAL_LAT_LON = np.array([-24.6272, -70.4039])\n",
    "VENTARRONES_LAT_LON = np.array([-24.351867, -70.224139])\n",
    "EARTH_RADIUS_M = 6.3710e6  # using mean radius"
   ]
  },
  {
   "cell_type": "code",
   "execution_count": 9,
   "id": "italian-arrow",
   "metadata": {},
   "outputs": [],
   "source": [
    "# collect Lat and Long coords of sites into single Dataframe\n",
    "coords_df = pd.DataFrame(\n",
    "    np.array([PARANAL_LAT_LON, VENTARRONES_LAT_LON]),\n",
    "    columns=[\"Latitude\", \"Longitude\"],\n",
    "    index=[\"Paranal\", \"Ventarrones\"],\n",
    ")"
   ]
  },
  {
   "cell_type": "markdown",
   "id": "lonely-alliance",
   "metadata": {},
   "source": [
    "## Processing"
   ]
  },
  {
   "cell_type": "markdown",
   "id": "extra-tragedy",
   "metadata": {},
   "source": [
    "### Further Geographical Calculations"
   ]
  },
  {
   "cell_type": "markdown",
   "id": "included-playlist",
   "metadata": {},
   "source": [
    "Here we make use of Nowcast Library's `gis` submodule to calculate the distance between our two sites, as well as the bearing from the source to the target.\n",
    "\n",
    "We will need these quantities to determine how aligned the wind is with the bearing and how far it will be transporting whatever quantity we are simulating."
   ]
  },
  {
   "cell_type": "code",
   "execution_count": 10,
   "id": "front-example",
   "metadata": {},
   "outputs": [
    {
     "data": {
      "text/html": [
       "<div>\n",
       "<style scoped>\n",
       "    .dataframe tbody tr th:only-of-type {\n",
       "        vertical-align: middle;\n",
       "    }\n",
       "\n",
       "    .dataframe tbody tr th {\n",
       "        vertical-align: top;\n",
       "    }\n",
       "\n",
       "    .dataframe thead th {\n",
       "        text-align: right;\n",
       "    }\n",
       "</style>\n",
       "<table border=\"1\" class=\"dataframe\">\n",
       "  <thead>\n",
       "    <tr style=\"text-align: right;\">\n",
       "      <th></th>\n",
       "      <th>Latitude</th>\n",
       "      <th>Longitude</th>\n",
       "      <th>GCD to Ventarrones [m]</th>\n",
       "      <th>Initial Bearing to Ventarrones [radians]</th>\n",
       "      <th>Initial Bearing to Ventarrones [°]</th>\n",
       "      <th>bearing_i</th>\n",
       "      <th>bearing_j</th>\n",
       "    </tr>\n",
       "  </thead>\n",
       "  <tbody>\n",
       "    <tr>\n",
       "      <th>Paranal</th>\n",
       "      <td>-24.627200</td>\n",
       "      <td>-70.403900</td>\n",
       "      <td>35611.82887</td>\n",
       "      <td>0.536758</td>\n",
       "      <td>30.753976</td>\n",
       "      <td>0.511353</td>\n",
       "      <td>0.859371</td>\n",
       "    </tr>\n",
       "    <tr>\n",
       "      <th>Ventarrones</th>\n",
       "      <td>-24.351867</td>\n",
       "      <td>-70.224139</td>\n",
       "      <td>0.00000</td>\n",
       "      <td>0.000000</td>\n",
       "      <td>0.000000</td>\n",
       "      <td>0.000000</td>\n",
       "      <td>0.000000</td>\n",
       "    </tr>\n",
       "  </tbody>\n",
       "</table>\n",
       "</div>"
      ],
      "text/plain": [
       "              Latitude  Longitude  GCD to Ventarrones [m]  \\\n",
       "Paranal     -24.627200 -70.403900             35611.82887   \n",
       "Ventarrones -24.351867 -70.224139                 0.00000   \n",
       "\n",
       "             Initial Bearing to Ventarrones [radians]  \\\n",
       "Paranal                                      0.536758   \n",
       "Ventarrones                                  0.000000   \n",
       "\n",
       "             Initial Bearing to Ventarrones [°]  bearing_i  bearing_j  \n",
       "Paranal                               30.753976   0.511353   0.859371  \n",
       "Ventarrones                            0.000000   0.000000   0.000000  "
      ]
     },
     "execution_count": 10,
     "metadata": {},
     "output_type": "execute_result"
    }
   ],
   "source": [
    "# Calculate great circle distance to Ventarrones\n",
    "orientation_df = coords_df.copy()\n",
    "orientation_df[\"GCD to Ventarrones [m]\"] = coords_df.apply(\n",
    "    lambda x: ncl.gis.great_circle_distance(\n",
    "        x, coords_df.loc[\"Ventarrones\"][[\"Latitude\", \"Longitude\"]], EARTH_RADIUS_M\n",
    "    ),\n",
    "    axis=1,\n",
    ")\n",
    "# Calculate initial bearing to Ventarrones\n",
    "orientation_df[\"Initial Bearing to Ventarrones [radians]\"] = coords_df.apply(\n",
    "    lambda x: ncl.gis.initial_bearing(\n",
    "        x, coords_df.loc[\"Ventarrones\"][[\"Latitude\", \"Longitude\"]]\n",
    "    ),\n",
    "    axis=1,\n",
    ")\n",
    "# Get Degrees equivalent of bearing\n",
    "orientation_df[\"Initial Bearing to Ventarrones [°]\"] = np.rad2deg(\n",
    "    orientation_df[\"Initial Bearing to Ventarrones [radians]\"]\n",
    ")\n",
    "# Get Unit vector from bearing. Use inverted trig because bearing is measured from North\n",
    "orientation_df[\"bearing_i\"] = [\n",
    "    np.sin(orientation_df.loc[\"Paranal\"][\"Initial Bearing to Ventarrones [radians]\"]),\n",
    "    0,\n",
    "]\n",
    "orientation_df[\"bearing_j\"] = [\n",
    "    np.cos(orientation_df.loc[\"Paranal\"][\"Initial Bearing to Ventarrones [radians]\"]),\n",
    "    0,\n",
    "]\n",
    "# show data\n",
    "orientation_df"
   ]
  },
  {
   "cell_type": "markdown",
   "id": "instrumental-concentration",
   "metadata": {},
   "source": [
    "### Calculating wind alignment"
   ]
  },
  {
   "cell_type": "markdown",
   "id": "aboriginal-blanket",
   "metadata": {},
   "source": [
    "We can now calculate how aligned the wind is with the bearing from Paranal to Ventarrones by breaking down the wind direction in a unit vector component and then taking the dot product with the bearing unit vector"
   ]
  },
  {
   "cell_type": "code",
   "execution_count": 11,
   "id": "recorded-curtis",
   "metadata": {},
   "outputs": [],
   "source": [
    "# Unit vector components of wind. Use inverted trig because bearing is measured from North\n",
    "data_df[\"wind_vector_i\"] = np.sin(\n",
    "    data_df[\"Wind Direction at 30m (0/2pi) [rad]\"]\n",
    ")\n",
    "data_df[\"wind_vector_j\"] = np.cos(\n",
    "    data_df[\"Wind Direction at 30m (0/2pi) [rad]\"]\n",
    ")\n",
    "# dot product\n",
    "data_df[\"wind_alignment\"] = np.multiply(\n",
    "    orientation_df.loc[\"Paranal\"][[\"bearing_i\", \"bearing_j\"]].values,\n",
    "    data_df[[\"wind_vector_i\", \"wind_vector_j\"]].values,\n",
    ").sum(axis=1)"
   ]
  },
  {
   "cell_type": "markdown",
   "id": "applicable-climate",
   "metadata": {},
   "source": [
    "This gives us the new `wind_alignment` column"
   ]
  },
  {
   "cell_type": "code",
   "execution_count": 12,
   "id": "therapeutic-cambodia",
   "metadata": {},
   "outputs": [
    {
     "data": {
      "text/html": [
       "<div>\n",
       "<style scoped>\n",
       "    .dataframe tbody tr th:only-of-type {\n",
       "        vertical-align: middle;\n",
       "    }\n",
       "\n",
       "    .dataframe tbody tr th {\n",
       "        vertical-align: top;\n",
       "    }\n",
       "\n",
       "    .dataframe thead th {\n",
       "        text-align: right;\n",
       "    }\n",
       "</style>\n",
       "<table border=\"1\" class=\"dataframe\">\n",
       "  <thead>\n",
       "    <tr style=\"text-align: right;\">\n",
       "      <th></th>\n",
       "      <th>Target RA [deg]</th>\n",
       "      <th>Target DEC [deg]</th>\n",
       "      <th>DIMM Seeing [arcsec]</th>\n",
       "      <th>Wind Direction at 30m (0/360) [deg]</th>\n",
       "      <th>Wind Speed at 30m [m/s]</th>\n",
       "      <th>Wind Direction at 30m (0/2pi) [rad]</th>\n",
       "      <th>wind_vector_i</th>\n",
       "      <th>wind_vector_j</th>\n",
       "      <th>wind_alignment</th>\n",
       "    </tr>\n",
       "    <tr>\n",
       "      <th>Date time</th>\n",
       "      <th></th>\n",
       "      <th></th>\n",
       "      <th></th>\n",
       "      <th></th>\n",
       "      <th></th>\n",
       "      <th></th>\n",
       "      <th></th>\n",
       "      <th></th>\n",
       "      <th></th>\n",
       "    </tr>\n",
       "  </thead>\n",
       "  <tbody>\n",
       "    <tr>\n",
       "      <th>2016-04-05 23:50:00</th>\n",
       "      <td>78.6333</td>\n",
       "      <td>-8.20167</td>\n",
       "      <td>1.0940</td>\n",
       "      <td>20.0</td>\n",
       "      <td>5.33</td>\n",
       "      <td>0.349066</td>\n",
       "      <td>0.342020</td>\n",
       "      <td>0.939693</td>\n",
       "      <td>0.982437</td>\n",
       "    </tr>\n",
       "    <tr>\n",
       "      <th>2016-04-05 23:51:00</th>\n",
       "      <td>78.6333</td>\n",
       "      <td>-8.20167</td>\n",
       "      <td>1.1320</td>\n",
       "      <td>22.0</td>\n",
       "      <td>6.00</td>\n",
       "      <td>0.383972</td>\n",
       "      <td>0.374606</td>\n",
       "      <td>0.927184</td>\n",
       "      <td>0.988351</td>\n",
       "    </tr>\n",
       "    <tr>\n",
       "      <th>2016-04-05 23:52:00</th>\n",
       "      <td>78.6333</td>\n",
       "      <td>-8.20167</td>\n",
       "      <td>1.2065</td>\n",
       "      <td>22.0</td>\n",
       "      <td>5.58</td>\n",
       "      <td>0.383972</td>\n",
       "      <td>0.374606</td>\n",
       "      <td>0.927184</td>\n",
       "      <td>0.988351</td>\n",
       "    </tr>\n",
       "    <tr>\n",
       "      <th>2016-04-05 23:53:00</th>\n",
       "      <td>78.6333</td>\n",
       "      <td>-8.20167</td>\n",
       "      <td>1.2810</td>\n",
       "      <td>19.0</td>\n",
       "      <td>5.20</td>\n",
       "      <td>0.331613</td>\n",
       "      <td>0.325569</td>\n",
       "      <td>0.945518</td>\n",
       "      <td>0.979031</td>\n",
       "    </tr>\n",
       "    <tr>\n",
       "      <th>2016-04-05 23:54:00</th>\n",
       "      <td>78.6333</td>\n",
       "      <td>-8.20167</td>\n",
       "      <td>1.0880</td>\n",
       "      <td>21.0</td>\n",
       "      <td>5.25</td>\n",
       "      <td>0.366519</td>\n",
       "      <td>0.358368</td>\n",
       "      <td>0.933580</td>\n",
       "      <td>0.985544</td>\n",
       "    </tr>\n",
       "  </tbody>\n",
       "</table>\n",
       "</div>"
      ],
      "text/plain": [
       "                     Target RA [deg]  Target DEC [deg]  DIMM Seeing [arcsec]  \\\n",
       "Date time                                                                      \n",
       "2016-04-05 23:50:00          78.6333          -8.20167                1.0940   \n",
       "2016-04-05 23:51:00          78.6333          -8.20167                1.1320   \n",
       "2016-04-05 23:52:00          78.6333          -8.20167                1.2065   \n",
       "2016-04-05 23:53:00          78.6333          -8.20167                1.2810   \n",
       "2016-04-05 23:54:00          78.6333          -8.20167                1.0880   \n",
       "\n",
       "                     Wind Direction at 30m (0/360) [deg]  \\\n",
       "Date time                                                  \n",
       "2016-04-05 23:50:00                                 20.0   \n",
       "2016-04-05 23:51:00                                 22.0   \n",
       "2016-04-05 23:52:00                                 22.0   \n",
       "2016-04-05 23:53:00                                 19.0   \n",
       "2016-04-05 23:54:00                                 21.0   \n",
       "\n",
       "                     Wind Speed at 30m [m/s]  \\\n",
       "Date time                                      \n",
       "2016-04-05 23:50:00                     5.33   \n",
       "2016-04-05 23:51:00                     6.00   \n",
       "2016-04-05 23:52:00                     5.58   \n",
       "2016-04-05 23:53:00                     5.20   \n",
       "2016-04-05 23:54:00                     5.25   \n",
       "\n",
       "                     Wind Direction at 30m (0/2pi) [rad]  wind_vector_i  \\\n",
       "Date time                                                                 \n",
       "2016-04-05 23:50:00                             0.349066       0.342020   \n",
       "2016-04-05 23:51:00                             0.383972       0.374606   \n",
       "2016-04-05 23:52:00                             0.383972       0.374606   \n",
       "2016-04-05 23:53:00                             0.331613       0.325569   \n",
       "2016-04-05 23:54:00                             0.366519       0.358368   \n",
       "\n",
       "                     wind_vector_j  wind_alignment  \n",
       "Date time                                           \n",
       "2016-04-05 23:50:00       0.939693        0.982437  \n",
       "2016-04-05 23:51:00       0.927184        0.988351  \n",
       "2016-04-05 23:52:00       0.927184        0.988351  \n",
       "2016-04-05 23:53:00       0.945518        0.979031  \n",
       "2016-04-05 23:54:00       0.933580        0.985544  "
      ]
     },
     "execution_count": 12,
     "metadata": {},
     "output_type": "execute_result"
    }
   ],
   "source": [
    "data_df.head()"
   ]
  },
  {
   "cell_type": "markdown",
   "id": "incredible-macro",
   "metadata": {},
   "source": [
    "### Calculate Dynamic Lag and Simulate Perturbations"
   ]
  },
  {
   "cell_type": "markdown",
   "id": "graduate-battle",
   "metadata": {},
   "source": [
    "We can now simulate our new data by dynamically lagging. Once we have dynamically shifted the data, our work is not done: we need to also simulate some perturbations as the data is perturbed by differences in terrain and instrument while traveling from site to site. To do this we add a mixture of red and white noise, at a particular SNR specified in decibels. The `dynlag` submodule of the Nowcast Library takes care of this."
   ]
  },
  {
   "cell_type": "markdown",
   "id": "identical-scale",
   "metadata": {},
   "source": [
    "#### Dynamic Lag"
   ]
  },
  {
   "cell_type": "code",
   "execution_count": 13,
   "id": "automatic-drill",
   "metadata": {},
   "outputs": [],
   "source": [
    "data_df[\"Ventarrones Seeing [arcsec]\"] = ncl.dynlag.dynamically_lag(\n",
    "    data_df[\"DIMM Seeing [arcsec]\"],\n",
    "    data_df[\"Wind Speed at 30m [m/s]\"],\n",
    "    data_df[\"wind_alignment\"],\n",
    "    orientation_df.loc[\"Paranal\"][\"GCD to Ventarrones [m]\"],\n",
    ")"
   ]
  },
  {
   "cell_type": "markdown",
   "id": "shaped-quantum",
   "metadata": {},
   "source": [
    "#### Perturbations"
   ]
  },
  {
   "cell_type": "code",
   "execution_count": 14,
   "id": "eastern-ethnic",
   "metadata": {},
   "outputs": [],
   "source": [
    "data_df[\"Ventarrones Seeing [arcsec]\"], (\n",
    "    red_noise,\n",
    "    white_noise,\n",
    ") = ncl.dynlag.simulate_perturbations(\n",
    "    data_df[\"Ventarrones Seeing [arcsec]\"],\n",
    "    snr_db=16,\n",
    "    rn_comp_len=600,\n",
    "    allow_neg=False,\n",
    ")"
   ]
  },
  {
   "cell_type": "markdown",
   "id": "careful-buffalo",
   "metadata": {},
   "source": [
    "### Final Cleanup"
   ]
  },
  {
   "cell_type": "code",
   "execution_count": 15,
   "id": "sacred-words",
   "metadata": {},
   "outputs": [],
   "source": [
    "# apply the mask tracking large gaps we found earlier\n",
    "chunked_df = data_df.where(final_mask)"
   ]
  },
  {
   "cell_type": "markdown",
   "id": "statistical-harvest",
   "metadata": {},
   "source": [
    "### Visually testing\n",
    "\n",
    "Plotting a random chunk"
   ]
  },
  {
   "cell_type": "code",
   "execution_count": 16,
   "id": "prescription-indian",
   "metadata": {},
   "outputs": [
    {
     "data": {
      "application/vnd.jupyter.widget-view+json": {
       "model_id": "798c96f2ebec4f9f9572d63c0e10d0b6",
       "version_major": 2,
       "version_minor": 0
      },
      "text/plain": [
       "Canvas(toolbar=Toolbar(toolitems=[('Home', 'Reset original view', 'home', 'home'), ('Back', 'Back to previous …"
      ]
     },
     "metadata": {},
     "output_type": "display_data"
    }
   ],
   "source": [
    "f, (ax1, ax2, ax3, ax4, ax5) = plt.subplots(5, 1, sharex=True, figsize=(14, 10))\n",
    "ax1.plot(\n",
    "    chunked_df[\"DIMM Seeing [arcsec]\"][10100:10689],\n",
    "    label=\"paranal seeing\",\n",
    "    color=\"darkblue\",\n",
    ")\n",
    "ax1.plot(\n",
    "    chunked_df[\"Ventarrones Seeing [arcsec]\"][10100:10689],\n",
    "    label=\"Ventarrones seeing\",\n",
    "    color=\"darkred\",\n",
    ")\n",
    "ax1.set_ylabel(\"DIMM Seeing [arcsec]\")\n",
    "ax1.legend()\n",
    "\n",
    "ax2.plot(\n",
    "    chunked_df[\"DIMM Seeing [arcsec]\"].index[10100:10689],\n",
    "    red_noise[10100:10689],\n",
    "    label=\"red noise\",\n",
    "    color=\"darkred\",\n",
    ")\n",
    "ax2.plot(\n",
    "    chunked_df[\"DIMM Seeing [arcsec]\"].index[10100:10689],\n",
    "    white_noise[10100:10689],\n",
    "    label=\"white noise\",\n",
    "    color=\"blue\",\n",
    "    linewidth=0.4,\n",
    ")\n",
    "ax2.set_ylim([-1, 1])\n",
    "ax2.legend()\n",
    "\n",
    "\n",
    "ax3.plot(\n",
    "    chunked_df[\"Wind Direction at 30m (0/360) [deg]\"][10100:10689],\n",
    "    label=\"Wind direction\",\n",
    "    color=\"darkgreen\",\n",
    ")\n",
    "ax3.set_ylabel(\"° from N\")\n",
    "ax3.legend()\n",
    "\n",
    "ax4.plot(\n",
    "    chunked_df[\"wind_alignment\"][10100:10689],\n",
    "    label=\"Wind alignment\",\n",
    "    color=\"grey\",\n",
    ")\n",
    "ax4.legend()\n",
    "\n",
    "ax5.plot(\n",
    "    chunked_df[\"Wind Speed at 30m [m/s]\"][10100:10689],\n",
    "    label=\"Wind speed\",\n",
    "    color=\"black\",\n",
    ")\n",
    "ax5.set_ylabel(\"Speed [m/s]\")\n",
    "ax5.set_xlabel(\"Time [MM-DD HH]\")\n",
    "ax5.legend()\n",
    "f.suptitle(\"Random chunk of data. X axis is shared.\")\n",
    "f.set_tight_layout(True)\n",
    "plt.show()"
   ]
  },
  {
   "cell_type": "markdown",
   "id": "tight-original",
   "metadata": {},
   "source": [
    "Above we are plotting a random chunk of the data. We can see that indeed we have managed to dynamically shift the Paranal data based on the wind speed, and also apply some noise to simulate perturbations."
   ]
  },
  {
   "cell_type": "markdown",
   "id": "ongoing-glucose",
   "metadata": {},
   "source": [
    "## Conclusion"
   ]
  },
  {
   "cell_type": "markdown",
   "id": "experimental-wealth",
   "metadata": {},
   "source": [
    "We have successfully simulated data at Ventarrones by dynamically shifting data at Paranal given the wind speed and direction at Paranal and the two sites' geographical coordinates. To do this we made use of functions from the `gis` and `dynlag` submodules of the Nowcast Library"
   ]
  }
 ],
 "metadata": {
  "kernelspec": {
   "display_name": "Python 3",
   "language": "python",
   "name": "python3"
  },
  "language_info": {
   "codemirror_mode": {
    "name": "ipython",
    "version": 3
   },
   "file_extension": ".py",
   "mimetype": "text/x-python",
   "name": "python",
   "nbconvert_exporter": "python",
   "pygments_lexer": "ipython3",
   "version": "3.6.9"
  },
  "toc-autonumbering": false,
  "toc-showcode": false,
  "toc-showmarkdowntxt": false,
  "toc-showtags": false
 },
 "nbformat": 4,
 "nbformat_minor": 5
}
