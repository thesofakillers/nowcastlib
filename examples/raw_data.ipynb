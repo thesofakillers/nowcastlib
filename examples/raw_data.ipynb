{
 "cells": [
  {
   "cell_type": "markdown",
   "id": "considerable-elizabeth",
   "metadata": {},
   "source": [
    "# Processing Raw Data"
   ]
  },
  {
   "cell_type": "markdown",
   "id": "modular-pennsylvania",
   "metadata": {},
   "source": [
    "This notebook will showcase how one may use the Nowcast Library to process raw time series data, particularly with regards to synchronizing data sets coming from different data sources."
   ]
  },
  {
   "cell_type": "markdown",
   "id": "substantial-visitor",
   "metadata": {},
   "source": [
    "## Imports"
   ]
  },
  {
   "cell_type": "code",
   "execution_count": 91,
   "id": "measured-quest",
   "metadata": {},
   "outputs": [],
   "source": [
    "import datetime\n",
    "import numpy as np\n",
    "import pandas as pd"
   ]
  },
  {
   "cell_type": "markdown",
   "id": "excited-pulse",
   "metadata": {},
   "source": [
    "## The Data"
   ]
  },
  {
   "cell_type": "markdown",
   "id": "advance-google",
   "metadata": {},
   "source": [
    "To make this notebook independent of external data, let's generate our own. We will generate data from 3 different data sources, and then work with that. The data will have different sample rates, perhaps even be irregular, and will be missing data at different time period."
   ]
  },
  {
   "cell_type": "markdown",
   "id": "metropolitan-afghanistan",
   "metadata": {},
   "source": [
    "First, let's define a function for generating data"
   ]
  },
  {
   "cell_type": "code",
   "execution_count": 94,
   "id": "quick-diabetes",
   "metadata": {},
   "outputs": [],
   "source": [
    "def generate_data(\n",
    "    sr_secs,\n",
    "    start_date,\n",
    "    end_date,\n",
    "    n_cols=1,\n",
    "    sr_stdev=0,\n",
    "    gap_frequency=0,\n",
    "    gap_size=0,\n",
    "    gap_size_stdev=0,\n",
    "):\n",
    "    \"\"\"\n",
    "    Generates time series data\n",
    "\n",
    "    Parameters\n",
    "    ----------\n",
    "    sr_secs : int\n",
    "        The number of seconds between each data point\n",
    "    start_date : string or datetime.datetime or numpy.datetime64\n",
    "        When the generated time series should start\n",
    "    end_date : string or datetime.datetime or numpy.datetime64\n",
    "        When the generated time series should end\n",
    "    n_cols : int, default 1\n",
    "        The number of columns the resulting dataframe should have\n",
    "    sr_var : number, default 0\n",
    "        The standard deviation in seconds the sample rate should have,\n",
    "        if an irregular sample rate is desired\n",
    "    gap_frequency: int, default 0\n",
    "        Every how many time steps should a gap occur\n",
    "    gap_size : int, default 0\n",
    "        How many seconds a gap should be long\n",
    "    gap_size_stdev: number, default 0\n",
    "        The standard deviation in gap size, if the gap size should be irregular\n",
    "\n",
    "    Returns\n",
    "    -------\n",
    "    pandas.core.frame.DataFrame\n",
    "        Time-indexed pandas dataframe containing the generated data\n",
    "    \"\"\"\n",
    "    regular_tsteps = np.arange(\n",
    "        start_date, end_date, step=np.timedelta64(sr_secs, \"s\"), dtype=\"datetime64[ms]\"\n",
    "    )\n",
    "    n_tsteps = len(regular_tsteps)\n",
    "    tsteps = regular_tsteps\n",
    "    if sr_stdev != 0:\n",
    "        deviations = (\n",
    "            np.random.normal(sr_secs, sr_stdev, n_tsteps - 2) - sr_secs\n",
    "        ) * 1000\n",
    "        tsteps[1:-1] += deviations.astype(int)\n",
    "    return tsteps"
   ]
  },
  {
   "cell_type": "code",
   "execution_count": 96,
   "id": "optional-cylinder",
   "metadata": {},
   "outputs": [
    {
     "data": {
      "text/plain": [
       "array(['2020-01-01T00:00:00.000', '2020-01-01T01:59:35.834',\n",
       "       '2020-01-01T03:55:23.195', '2020-01-01T05:58:09.889',\n",
       "       '2020-01-01T07:57:34.317', '2020-01-01T09:57:28.770',\n",
       "       '2020-01-01T12:02:14.331', '2020-01-01T14:06:14.509',\n",
       "       '2020-01-01T16:02:16.319', '2020-01-01T17:52:14.415',\n",
       "       '2020-01-01T19:50:19.448', '2020-01-01T22:03:58.369',\n",
       "       '2020-01-01T23:54:25.553', '2020-01-02T02:01:53.683',\n",
       "       '2020-01-02T04:09:56.193', '2020-01-02T06:02:48.136',\n",
       "       '2020-01-02T08:00:51.973', '2020-01-02T10:06:53.448',\n",
       "       '2020-01-02T11:56:26.275', '2020-01-02T13:59:26.299',\n",
       "       '2020-01-02T16:11:07.617', '2020-01-02T17:52:34.546',\n",
       "       '2020-01-02T19:58:12.780', '2020-01-02T22:01:53.774',\n",
       "       '2020-01-03T00:00:00.000'], dtype='datetime64[ms]')"
      ]
     },
     "execution_count": 96,
     "metadata": {},
     "output_type": "execute_result"
    }
   ],
   "source": [
    "generate_data(7200, \"2020-01-01\", \"2020-01-03 02:00:00\", 1, 300)"
   ]
  }
 ],
 "metadata": {
  "kernelspec": {
   "display_name": "Python 3",
   "language": "python",
   "name": "python3"
  },
  "language_info": {
   "codemirror_mode": {
    "name": "ipython",
    "version": 3
   },
   "file_extension": ".py",
   "mimetype": "text/x-python",
   "name": "python",
   "nbconvert_exporter": "python",
   "pygments_lexer": "ipython3",
   "version": "3.6.9"
  }
 },
 "nbformat": 4,
 "nbformat_minor": 5
}
