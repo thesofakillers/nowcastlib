{
 "cells": [
  {
   "cell_type": "markdown",
   "id": "f466798b-7775-4309-8670-17cea5d192b9",
   "metadata": {
    "tags": []
   },
   "source": [
    "# Nowcast Library Pipeline - A Tutorial"
   ]
  },
  {
   "cell_type": "markdown",
   "id": "0bfe54d9-6951-4c84-9353-b1bfeacae923",
   "metadata": {},
   "source": [
    "The Nowcast Library Pipeline is intended as a holistic yet modular system for processing and synchronizing data, fitting models to it, and evaluating these models.\n",
    "\n",
    "This notebook will provide users with an example of how one may use the library, along with a description of the available functionality."
   ]
  },
  {
   "cell_type": "markdown",
   "id": "33da8b5e-c0a6-43c9-a96f-7a2cc8963169",
   "metadata": {},
   "source": [
    "## Preliminary Notes "
   ]
  },
  {
   "cell_type": "markdown",
   "id": "16c5e289-a002-4576-a8a3-5b36ba09a999",
   "metadata": {},
   "source": [
    "The pipeline is primarily intended to be used via the command line. As such this notebook will mostly make calls to the command line. In Jupyter Notebooks, this is done by adding an exclamation mark prefix to the prompt, as such:\n",
    "\n",
    "---"
   ]
  },
  {
   "cell_type": "code",
   "execution_count": 1,
   "id": "406a1ffb-4d2e-4f92-bc8f-d74f459d78b6",
   "metadata": {},
   "outputs": [
    {
     "name": "stdout",
     "output_type": "stream",
     "text": [
      "usage: nowcastlib [-h] [-v]\n",
      "                  {triangulate,preprocess,sync,postprocess,splitprocess,datapipe}\n",
      "                  ...\n",
      "\n",
      "positional arguments:\n",
      "  {triangulate,preprocess,sync,postprocess,splitprocess,datapipe}\n",
      "                        available commands\n",
      "    triangulate         Run `nowcastlib triangulate -h` for further help\n",
      "    preprocess          Run `nowcastlib preprocess -h` for further help\n",
      "    sync                Run `nowcastlib sync -h` for further help\n",
      "    postprocess         Run `nowcastlib postprocess -h` for further help\n",
      "    splitprocess        Run `nowcastlib splitprocess -h` for further help\n",
      "    datapipe            Run `nowcastlib datapipe -h` for further help\n",
      "\n",
      "optional arguments:\n",
      "  -h, --help            show this help message and exit\n",
      "  -v, --verbose         increase verbosity level from INFO to DEBUG\n"
     ]
    }
   ],
   "source": [
    "!nowcastlib -h"
   ]
  },
  {
   "cell_type": "markdown",
   "id": "1244a132-d736-4e49-8e02-78e79a732b6e",
   "metadata": {},
   "source": [
    "---\n",
    "Users should therefore take note not to copy the exclamation mark when copying with the intention of pasting example prompts into their own terminal."
   ]
  },
  {
   "cell_type": "markdown",
   "id": "cee62beb-2717-434d-a56d-469dc5b94742",
   "metadata": {},
   "source": [
    "## Configuration"
   ]
  },
  {
   "cell_type": "markdown",
   "id": "7cd98ff1-90f5-4abb-9449-4c860c40a3be",
   "metadata": {},
   "source": [
    "If we ask for help with any of the pipeline cli commands, we will notice that the pipeline only takes a single argument to run:\n",
    "\n",
    "---"
   ]
  },
  {
   "cell_type": "code",
   "execution_count": 2,
   "id": "f55f4bfc-3ccb-4d83-a90d-192771970204",
   "metadata": {},
   "outputs": [
    {
     "name": "stdout",
     "output_type": "stream",
     "text": [
      "usage: nowcastlib datapipe [-h] -c CONFIG\n",
      "\n",
      "Run the data-wrangling pipeline step: Preprocessing, Synchronization and\n",
      "Postprocessing\n",
      "\n",
      "optional arguments:\n",
      "  -h, --help            show this help message and exit\n",
      "  -c CONFIG, --config CONFIG\n",
      "                        path to JSON file following the DataSet format. See\n",
      "                        docs for available fields\n"
     ]
    }
   ],
   "source": [
    "!nowcastlib datapipe -h"
   ]
  },
  {
   "cell_type": "markdown",
   "id": "481fbfd6-877d-4e49-96a7-54b83ffb3fd3",
   "metadata": {},
   "source": [
    "---\n",
    "\n",
    "Namely `-c` or `--config`, the path to a JSON file containing the desired configuration for our pipeline command.\n",
    "\n",
    "The \"schema\" for this configuration file can be inferred from the custom classes or \"structs\" defined in the nowcastlib.pipeline.structs.config submodule, with documentation available [here](https://www.giuliostarace.com/nowcastlib/pipeline/structs/config). \n",
    "\n",
    "Any JSON configuration will essentially be a representation of an instance of the `DataSet` class, with additional sub-classes (for more granular configuration) defined within."
   ]
  },
  {
   "cell_type": "markdown",
   "id": "d9fd81e2-4522-4799-ba5d-73e6a49f2213",
   "metadata": {},
   "source": [
    "## Example Config"
   ]
  },
  {
   "cell_type": "markdown",
   "id": "24b074da-39d3-420e-a530-b31b3e7ce33a",
   "metadata": {},
   "source": [
    "Let's explore the available configuration options by gradually building a `DataSet` JSON object. If we look at the `DataSet` class we see that we can represent a (very bare) `DataSet` instance with the following JSON:"
   ]
  },
  {
   "cell_type": "markdown",
   "id": "cb8593da-96cf-4ff3-a9a9-50ebeac05ebe",
   "metadata": {},
   "source": [
    "```JSON\n",
    "{\n",
    "    \"data_sources\":[],\n",
    "    \"sync_options\":null,\n",
    "    \"postprocessing_output\":null,\n",
    "    \"split_options\": null,\n",
    "    \"generated_fields\": null\n",
    "}\n",
    "```"
   ]
  },
  {
   "cell_type": "markdown",
   "id": "6df66bbf-46ad-4b21-b2b3-20ee21e2a921",
   "metadata": {},
   "source": [
    "### DataSources"
   ]
  },
  {
   "cell_type": "markdown",
   "id": "ed540f07-3f16-42a5-bb5f-33c2e2aead6e",
   "metadata": {},
   "source": [
    "Any `DataSet` instance will need to list the `DataSource`s comprising it. This is specified via the `data_sources` key. The other keys are for additional \n",
    "configuration, which the user may even omit (omitting will default them to null, or `NoneType` as referred to in the documentation). We will get to these later. \n",
    "\n",
    "Let's start by specifying two data sources, La Silla DIMM and La Silla Meteo."
   ]
  },
  {
   "cell_type": "markdown",
   "id": "059b7b2a-6111-4cd1-a8f3-c41bd48f00ab",
   "metadata": {},
   "source": [
    "```JSON\n",
    "{\n",
    "    \"data_sources\": [\n",
    "        {\n",
    "            \"name\": \"lso_dimm\",\n",
    "            \"path\": \"data/LSO/lasilla_dimm.csv\",\n",
    "            \"fields\": [],\n",
    "            \"comment_format\": \"#\",\n",
    "        },\n",
    "        {\n",
    "            \"name\": \"lso_meteo\",\n",
    "            \"path\": \"data/LSO/lasilla_meteo.csv\",\n",
    "            \"fields\": [],\n",
    "            \"comment_format\": \"#\",\n",
    "        },\n",
    "    ],\n",
    "}\n",
    "```"
   ]
  },
  {
   "cell_type": "markdown",
   "id": "8c60d68d-8a5c-426b-9a1f-b1e6012818a8",
   "metadata": {},
   "source": [
    "### RawFields"
   ]
  },
  {
   "cell_type": "markdown",
   "id": "98f3cc53-ad53-4f1f-9594-89a309ccf112",
   "metadata": {},
   "source": [
    "For each `DataSource`, we then also have to specify what fields (columns) we are interested in, and what to do with them. We do this by listing `RawField` objects under the `fields` key of each `DataSource`:"
   ]
  },
  {
   "cell_type": "markdown",
   "id": "5ef7f956-aed9-42de-9701-1e6172392113",
   "metadata": {},
   "source": [
    "```JSON\n",
    "{\n",
    "   \"data_sources\":[\n",
    "      {\n",
    "         \"name\":\"lso_dimm\",\n",
    "         \"path\":\"data/LSO/lasilla_dimm.csv\",\n",
    "         \"fields\":[\n",
    "            {\n",
    "               \"field_name\":\"Date time\",\n",
    "               \"is_date\":true\n",
    "            },\n",
    "            {\n",
    "               \"field_name\":\"DIMM Seeing [arcsec]\"\n",
    "            }\n",
    "         ],\n",
    "         \"comment_format\":\"#\"\n",
    "      },\n",
    "      {\n",
    "         \"name\":\"lso_meteo\",\n",
    "         \"path\":\"data/LSO/lasilla_meteo.csv\",\n",
    "         \"fields\":[\n",
    "            {\n",
    "               \"field_name\":\"Date time\",\n",
    "               \"is_date\":true\n",
    "            },\n",
    "            {\n",
    "               \"field_name\":\"Wind Speed at 10m [m/s]\"\n",
    "            },\n",
    "            {\n",
    "               \"field_name\":\"Wind Direction at 10m [deg]\"\n",
    "            }\n",
    "         ],\n",
    "         \"comment_format\":\"#\"\n",
    "      }\n",
    "   ]\n",
    "}\n",
    "```"
   ]
  },
  {
   "cell_type": "markdown",
   "id": "5c6f7eec-6770-4300-818b-1c919502c74c",
   "metadata": {},
   "source": [
    "### Preprocessing"
   ]
  },
  {
   "cell_type": "markdown",
   "id": "ed2a207a-6724-44ca-a2df-5d65314dae60",
   "metadata": {},
   "source": [
    "For the moment, we are simply specifying the field name in the csv file, and whether the field is the date to be used as the index.\n",
    "\n",
    "We can now start specifying how we wish to preprocess each `RawField` entry with the `preprocessing_options` key. \n",
    "\n",
    "For conciseness, we will use the \"DIMM Seeing [arcsec]\" field as an example and omit adding further configuration to the other fields, but in practice one may very well choose to process all fields.\n",
    "\n",
    "Omitting further configuration is equivalent to setting the respective keys their default, which is often `null` (or `None` in Python). In general, when keys are `null` or omitted, this signals to the pipeline that the user is not interested in running the relevant processing steps for that field. Users should check the documentation about specific default behavior of each key."
   ]
  },
  {
   "cell_type": "markdown",
   "id": "48880132-009f-4354-8998-01ab1bef8e56",
   "metadata": {},
   "source": [
    "```JSON\n",
    "{\n",
    "   \"data_sources\":[\n",
    "      {\n",
    "         \"name\":\"lso_dimm\",\n",
    "         \"path\":\"data/LSO/lasilla_dimm.csv\",\n",
    "         \"fields\":[\n",
    "            {\n",
    "               \"field_name\":\"Date time\",\n",
    "               \"is_date\":true\n",
    "            },\n",
    "            {\n",
    "               \"field_name\":\"DIMM Seeing [arcsec]\",\n",
    "               \"preprocessing_options\":{\n",
    "                  \"overwrite\":false,\n",
    "                  \"outlier_options\":{\n",
    "                     \"lower\":0,\n",
    "                     \"upper\":5,\n",
    "                     \"quantile_based\":false\n",
    "                  }\n",
    "               }\n",
    "            }\n",
    "         ],\n",
    "         \"comment_format\":\"#\"\n",
    "      },\n",
    "      {\n",
    "         \"name\":\"lso_meteo\",\n",
    "         \"path\":\"data/LSO/lasilla_meteo.csv\",\n",
    "         \"fields\":[\n",
    "            {\n",
    "               \"field_name\":\"Date time\",\n",
    "               \"is_date\":true\n",
    "            },\n",
    "            {\n",
    "               \"field_name\":\"Wind Speed at 10m [m/s]\"\n",
    "            },\n",
    "            {\n",
    "               \"field_name\":\"Wind Direction at 10m [deg]\"\n",
    "            }\n",
    "         ],\n",
    "         \"comment_format\":\"#\"\n",
    "      }\n",
    "   ]\n",
    "}\n",
    "```"
   ]
  },
  {
   "cell_type": "markdown",
   "id": "4c04a6dc-b64d-4b63-a710-ca70f31bbc4f",
   "metadata": {},
   "source": [
    "We have added some preprocessing options to the \"DIMM Seeing [arcsec]\" field. \n",
    "\n",
    "- We set `overwrite` to `false` (although this is the default). The original column will be maintained in the data and a new column of the same name prefixed with \"processed_\" will be created. If we had set `overwrite` to `true`, the original column would have been overwritten.\n",
    "- With the `outlier_options` key we are filtering \"outliers\" by specifying the allowed range of values that the field may have. We are doing so in absolute terms since we have set `quantile_based` to `false`. Alternatively we may have decided that we only wanted to keep the bottom 99.9999% of the data, in which case we would have set `quantile_based` to `true` and `upper` to `0.999999`.\n",
    "- We do not handle any periodicity with `periodic_options` because our quantity is not periodic in nature. Had we been dealing with for example Wind Direction, we may have wanted our values to be limited to the range `[0, 360[`, such that values of `361` would be mapped to `1` for example. An example `periodic_options` configuration for the above may have looked like:\n",
    "    ```JSON\n",
    "    {\n",
    "    \"period_length\":360\n",
    "    }\n",
    "    ```\n",
    "- We do not perform any unit conversion with `conversion_options` since we are happy with our current units. An example `conversion_options` configuration for converting from miles per hour to meters per second may have looked like:\n",
    "    ```JSON\n",
    "    {\n",
    "        \"key\":\"mph2ms\"\n",
    "    }\n",
    "    ```\n",
    "- We do not perform any smoothing by omitting the `smoothing_options` key. This is simply because in this notebook this will be peformed in postprocessing. Users may decide to perform smoothing in preprocessing although this is generally not suggested."
   ]
  },
  {
   "cell_type": "markdown",
   "id": "c726e5ef-b9e9-4e97-981e-a6e5d4439e56",
   "metadata": {},
   "source": [
    "#### Preprocessing Serialization"
   ]
  },
  {
   "cell_type": "markdown",
   "id": "b1124ad3-650d-434a-987e-90d42ae7ea58",
   "metadata": {},
   "source": [
    "The pipeline can also be used to perform only data preprocessing. In this case the user will probably wish to serialize (save to disk) the preprocessing results. This is done by configuring the `preprocessing_output` key for any `DataSource` whose preprocessing results we wish to serialize. \n",
    "\n",
    "Since we are only preprocessing the \"lso_dimm\" data source, let's go ahead and serialize only that:"
   ]
  },
  {
   "cell_type": "markdown",
   "id": "0074458d-97dc-426e-8b89-41ff2f96c1cf",
   "metadata": {},
   "source": [
    "```JSON\n",
    "{\n",
    "   \"data_sources\":[\n",
    "      {\n",
    "         \"name\":\"lso_dimm\",\n",
    "         \"path\":\"data/LSO/lasilla_dimm.csv\",\n",
    "         \"fields\":[\n",
    "            {\n",
    "               \"field_name\":\"Date time\",\n",
    "               \"is_date\":true\n",
    "            },\n",
    "            {\n",
    "               \"field_name\":\"DIMM Seeing [arcsec]\",\n",
    "               \"preprocessing_options\":{\n",
    "                  \"overwrite\":false,\n",
    "                  \"outlier_options\":{\n",
    "                     \"lower\":0,\n",
    "                     \"upper\":5,\n",
    "                     \"quantile_based\":false\n",
    "                  }\n",
    "               }\n",
    "            }\n",
    "         ],\n",
    "         \"comment_format\":\"#\",\n",
    "         \"preprocessing_output\":{\n",
    "            \"output_format\":\"csv\",\n",
    "            \"output_path\":\"output/example_datapipe/preproc_lso_dimm.csv\"\n",
    "         }\n",
    "      },\n",
    "      {\n",
    "         \"name\":\"lso_meteo\",\n",
    "         \"path\":\"data/LSO/lasilla_meteo.csv\",\n",
    "         \"fields\":[\n",
    "            {\n",
    "               \"field_name\":\"Date time\",\n",
    "               \"is_date\":true\n",
    "            },\n",
    "            {\n",
    "               \"field_name\":\"Wind Speed at 10m [m/s]\"\n",
    "            },\n",
    "            {\n",
    "               \"field_name\":\"Wind Direction at 10m [deg]\"\n",
    "            }\n",
    "         ],\n",
    "         \"comment_format\":\"#\"\n",
    "      }\n",
    "   ]\n",
    "}\n",
    "```"
   ]
  },
  {
   "cell_type": "markdown",
   "id": "089b58f8-f5c2-4e85-ba29-09d4ebb36151",
   "metadata": {},
   "source": [
    "Running preprocessing with the above config should therefore result in a csv file containing the processed \"lso_dimm\" data."
   ]
  },
  {
   "cell_type": "markdown",
   "id": "ff489ab6-a42f-45a1-9f74-1679544c16fb",
   "metadata": {},
   "source": [
    "#### Preprocessing Example run"
   ]
  },
  {
   "cell_type": "markdown",
   "id": "40e91e47-a055-48af-a408-dcccfaa1d6d6",
   "metadata": {},
   "source": [
    "Let's save the above config to the file `tutorial_pipeline_preprocess.json` and run a preprocessing pipeline. We will use the `-v` flag for additional verbosity.\n",
    "\n",
    "---"
   ]
  },
  {
   "cell_type": "code",
   "execution_count": 3,
   "id": "2a4a47eb-c4e1-48a1-af83-e6d3cdda0041",
   "metadata": {},
   "outputs": [
    {
     "name": "stdout",
     "output_type": "stream",
     "text": [
      "2021-08-25 21:18:36,432 - INFO - Preprocessing dataset...\n",
      "2021-08-25 21:18:36,432 - DEBUG - Preprocessing lso_dimm...\n",
      "2021-08-25 21:18:36,432 - DEBUG - Reading file...\n",
      "2021-08-25 21:18:38,210 - DEBUG - Processing field Date time of lso_dimm...\n",
      "2021-08-25 21:18:38,210 - DEBUG - Processing field DIMM Seeing [arcsec] of lso_dimm...\n",
      "2021-08-25 21:18:38,242 - DEBUG - Dropping outliers...\n",
      "2021-08-25 21:18:38,371 - DEBUG - Dropping NaNs...\n",
      "2021-08-25 21:18:38,429 - DEBUG - Serializing preprocessing output...\n",
      "2021-08-25 21:18:44,583 - DEBUG - Preprocessing lso_meteo...\n",
      "2021-08-25 21:18:44,583 - DEBUG - Reading file...\n",
      "2021-08-25 21:18:54,242 - DEBUG - Processing field Date time of lso_meteo...\n",
      "2021-08-25 21:18:54,243 - DEBUG - Processing field Wind Speed at 10m [m/s] of lso_meteo...\n",
      "2021-08-25 21:18:54,243 - DEBUG - Processing field Wind Direction at 10m [deg] of lso_meteo...\n",
      "2021-08-25 21:18:54,243 - DEBUG - Dropping NaNs...\n",
      "2021-08-25 21:18:54,399 - INFO - Dataset preprocessing complete.\n"
     ]
    }
   ],
   "source": [
    "!nowcastlib -v preprocess -c tutorial_pipeline_preprocess.json"
   ]
  },
  {
   "cell_type": "markdown",
   "id": "ec335177-e8db-4576-864d-81bf61115ea0",
   "metadata": {},
   "source": [
    "---"
   ]
  },
  {
   "cell_type": "markdown",
   "id": "d568964d-f065-41b1-b2c9-bd976157ad59",
   "metadata": {},
   "source": [
    "As we can see, the pipeline correctly preprocessed the \"lso_dimm\" DataSource as configured, dropping outliers and serializing the resulting output.\n",
    "\n",
    "Let's read the serialized output and check it."
   ]
  },
  {
   "cell_type": "code",
   "execution_count": 4,
   "id": "7b4ffb38-28bd-492a-a6ec-40225a8f83ec",
   "metadata": {},
   "outputs": [],
   "source": [
    "import pandas as pd"
   ]
  },
  {
   "cell_type": "code",
   "execution_count": 5,
   "id": "e834ba3c-6fcd-4c42-afb1-f4dd4d03c3c3",
   "metadata": {},
   "outputs": [],
   "source": [
    "preproc_lso_dimm = pd.read_csv(\n",
    "    \"output/example_datapipe/preproc_lso_dimm.csv\",\n",
    "    parse_dates=True,\n",
    "    index_col=\"Date time\",\n",
    ")"
   ]
  },
  {
   "cell_type": "code",
   "execution_count": 6,
   "id": "37ebbcdc-3b32-41b4-9211-acb2f6951bbc",
   "metadata": {},
   "outputs": [
    {
     "data": {
      "text/html": [
       "<div>\n",
       "<style scoped>\n",
       "    .dataframe tbody tr th:only-of-type {\n",
       "        vertical-align: middle;\n",
       "    }\n",
       "\n",
       "    .dataframe tbody tr th {\n",
       "        vertical-align: top;\n",
       "    }\n",
       "\n",
       "    .dataframe thead th {\n",
       "        text-align: right;\n",
       "    }\n",
       "</style>\n",
       "<table border=\"1\" class=\"dataframe\">\n",
       "  <thead>\n",
       "    <tr style=\"text-align: right;\">\n",
       "      <th></th>\n",
       "      <th>DIMM Seeing [arcsec]</th>\n",
       "      <th>processed_DIMM Seeing [arcsec]</th>\n",
       "    </tr>\n",
       "    <tr>\n",
       "      <th>Date time</th>\n",
       "      <th></th>\n",
       "      <th></th>\n",
       "    </tr>\n",
       "  </thead>\n",
       "  <tbody>\n",
       "    <tr>\n",
       "      <th>2005-04-19 00:26:20</th>\n",
       "      <td>2.03</td>\n",
       "      <td>2.03</td>\n",
       "    </tr>\n",
       "    <tr>\n",
       "      <th>2005-04-19 00:27:20</th>\n",
       "      <td>2.12</td>\n",
       "      <td>2.12</td>\n",
       "    </tr>\n",
       "    <tr>\n",
       "      <th>2005-04-19 00:28:20</th>\n",
       "      <td>3.13</td>\n",
       "      <td>3.13</td>\n",
       "    </tr>\n",
       "    <tr>\n",
       "      <th>2005-04-19 00:29:20</th>\n",
       "      <td>2.47</td>\n",
       "      <td>2.47</td>\n",
       "    </tr>\n",
       "    <tr>\n",
       "      <th>2005-04-19 00:30:20</th>\n",
       "      <td>2.73</td>\n",
       "      <td>2.73</td>\n",
       "    </tr>\n",
       "    <tr>\n",
       "      <th>...</th>\n",
       "      <td>...</td>\n",
       "      <td>...</td>\n",
       "    </tr>\n",
       "    <tr>\n",
       "      <th>2021-03-28 23:30:37</th>\n",
       "      <td>1.25</td>\n",
       "      <td>1.25</td>\n",
       "    </tr>\n",
       "    <tr>\n",
       "      <th>2021-03-28 23:31:37</th>\n",
       "      <td>1.41</td>\n",
       "      <td>1.41</td>\n",
       "    </tr>\n",
       "    <tr>\n",
       "      <th>2021-03-28 23:32:37</th>\n",
       "      <td>1.30</td>\n",
       "      <td>1.30</td>\n",
       "    </tr>\n",
       "    <tr>\n",
       "      <th>2021-03-29 01:02:48</th>\n",
       "      <td>0.86</td>\n",
       "      <td>0.86</td>\n",
       "    </tr>\n",
       "    <tr>\n",
       "      <th>2021-03-29 01:05:49</th>\n",
       "      <td>1.03</td>\n",
       "      <td>1.03</td>\n",
       "    </tr>\n",
       "  </tbody>\n",
       "</table>\n",
       "<p>1256461 rows × 2 columns</p>\n",
       "</div>"
      ],
      "text/plain": [
       "                     DIMM Seeing [arcsec]  processed_DIMM Seeing [arcsec]\n",
       "Date time                                                                \n",
       "2005-04-19 00:26:20                  2.03                            2.03\n",
       "2005-04-19 00:27:20                  2.12                            2.12\n",
       "2005-04-19 00:28:20                  3.13                            3.13\n",
       "2005-04-19 00:29:20                  2.47                            2.47\n",
       "2005-04-19 00:30:20                  2.73                            2.73\n",
       "...                                   ...                             ...\n",
       "2021-03-28 23:30:37                  1.25                            1.25\n",
       "2021-03-28 23:31:37                  1.41                            1.41\n",
       "2021-03-28 23:32:37                  1.30                            1.30\n",
       "2021-03-29 01:02:48                  0.86                            0.86\n",
       "2021-03-29 01:05:49                  1.03                            1.03\n",
       "\n",
       "[1256461 rows x 2 columns]"
      ]
     },
     "execution_count": 6,
     "metadata": {},
     "output_type": "execute_result"
    }
   ],
   "source": [
    "preproc_lso_dimm"
   ]
  },
  {
   "cell_type": "markdown",
   "id": "a2f37ad9-8deb-48d3-b34e-eb0285c9ebd9",
   "metadata": {},
   "source": [
    "The serialization was successful. We can also see that the overwriting config was also successfully parsed given the creation of the new column. Finally we can check that our outlier configuration was respected by checking the statistics of our processed column:"
   ]
  },
  {
   "cell_type": "code",
   "execution_count": 7,
   "id": "0fca8d76-2392-4b20-a9ea-49ace6659c2b",
   "metadata": {},
   "outputs": [
    {
     "data": {
      "text/plain": [
       "count    1.256461e+06\n",
       "mean     1.027188e+00\n",
       "std      4.197804e-01\n",
       "min      0.000000e+00\n",
       "25%      7.400000e-01\n",
       "50%      9.400000e-01\n",
       "75%      1.220000e+00\n",
       "max      4.990000e+00\n",
       "Name: processed_DIMM Seeing [arcsec], dtype: float64"
      ]
     },
     "execution_count": 7,
     "metadata": {},
     "output_type": "execute_result"
    }
   ],
   "source": [
    "preproc_lso_dimm[\"processed_DIMM Seeing [arcsec]\"].describe()"
   ]
  },
  {
   "cell_type": "code",
   "execution_count": 8,
   "id": "034b0890-42ca-4bcd-8157-5827c123c765",
   "metadata": {},
   "outputs": [
    {
     "data": {
      "text/plain": [
       "<AxesSubplot:>"
      ]
     },
     "execution_count": 8,
     "metadata": {},
     "output_type": "execute_result"
    },
    {
     "data": {
      "image/png": "[encoded data removed]",
      "text/plain": [
       "<Figure size 432x288 with 1 Axes>"
      ]
     },
     "metadata": {
      "needs_background": "light"
     },
     "output_type": "display_data"
    }
   ],
   "source": [
    "preproc_lso_dimm[\"processed_DIMM Seeing [arcsec]\"].hist(bins=100)"
   ]
  },
  {
   "cell_type": "markdown",
   "id": "1a196ebb-7799-4883-9428-f8a64b04e8ee",
   "metadata": {},
   "source": [
    "As we can see, the data outside the range `[0, 5]` has been removed, as configured."
   ]
  },
  {
   "cell_type": "markdown",
   "id": "c2e8457f-c378-4810-b1d5-4ba6502724e9",
   "metadata": {},
   "source": [
    "### Synchronization"
   ]
  },
  {
   "cell_type": "markdown",
   "id": "30ca18ae-4314-4e4c-894f-0628f4be6ab8",
   "metadata": {},
   "source": [
    "Since we have specified more than one `DataSource` in our configuration, we can also perform _synchronization_. This is the process of aligning two or more `DataSource`s in time, matching them to a single sample-rate and only keeping chunks of data where there is complete overlap across all `DataSource`s.\n",
    "\n",
    "To synchronize our data we need to configure the `sync_options` key of our JSON configuration at the top level:"
   ]
  },
  {
   "cell_type": "markdown",
   "id": "57c58748-488e-4f0a-b1f2-92fbd873dfce",
   "metadata": {},
   "source": [
    "```JSON\n",
    "{\n",
    "   \"sync_options\":{\n",
    "      \"sample_spacing\":60,\n",
    "      \"chunk_options\":{\n",
    "         \"max_gap_size\":600,\n",
    "         \"min_chunk_size\":3600\n",
    "      },\n",
    "      \"diagnostic_plots\":false\n",
    "   },\n",
    "   \"data_sources\":[\n",
    "      {\n",
    "         \"name\":\"lso_dimm\",\n",
    "         \"path\":\"data/LSO/lasilla_dimm.csv\",\n",
    "         \"fields\":[\n",
    "            {\n",
    "               \"field_name\":\"Date time\",\n",
    "               \"is_date\":true\n",
    "            },\n",
    "            {\n",
    "               \"field_name\":\"DIMM Seeing [arcsec]\",\n",
    "               \"preprocessing_options\":{\n",
    "                  \"overwrite\":false,\n",
    "                  \"outlier_options\":{\n",
    "                     \"lower\":0,\n",
    "                     \"upper\":5,\n",
    "                     \"quantile_based\":false\n",
    "                  }\n",
    "               }\n",
    "            }\n",
    "         ],\n",
    "         \"comment_format\":\"#\",\n",
    "         \"preprocessing_output\":{\n",
    "            \"output_format\":\"csv\",\n",
    "            \"output_path\":\"output/example_datapipe/preproc_lso_dimm.csv\"\n",
    "         }\n",
    "      },\n",
    "      {\n",
    "         \"name\":\"lso_meteo\",\n",
    "         \"path\":\"data/LSO/lasilla_meteo.csv\",\n",
    "         \"fields\":[\n",
    "            {\n",
    "               \"field_name\":\"Date time\",\n",
    "               \"is_date\":true\n",
    "            },\n",
    "            {\n",
    "               \"field_name\":\"Wind Speed at 10m [m/s]\"\n",
    "            },\n",
    "            {\n",
    "               \"field_name\":\"Wind Direction at 10m [deg]\"\n",
    "            }\n",
    "         ],\n",
    "         \"comment_format\":\"#\"\n",
    "      }\n",
    "   ]\n",
    "}\n",
    "```"
   ]
  },
  {
   "cell_type": "markdown",
   "id": "d6f51279-253c-4ab0-8a91-9cc786b3de53",
   "metadata": {},
   "source": [
    "The contents of the `sync_options` key is a JSON representation of a `SyncOptions` struct.\n",
    "\n",
    "- Our `DataSource`s may have different sample rates, and as such need to be\n",
    "  resampled to the same sample rate to facilitate synchronization. We specify\n",
    "  this 'target' sample rate by setting the `sample_spacing` option. Here we\n",
    "  have set it to 60 seconds.\n",
    "- Setting `diagnostic_plots` to `true` will have the pipeline prompt the user\n",
    "  to confirm their selected sample spacing after viewing a plot of the\n",
    "  distributions of sample spacings of each `DataSource`. Because we are\n",
    "  running the pipeline as a terminal command from within Jupyter, interactive\n",
    "  plots cannot be shown, and as such it is set to `false`.\n",
    "- Because synchronization can often results in \"chunks\", contiguous portions\n",
    "  of data delimited by `NaN` gaps, the user is also required to specify\n",
    "  `chunk_options`:\n",
    "    - There may be instances where the gaps between data points are\n",
    "      sufficiently small to be imputed with linear interpolation. The\n",
    "      `max_gap_size` sets the upper limit on these small gaps. In our example,\n",
    "      any gap smaller than 10 minutes (600 seconds) will be imputed via linear\n",
    "      interpolation\n",
    "   -  Certain chunks may be too small to be considered. In this case the user\n",
    "      may wish to ignore them. The lower limit for a chunk size can therefore\n",
    "      be set with `min_chunk_size`. In our example, any chunk shorter than 1\n",
    "      hour (3600 seconds) will be ignored. "
   ]
  },
  {
   "cell_type": "markdown",
   "id": "09c269af-3fb6-428a-a6f7-dadbc94d58d4",
   "metadata": {},
   "source": [
    "#### Synchronization Example Run 1"
   ]
  },
  {
   "cell_type": "markdown",
   "id": "370246b9-2871-4d23-a670-6350778d4df4",
   "metadata": {},
   "source": [
    "At this point, we may run a synchronization process. However, with the current configuration, this will also run preprocessing on our `lso_dimm` `DataSource`. Let's save the JSON above to the file `tutorial_pipeline_sync_with_preprocess.json` and have a look. We once again use the `-v` flag for extra verbosity.\n",
    "\n",
    "---"
   ]
  },
  {
   "cell_type": "code",
   "execution_count": 9,
   "id": "88b4c8db-71f3-4cdb-8fb6-3cbc9b2b1cd1",
   "metadata": {},
   "outputs": [
    {
     "name": "stdout",
     "output_type": "stream",
     "text": [
      "2021-08-25 21:18:59,521 - INFO - Preprocessing dataset...\n",
      "2021-08-25 21:18:59,521 - DEBUG - Preprocessing lso_dimm...\n",
      "2021-08-25 21:18:59,521 - DEBUG - Reading file...\n",
      "2021-08-25 21:19:01,010 - DEBUG - Processing field Date time of lso_dimm...\n",
      "2021-08-25 21:19:01,010 - DEBUG - Processing field DIMM Seeing [arcsec] of lso_dimm...\n",
      "2021-08-25 21:19:01,047 - DEBUG - Dropping outliers...\n",
      "2021-08-25 21:19:01,194 - DEBUG - Dropping NaNs...\n",
      "2021-08-25 21:19:01,272 - DEBUG - Serializing preprocessing output...\n",
      "2021-08-25 21:19:08,054 - DEBUG - Preprocessing lso_meteo...\n",
      "2021-08-25 21:19:08,054 - DEBUG - Reading file...\n",
      "2021-08-25 21:19:17,924 - DEBUG - Processing field Date time of lso_meteo...\n",
      "2021-08-25 21:19:17,924 - DEBUG - Processing field Wind Speed at 10m [m/s] of lso_meteo...\n",
      "2021-08-25 21:19:17,924 - DEBUG - Processing field Wind Direction at 10m [deg] of lso_meteo...\n",
      "2021-08-25 21:19:17,924 - DEBUG - Dropping NaNs...\n",
      "2021-08-25 21:19:18,067 - INFO - Dataset preprocessing complete.\n",
      "2021-08-25 21:19:18,068 - INFO - Synchronizing dataset...\n",
      "2021-08-25 21:19:18,068 - DEBUG - Resampling DataSource 1 of 2...\n",
      "2021-08-25 21:19:18,516 - DEBUG - Resampling DataSource 2 of 2...\n",
      "2021-08-25 21:19:19,651 - DEBUG - Finding overlapping range and joining into single dataframe...\n",
      "2021-08-25 21:19:21,666 - DEBUG - Splitting data into contiguous chunks...\n",
      "2021-08-25 21:19:30,175 - INFO - Dataset synchronization complete.\n"
     ]
    }
   ],
   "source": [
    "!nowcastlib -v sync -c tutorial_pipeline_sync_with_preprocess.json"
   ]
  },
  {
   "cell_type": "markdown",
   "id": "bb7cb0a4-ffe4-40f6-965b-a44825c0ebfc",
   "metadata": {},
   "source": [
    "---"
   ]
  },
  {
   "cell_type": "markdown",
   "id": "d6e2ddcc-ac7c-438c-9656-01fb68bd1a2e",
   "metadata": {},
   "source": [
    "As we can see, both preprocessing and synchronization were performed. There was also no serialization of our synchronization output, so that is not of much use to us."
   ]
  },
  {
   "cell_type": "markdown",
   "id": "578eff07-87da-4e65-9cfd-8d6f5bfc73a1",
   "metadata": {},
   "source": [
    "#### Synchronization Example Run 2"
   ]
  },
  {
   "cell_type": "markdown",
   "id": "268104a3-d16d-4c91-893e-1976a7ad2567",
   "metadata": {},
   "source": [
    "To avoid preprocessing, we simply need to remove any preprocessing configuration from our config file. "
   ]
  },
  {
   "cell_type": "markdown",
   "id": "bc679f35-66a4-45f0-844a-a3080633712a",
   "metadata": {},
   "source": [
    "```JSON\n",
    "{\n",
    "   \"sync_options\":{\n",
    "      \"sample_spacing\":60,\n",
    "      \"chunk_options\":{\n",
    "         \"max_gap_size\":600,\n",
    "         \"min_chunk_size\":3600\n",
    "      },\n",
    "      \"diagnostic_plots\":false\n",
    "   },\n",
    "   \"data_sources\":[\n",
    "      {\n",
    "         \"name\":\"lso_dimm\",\n",
    "         \"path\":\"data/LSO/lasilla_dimm.csv\",\n",
    "         \"fields\":[\n",
    "            {\n",
    "               \"field_name\":\"Date time\",\n",
    "               \"is_date\":true\n",
    "            },\n",
    "            {\n",
    "               \"field_name\":\"DIMM Seeing [arcsec]\"\n",
    "            }\n",
    "         ],\n",
    "         \"comment_format\":\"#\"\n",
    "      },\n",
    "      {\n",
    "         \"name\":\"lso_meteo\",\n",
    "         \"path\":\"data/LSO/lasilla_meteo.csv\",\n",
    "         \"fields\":[\n",
    "            {\n",
    "               \"field_name\":\"Date time\",\n",
    "               \"is_date\":true\n",
    "            },\n",
    "            {\n",
    "               \"field_name\":\"Wind Speed at 10m [m/s]\"\n",
    "            },\n",
    "            {\n",
    "               \"field_name\":\"Wind Direction at 10m [deg]\"\n",
    "            }\n",
    "         ],\n",
    "         \"comment_format\":\"#\"\n",
    "      }\n",
    "   ]\n",
    "}\n",
    "```"
   ]
  },
  {
   "cell_type": "markdown",
   "id": "758873b9-0a6b-48ef-aad9-b302ffbe255b",
   "metadata": {},
   "source": [
    "The output of our synchronization process is a sparse pandas dataframe with the aligned data and a numpy array of shape (-1, 2) with the start and end indices of each chunk. We can serialize these objects using the `data_output` and `chunks_output` keys respectively, which both consist in a `SerializationOptions` struct."
   ]
  },
  {
   "cell_type": "markdown",
   "id": "37186cde-f2ac-49b4-9f63-df20d1b5d147",
   "metadata": {},
   "source": [
    "```JSON\n",
    "{\n",
    "   \"sync_options\":{\n",
    "      \"sample_spacing\":60,\n",
    "      \"chunk_options\":{\n",
    "         \"max_gap_size\":600,\n",
    "         \"min_chunk_size\":3600\n",
    "      },\n",
    "      \"diagnostic_plots\":false,\n",
    "      \"data_output\":{\n",
    "         \"output_format\":\"pickle\",\n",
    "         \"output_path\":\"output/example_datapipe/synced_df.pkl\"\n",
    "      },\n",
    "      \"chunks_output\":{\n",
    "         \"output_format\":\"npy\",\n",
    "         \"output_path\":\"output/example_datapipe/chunk_locs.npy\"\n",
    "      }\n",
    "   },\n",
    "   \"data_sources\":[\n",
    "      {\n",
    "         \"name\":\"lso_dimm\",\n",
    "         \"path\":\"data/LSO/lasilla_dimm.csv\",\n",
    "         \"fields\":[\n",
    "            {\n",
    "               \"field_name\":\"Date time\",\n",
    "               \"is_date\":true\n",
    "            },\n",
    "            {\n",
    "               \"field_name\":\"DIMM Seeing [arcsec]\"\n",
    "            }\n",
    "         ],\n",
    "         \"comment_format\":\"#\"\n",
    "      },\n",
    "      {\n",
    "         \"name\":\"lso_meteo\",\n",
    "         \"path\":\"data/LSO/lasilla_meteo.csv\",\n",
    "         \"fields\":[\n",
    "            {\n",
    "               \"field_name\":\"Date time\",\n",
    "               \"is_date\":true\n",
    "            },\n",
    "            {\n",
    "               \"field_name\":\"Wind Speed at 10m [m/s]\"\n",
    "            },\n",
    "            {\n",
    "               \"field_name\":\"Wind Direction at 10m [deg]\"\n",
    "            }\n",
    "         ],\n",
    "         \"comment_format\":\"#\"\n",
    "      }\n",
    "   ]\n",
    "}\n",
    "```"
   ]
  },
  {
   "cell_type": "markdown",
   "id": "47601193-cba5-4be2-8f3d-f17742892519",
   "metadata": {},
   "source": [
    "Now that we're all set, let's save the JSON above to the file `tutorial_pipeline_sync.json` and try again:\n",
    "\n",
    "---"
   ]
  },
  {
   "cell_type": "code",
   "execution_count": 10,
   "id": "aa9e70b5-7c77-4566-b019-826f1aba18af",
   "metadata": {},
   "outputs": [
    {
     "name": "stdout",
     "output_type": "stream",
     "text": [
      "2021-08-25 21:19:32,981 - INFO - Preprocessing dataset...\n",
      "2021-08-25 21:19:32,981 - DEBUG - Preprocessing lso_dimm...\n",
      "2021-08-25 21:19:32,982 - DEBUG - Reading file...\n",
      "2021-08-25 21:19:34,287 - DEBUG - Processing field Date time of lso_dimm...\n",
      "2021-08-25 21:19:34,287 - DEBUG - Processing field DIMM Seeing [arcsec] of lso_dimm...\n",
      "2021-08-25 21:19:34,287 - DEBUG - Dropping NaNs...\n",
      "2021-08-25 21:19:34,313 - DEBUG - Preprocessing lso_meteo...\n",
      "2021-08-25 21:19:34,313 - DEBUG - Reading file...\n",
      "2021-08-25 21:19:42,684 - DEBUG - Processing field Date time of lso_meteo...\n",
      "2021-08-25 21:19:42,684 - DEBUG - Processing field Wind Speed at 10m [m/s] of lso_meteo...\n",
      "2021-08-25 21:19:42,684 - DEBUG - Processing field Wind Direction at 10m [deg] of lso_meteo...\n",
      "2021-08-25 21:19:42,684 - DEBUG - Dropping NaNs...\n",
      "2021-08-25 21:19:42,822 - INFO - Dataset preprocessing complete.\n",
      "2021-08-25 21:19:42,822 - INFO - Synchronizing dataset...\n",
      "2021-08-25 21:19:42,822 - DEBUG - Resampling DataSource 1 of 2...\n",
      "2021-08-25 21:19:43,543 - DEBUG - Resampling DataSource 2 of 2...\n",
      "2021-08-25 21:19:44,228 - DEBUG - Finding overlapping range and joining into single dataframe...\n",
      "2021-08-25 21:19:46,284 - DEBUG - Splitting data into contiguous chunks...\n",
      "2021-08-25 21:19:52,496 - DEBUG - Serializing chunked dataframe...\n",
      "2021-08-25 21:19:52,731 - DEBUG - Serializing chunk locations...\n",
      "2021-08-25 21:19:52,732 - INFO - Dataset synchronization complete.\n"
     ]
    }
   ],
   "source": [
    "!nowcastlib -v sync -c tutorial_pipeline_sync.json"
   ]
  },
  {
   "cell_type": "markdown",
   "id": "af6da74f-2020-49e4-915b-0bf8a1a18a27",
   "metadata": {},
   "source": [
    "---"
   ]
  },
  {
   "cell_type": "markdown",
   "id": "b871ad35-e53d-407a-8c0c-89b105ae119e",
   "metadata": {},
   "source": [
    "As we can see from the logs, \"preprocessing\" here simply consisted in reading the raw data and dropping NaNs. Synchronization was performed once again but this time we have serialized files that we can check."
   ]
  },
  {
   "cell_type": "code",
   "execution_count": 11,
   "id": "c5fee1c3-0b31-454f-bf43-42f1778d303d",
   "metadata": {},
   "outputs": [],
   "source": [
    "synced_df = pd.read_pickle(\"output/example_datapipe/synced_df.pkl\")"
   ]
  },
  {
   "cell_type": "code",
   "execution_count": 12,
   "id": "0c99aeee-6d63-43a2-8ad9-e2862bd193c2",
   "metadata": {},
   "outputs": [
    {
     "data": {
      "text/html": [
       "<div>\n",
       "<style scoped>\n",
       "    .dataframe tbody tr th:only-of-type {\n",
       "        vertical-align: middle;\n",
       "    }\n",
       "\n",
       "    .dataframe tbody tr th {\n",
       "        vertical-align: top;\n",
       "    }\n",
       "\n",
       "    .dataframe thead th {\n",
       "        text-align: right;\n",
       "    }\n",
       "</style>\n",
       "<table border=\"1\" class=\"dataframe\">\n",
       "  <thead>\n",
       "    <tr style=\"text-align: right;\">\n",
       "      <th></th>\n",
       "      <th>DIMM Seeing [arcsec]</th>\n",
       "      <th>Wind Direction at 10m [deg]</th>\n",
       "      <th>Wind Speed at 10m [m/s]</th>\n",
       "    </tr>\n",
       "  </thead>\n",
       "  <tbody>\n",
       "    <tr>\n",
       "      <th>2005-04-19 00:26:00</th>\n",
       "      <td>NaN</td>\n",
       "      <td>NaN</td>\n",
       "      <td>NaN</td>\n",
       "    </tr>\n",
       "    <tr>\n",
       "      <th>2005-04-19 00:27:00</th>\n",
       "      <td>NaN</td>\n",
       "      <td>NaN</td>\n",
       "      <td>NaN</td>\n",
       "    </tr>\n",
       "    <tr>\n",
       "      <th>2005-04-19 00:28:00</th>\n",
       "      <td>NaN</td>\n",
       "      <td>NaN</td>\n",
       "      <td>NaN</td>\n",
       "    </tr>\n",
       "    <tr>\n",
       "      <th>2005-04-19 00:29:00</th>\n",
       "      <td>NaN</td>\n",
       "      <td>NaN</td>\n",
       "      <td>NaN</td>\n",
       "    </tr>\n",
       "    <tr>\n",
       "      <th>2005-04-19 00:30:00</th>\n",
       "      <td>NaN</td>\n",
       "      <td>NaN</td>\n",
       "      <td>NaN</td>\n",
       "    </tr>\n",
       "    <tr>\n",
       "      <th>...</th>\n",
       "      <td>...</td>\n",
       "      <td>...</td>\n",
       "      <td>...</td>\n",
       "    </tr>\n",
       "    <tr>\n",
       "      <th>2021-03-29 01:01:00</th>\n",
       "      <td>NaN</td>\n",
       "      <td>NaN</td>\n",
       "      <td>NaN</td>\n",
       "    </tr>\n",
       "    <tr>\n",
       "      <th>2021-03-29 01:02:00</th>\n",
       "      <td>NaN</td>\n",
       "      <td>NaN</td>\n",
       "      <td>NaN</td>\n",
       "    </tr>\n",
       "    <tr>\n",
       "      <th>2021-03-29 01:03:00</th>\n",
       "      <td>NaN</td>\n",
       "      <td>NaN</td>\n",
       "      <td>NaN</td>\n",
       "    </tr>\n",
       "    <tr>\n",
       "      <th>2021-03-29 01:04:00</th>\n",
       "      <td>NaN</td>\n",
       "      <td>NaN</td>\n",
       "      <td>NaN</td>\n",
       "    </tr>\n",
       "    <tr>\n",
       "      <th>2021-03-29 01:05:00</th>\n",
       "      <td>NaN</td>\n",
       "      <td>NaN</td>\n",
       "      <td>NaN</td>\n",
       "    </tr>\n",
       "  </tbody>\n",
       "</table>\n",
       "<p>8385160 rows × 3 columns</p>\n",
       "</div>"
      ],
      "text/plain": [
       "                     DIMM Seeing [arcsec]  Wind Direction at 10m [deg]  \\\n",
       "2005-04-19 00:26:00                   NaN                          NaN   \n",
       "2005-04-19 00:27:00                   NaN                          NaN   \n",
       "2005-04-19 00:28:00                   NaN                          NaN   \n",
       "2005-04-19 00:29:00                   NaN                          NaN   \n",
       "2005-04-19 00:30:00                   NaN                          NaN   \n",
       "...                                   ...                          ...   \n",
       "2021-03-29 01:01:00                   NaN                          NaN   \n",
       "2021-03-29 01:02:00                   NaN                          NaN   \n",
       "2021-03-29 01:03:00                   NaN                          NaN   \n",
       "2021-03-29 01:04:00                   NaN                          NaN   \n",
       "2021-03-29 01:05:00                   NaN                          NaN   \n",
       "\n",
       "                     Wind Speed at 10m [m/s]  \n",
       "2005-04-19 00:26:00                      NaN  \n",
       "2005-04-19 00:27:00                      NaN  \n",
       "2005-04-19 00:28:00                      NaN  \n",
       "2005-04-19 00:29:00                      NaN  \n",
       "2005-04-19 00:30:00                      NaN  \n",
       "...                                      ...  \n",
       "2021-03-29 01:01:00                      NaN  \n",
       "2021-03-29 01:02:00                      NaN  \n",
       "2021-03-29 01:03:00                      NaN  \n",
       "2021-03-29 01:04:00                      NaN  \n",
       "2021-03-29 01:05:00                      NaN  \n",
       "\n",
       "[8385160 rows x 3 columns]"
      ]
     },
     "execution_count": 12,
     "metadata": {},
     "output_type": "execute_result"
    }
   ],
   "source": [
    "synced_df"
   ]
  },
  {
   "cell_type": "code",
   "execution_count": 13,
   "id": "c6c060b4-01a8-495c-ad7b-fdd86f5b5914",
   "metadata": {},
   "outputs": [],
   "source": [
    "import numpy as np"
   ]
  },
  {
   "cell_type": "code",
   "execution_count": 14,
   "id": "083bbcd7-30bc-4966-bd87-84e4ca7ff0cb",
   "metadata": {},
   "outputs": [],
   "source": [
    "chunk_locs = np.load(\"output/example_datapipe/chunk_locs.npy\")"
   ]
  },
  {
   "cell_type": "code",
   "execution_count": 15,
   "id": "335a2e29-1110-421a-9077-12bafa66e770",
   "metadata": {},
   "outputs": [
    {
     "data": {
      "text/plain": [
       "array([[     52,     143],\n",
       "       [    170,     507],\n",
       "       [   1560,    1932],\n",
       "       ...,\n",
       "       [8382631, 8382758],\n",
       "       [8383719, 8383858],\n",
       "       [8384028, 8384186]])"
      ]
     },
     "execution_count": 15,
     "metadata": {},
     "output_type": "execute_result"
    }
   ],
   "source": [
    "chunk_locs"
   ]
  },
  {
   "cell_type": "markdown",
   "id": "115b2d2a-1b27-45e6-b040-098369ebc1f9",
   "metadata": {},
   "source": [
    "We can now for example break our `synced_df` into an array of non-sparse dataframes using `nowcastlib.datasets`, with our pre-computed `chunk_locs` to speed up the process."
   ]
  },
  {
   "cell_type": "code",
   "execution_count": 16,
   "id": "721e3608-3d79-4fe4-a533-de047abf4368",
   "metadata": {},
   "outputs": [],
   "source": [
    "from nowcastlib.datasets import make_chunks"
   ]
  },
  {
   "cell_type": "code",
   "execution_count": 17,
   "id": "932e1193-9f61-46fd-a217-41de56b7a055",
   "metadata": {},
   "outputs": [],
   "source": [
    "chunks = make_chunks(synced_df, chunk_locs)"
   ]
  },
  {
   "cell_type": "code",
   "execution_count": 18,
   "id": "d16c0f87-bbb1-4f24-a2e4-37b9b006bf26",
   "metadata": {},
   "outputs": [
    {
     "data": {
      "text/html": [
       "<div>\n",
       "<style scoped>\n",
       "    .dataframe tbody tr th:only-of-type {\n",
       "        vertical-align: middle;\n",
       "    }\n",
       "\n",
       "    .dataframe tbody tr th {\n",
       "        vertical-align: top;\n",
       "    }\n",
       "\n",
       "    .dataframe thead th {\n",
       "        text-align: right;\n",
       "    }\n",
       "</style>\n",
       "<table border=\"1\" class=\"dataframe\">\n",
       "  <thead>\n",
       "    <tr style=\"text-align: right;\">\n",
       "      <th></th>\n",
       "      <th>DIMM Seeing [arcsec]</th>\n",
       "      <th>Wind Direction at 10m [deg]</th>\n",
       "      <th>Wind Speed at 10m [m/s]</th>\n",
       "    </tr>\n",
       "  </thead>\n",
       "  <tbody>\n",
       "    <tr>\n",
       "      <th>2005-05-13 22:30:00</th>\n",
       "      <td>2.080</td>\n",
       "      <td>14.0</td>\n",
       "      <td>1.2</td>\n",
       "    </tr>\n",
       "    <tr>\n",
       "      <th>2005-05-13 22:31:00</th>\n",
       "      <td>2.180</td>\n",
       "      <td>14.0</td>\n",
       "      <td>1.2</td>\n",
       "    </tr>\n",
       "    <tr>\n",
       "      <th>2005-05-13 22:32:00</th>\n",
       "      <td>2.370</td>\n",
       "      <td>14.0</td>\n",
       "      <td>1.4</td>\n",
       "    </tr>\n",
       "    <tr>\n",
       "      <th>2005-05-13 22:33:00</th>\n",
       "      <td>1.960</td>\n",
       "      <td>14.0</td>\n",
       "      <td>1.6</td>\n",
       "    </tr>\n",
       "    <tr>\n",
       "      <th>2005-05-13 22:34:00</th>\n",
       "      <td>2.180</td>\n",
       "      <td>14.0</td>\n",
       "      <td>1.6</td>\n",
       "    </tr>\n",
       "    <tr>\n",
       "      <th>...</th>\n",
       "      <td>...</td>\n",
       "      <td>...</td>\n",
       "      <td>...</td>\n",
       "    </tr>\n",
       "    <tr>\n",
       "      <th>2005-05-14 03:16:00</th>\n",
       "      <td>1.295</td>\n",
       "      <td>4.0</td>\n",
       "      <td>5.3</td>\n",
       "    </tr>\n",
       "    <tr>\n",
       "      <th>2005-05-14 03:17:00</th>\n",
       "      <td>1.350</td>\n",
       "      <td>4.0</td>\n",
       "      <td>5.3</td>\n",
       "    </tr>\n",
       "    <tr>\n",
       "      <th>2005-05-14 03:18:00</th>\n",
       "      <td>1.350</td>\n",
       "      <td>4.0</td>\n",
       "      <td>5.3</td>\n",
       "    </tr>\n",
       "    <tr>\n",
       "      <th>2005-05-14 03:19:00</th>\n",
       "      <td>1.350</td>\n",
       "      <td>4.0</td>\n",
       "      <td>5.3</td>\n",
       "    </tr>\n",
       "    <tr>\n",
       "      <th>2005-05-14 03:20:00</th>\n",
       "      <td>1.350</td>\n",
       "      <td>4.0</td>\n",
       "      <td>5.3</td>\n",
       "    </tr>\n",
       "  </tbody>\n",
       "</table>\n",
       "<p>291 rows × 3 columns</p>\n",
       "</div>"
      ],
      "text/plain": [
       "                     DIMM Seeing [arcsec]  Wind Direction at 10m [deg]  \\\n",
       "2005-05-13 22:30:00                 2.080                         14.0   \n",
       "2005-05-13 22:31:00                 2.180                         14.0   \n",
       "2005-05-13 22:32:00                 2.370                         14.0   \n",
       "2005-05-13 22:33:00                 1.960                         14.0   \n",
       "2005-05-13 22:34:00                 2.180                         14.0   \n",
       "...                                   ...                          ...   \n",
       "2005-05-14 03:16:00                 1.295                          4.0   \n",
       "2005-05-14 03:17:00                 1.350                          4.0   \n",
       "2005-05-14 03:18:00                 1.350                          4.0   \n",
       "2005-05-14 03:19:00                 1.350                          4.0   \n",
       "2005-05-14 03:20:00                 1.350                          4.0   \n",
       "\n",
       "                     Wind Speed at 10m [m/s]  \n",
       "2005-05-13 22:30:00                      1.2  \n",
       "2005-05-13 22:31:00                      1.2  \n",
       "2005-05-13 22:32:00                      1.4  \n",
       "2005-05-13 22:33:00                      1.6  \n",
       "2005-05-13 22:34:00                      1.6  \n",
       "...                                      ...  \n",
       "2005-05-14 03:16:00                      5.3  \n",
       "2005-05-14 03:17:00                      5.3  \n",
       "2005-05-14 03:18:00                      5.3  \n",
       "2005-05-14 03:19:00                      5.3  \n",
       "2005-05-14 03:20:00                      5.3  \n",
       "\n",
       "[291 rows x 3 columns]"
      ]
     },
     "execution_count": 18,
     "metadata": {},
     "output_type": "execute_result"
    }
   ],
   "source": [
    "# showing an arbitrary chunk\n",
    "chunks[30]"
   ]
  },
  {
   "cell_type": "markdown",
   "id": "6d49375c-b5dc-475d-8aa4-64d04bee0e14",
   "metadata": {},
   "source": [
    "### Postprocessing"
   ]
  },
  {
   "cell_type": "markdown",
   "id": "dfc003d3-53aa-4dbc-85d2-78fbc30f4cf4",
   "metadata": {},
   "source": [
    "After preprocessing and synchronization, the user may be interested in postprocessing the data with additional operations and the generation of new fields.\n",
    "\n",
    "We can add some basic postprocessing to our data. We do this in the same way as we did for preprocessing, i.e. by adding a `postprocessing_options` key to each of the `RawFields` that we wish to postprocess. These postprocessing options are the same as those for preprocessing, except they are performed after synchronization. As always let's focus on the \"lso_dimm\" `DataSource` to keep things simple.\n",
    "\n",
    "To keep things a bit more concise, the serialization options for syncing and the preprocessing options from previous example configs have been removed."
   ]
  },
  {
   "cell_type": "markdown",
   "id": "e58e1928-8109-4e96-8b0b-26a47ae60ea4",
   "metadata": {},
   "source": [
    "```JSON\n",
    "{\n",
    "   \"sync_options\":{\n",
    "      \"sample_spacing\":60,\n",
    "      \"chunk_options\":{\n",
    "         \"max_gap_size\":600,\n",
    "         \"min_chunk_size\":3600\n",
    "      },\n",
    "      \"diagnostic_plots\":false\n",
    "   },\n",
    "   \"data_sources\":[\n",
    "      {\n",
    "         \"name\":\"lso_dimm\",\n",
    "         \"path\":\"data/LSO/lasilla_dimm.csv\",\n",
    "         \"fields\":[\n",
    "            {\n",
    "               \"field_name\":\"Date time\",\n",
    "               \"is_date\":true\n",
    "            },\n",
    "            {\n",
    "               \"field_name\":\"DIMM Seeing [arcsec]\",\n",
    "                \"postprocessing_options\":{\n",
    "                  \"smooth_options\":{\n",
    "                     \"window_size\":10,\n",
    "                     \"units\":\"min\"\n",
    "                  }\n",
    "               }\n",
    "            }\n",
    "         ],\n",
    "         \"comment_format\":\"#\"\n",
    "      },\n",
    "      {\n",
    "         \"name\":\"lso_meteo\",\n",
    "         \"path\":\"data/LSO/lasilla_meteo.csv\",\n",
    "         \"fields\":[\n",
    "            {\n",
    "               \"field_name\":\"Date time\",\n",
    "               \"is_date\":true\n",
    "            },\n",
    "            {\n",
    "               \"field_name\":\"Wind Speed at 10m [m/s]\"\n",
    "            },\n",
    "            {\n",
    "               \"field_name\":\"Wind Direction at 10m [deg]\"\n",
    "            }\n",
    "         ],\n",
    "         \"comment_format\":\"#\"\n",
    "      }\n",
    "   ]\n",
    "}\n",
    "```"
   ]
  },
  {
   "cell_type": "markdown",
   "id": "48228ea4-dba6-4ae8-a1f2-80f6bb7e4925",
   "metadata": {},
   "source": [
    "We have configured our pipeline so that it will postprocess the \"DIMM Seeing [arcsec]\" `RawField` of the \"lso_dimm\" `DataSource` by applying a 10 minute moving average for smoothing."
   ]
  },
  {
   "cell_type": "markdown",
   "id": "a162f605-0d45-4c1b-824a-7707f42c5ff8",
   "metadata": {},
   "source": [
    "#### Postprocessing Serialization"
   ]
  },
  {
   "cell_type": "markdown",
   "id": "6c5537f4-55e0-4463-8af7-535e8a59da03",
   "metadata": {},
   "source": [
    "Just like with preprocessing, the user will probably wish to serialize (save to disk) the postprocessing results. This is done by configuring the `postprocessing_output` key for our `DataSet`, since in postprocessing the dataset is treated as a whole."
   ]
  },
  {
   "cell_type": "markdown",
   "id": "d9da326e-4bbc-4b0c-afd8-1ab25620fa43",
   "metadata": {},
   "source": [
    "```JSON\n",
    "{\n",
    "   \"postprocessing_output\":{\n",
    "       \"output_format\":\"pickle\",\n",
    "       \"output_path\":\"output/example_datapipe/postprocessed_df.pkl\"\n",
    "   },\n",
    "   \"sync_options\":{\n",
    "      \"sample_spacing\":60,\n",
    "      \"chunk_options\":{\n",
    "         \"max_gap_size\":600,\n",
    "         \"min_chunk_size\":3600\n",
    "      },\n",
    "      \"diagnostic_plots\":false,\n",
    "   },\n",
    "   \"data_sources\":[\n",
    "      {\n",
    "         \"name\":\"lso_dimm\",\n",
    "         \"path\":\"data/LSO/lasilla_dimm.csv\",\n",
    "         \"fields\":[\n",
    "            {\n",
    "               \"field_name\":\"Date time\",\n",
    "               \"is_date\":true\n",
    "            },\n",
    "            {\n",
    "               \"field_name\":\"DIMM Seeing [arcsec]\",\n",
    "                \"postprocessing_options\":{\n",
    "                  \"smooth_options\":{\n",
    "                     \"window_size\":10,\n",
    "                     \"units\":\"min\"\n",
    "                  }\n",
    "               }\n",
    "            }\n",
    "         ],\n",
    "         \"comment_format\":\"#\"\n",
    "      },\n",
    "      {\n",
    "         \"name\":\"lso_meteo\",\n",
    "         \"path\":\"data/LSO/lasilla_meteo.csv\",\n",
    "         \"fields\":[\n",
    "            {\n",
    "               \"field_name\":\"Date time\",\n",
    "               \"is_date\":true\n",
    "            },\n",
    "            {\n",
    "               \"field_name\":\"Wind Speed at 10m [m/s]\"\n",
    "            },\n",
    "            {\n",
    "               \"field_name\":\"Wind Direction at 10m [deg]\"\n",
    "            }\n",
    "         ],\n",
    "         \"comment_format\":\"#\"\n",
    "      }\n",
    "   ]\n",
    "}\n",
    "```"
   ]
  },
  {
   "cell_type": "markdown",
   "id": "cb953c4d-a274-411c-8791-98dc91a11e4d",
   "metadata": {},
   "source": [
    "Running postprocessing with the above config should therefore result in a pkl file containing the postprocessed dataframe."
   ]
  },
  {
   "cell_type": "markdown",
   "id": "430b8f64-5a3b-4598-9923-a892359bad91",
   "metadata": {},
   "source": [
    "#### Postprocessing Example Run 1"
   ]
  },
  {
   "cell_type": "markdown",
   "id": "a212f5fe-f317-4da1-955a-970e574efca6",
   "metadata": {},
   "source": [
    "Let's save the above config to the file `tutorial_pipeline_postprocess.json` and run a postprocessing pipeline.\n",
    "\n",
    "---"
   ]
  },
  {
   "cell_type": "code",
   "execution_count": 19,
   "id": "26787bef-fd0f-4eb3-8d77-ad06d68ff11e",
   "metadata": {},
   "outputs": [
    {
     "name": "stdout",
     "output_type": "stream",
     "text": [
      "2021-08-25 21:19:57,016 - INFO - Preprocessing dataset...\n",
      "2021-08-25 21:19:57,016 - DEBUG - Preprocessing lso_dimm...\n",
      "2021-08-25 21:19:57,016 - DEBUG - Reading file...\n",
      "2021-08-25 21:19:58,459 - DEBUG - Processing field Date time of lso_dimm...\n",
      "2021-08-25 21:19:58,459 - DEBUG - Processing field DIMM Seeing [arcsec] of lso_dimm...\n",
      "2021-08-25 21:19:58,459 - DEBUG - Dropping NaNs...\n",
      "2021-08-25 21:19:58,492 - DEBUG - Preprocessing lso_meteo...\n",
      "2021-08-25 21:19:58,492 - DEBUG - Reading file...\n",
      "2021-08-25 21:20:07,252 - DEBUG - Processing field Date time of lso_meteo...\n",
      "2021-08-25 21:20:07,252 - DEBUG - Processing field Wind Speed at 10m [m/s] of lso_meteo...\n",
      "2021-08-25 21:20:07,252 - DEBUG - Processing field Wind Direction at 10m [deg] of lso_meteo...\n",
      "2021-08-25 21:20:07,252 - DEBUG - Dropping NaNs...\n",
      "2021-08-25 21:20:07,439 - INFO - Dataset preprocessing complete.\n",
      "2021-08-25 21:20:07,439 - INFO - Synchronizing dataset...\n",
      "2021-08-25 21:20:07,439 - DEBUG - Resampling DataSource 1 of 2...\n",
      "2021-08-25 21:20:07,813 - DEBUG - Resampling DataSource 2 of 2...\n",
      "2021-08-25 21:20:08,548 - DEBUG - Finding overlapping range and joining into single dataframe...\n",
      "2021-08-25 21:20:10,824 - DEBUG - Splitting data into contiguous chunks...\n",
      "2021-08-25 21:20:16,476 - INFO - Dataset synchronization complete.\n",
      "2021-08-25 21:20:16,638 - INFO - Postprocessing dataset...\n",
      "2021-08-25 21:20:16,918 - DEBUG - Processing field Date time...\n",
      "2021-08-25 21:20:16,918 - DEBUG - Processing field DIMM Seeing [arcsec]...\n",
      "2021-08-25 21:20:16,929 - DEBUG - Applying moving average for smoothing...\n",
      "2021-08-25 21:20:19,409 - DEBUG - Processing field Date time...\n",
      "2021-08-25 21:20:19,409 - DEBUG - Processing field Wind Speed at 10m [m/s]...\n",
      "2021-08-25 21:20:19,409 - DEBUG - Processing field Wind Direction at 10m [deg]...\n",
      "2021-08-25 21:20:19,409 - INFO - Dataset postprocessing complete.\n",
      "2021-08-25 21:20:19,433 - INFO - Serializing postprocessing results...\n",
      "2021-08-25 21:20:19,749 - INFO - Serialization complete.\n"
     ]
    }
   ],
   "source": [
    "!nowcastlib -v postprocess -c tutorial_pipeline_postprocess.json"
   ]
  },
  {
   "cell_type": "markdown",
   "id": "b35c7f86-2234-4ce4-b4d5-9eff2542bfe9",
   "metadata": {},
   "source": [
    "---"
   ]
  },
  {
   "cell_type": "markdown",
   "id": "9cf6aa1c-8bef-4492-85df-43eae1006271",
   "metadata": {},
   "source": [
    "We can check that our postprocessing occured by comparing the results of our synchronization run from earlier to our postprocessing output now. The \"DIMM Seeing [arcsecs]\" field should appear as smoothed in the postprocessing output."
   ]
  },
  {
   "cell_type": "code",
   "execution_count": 20,
   "id": "74fc9390-f0a8-4f48-8c26-7ecf2ddb3d4b",
   "metadata": {},
   "outputs": [],
   "source": [
    "synced_df = pd.read_pickle(\"output/example_datapipe/synced_df.pkl\")\n",
    "postproc_df = pd.read_pickle(\"output/example_datapipe/postprocessed_df.pkl\")"
   ]
  },
  {
   "cell_type": "code",
   "execution_count": 21,
   "id": "741f6637-f55b-4ee4-b800-c550d6d2c3fe",
   "metadata": {},
   "outputs": [],
   "source": [
    "import matplotlib.pyplot as plt\n",
    "import seaborn as sns"
   ]
  },
  {
   "cell_type": "code",
   "execution_count": 22,
   "id": "80fe5d51-b9f4-4aec-b424-58a63a972b76",
   "metadata": {},
   "outputs": [],
   "source": [
    "sns.set_context(\"notebook\")\n",
    "sns.set_style(\"ticks\")"
   ]
  },
  {
   "cell_type": "code",
   "execution_count": 23,
   "id": "23b3bde3-f2a9-4e92-aea0-9d05934de2fa",
   "metadata": {},
   "outputs": [
    {
     "data": {
      "image/png": "[encoded data removed]",
      "text/plain": [
       "<Figure size 1152x576 with 1 Axes>"
      ]
     },
     "metadata": {},
     "output_type": "display_data"
    }
   ],
   "source": [
    "f, ax = plt.subplots(1, 1, figsize=(16, 8))\n",
    "ax.plot(\n",
    "    synced_df[\"DIMM Seeing [arcsec]\"][1000:2000],\n",
    "    label=\"synchronization output\",\n",
    "    color=\"black\",\n",
    ")\n",
    "ax.plot(\n",
    "    postproc_df[\"DIMM Seeing [arcsec]\"][1000:2000],\n",
    "    label=\"postprocessing output\",\n",
    "    color=\"red\",\n",
    ")\n",
    "ax.set_xlabel(\"Date [mm-dd yy]\")\n",
    "ax.set_ylabel(\"DIMM Seeing [arcsec]\")\n",
    "ax.set_title(\"Random chunk of Data\")\n",
    "ax.legend()\n",
    "f.set_tight_layout(True)\n",
    "plt.show()"
   ]
  },
  {
   "cell_type": "markdown",
   "id": "5d8ea9a4-8762-406c-8934-4978f29909ba",
   "metadata": {},
   "source": [
    "As we can see the \"DIMM Seeing [arcsec]\" field was indeed smoothed with our postprocessed run"
   ]
  },
  {
   "cell_type": "markdown",
   "id": "8aa58fb0-f66d-43e8-a49d-957beb7a795b",
   "metadata": {},
   "source": [
    "#### Generating Additional Fields"
   ]
  },
  {
   "cell_type": "markdown",
   "id": "3d1b2e09-15ad-4391-9de3-51b34642a896",
   "metadata": {},
   "source": [
    "After postprocessing our `RawFields`, we may decide to use these to generate new fields. We do this by configuring the `generated_fields` top level key of our `DataSet` config. "
   ]
  },
  {
   "cell_type": "markdown",
   "id": "f69e80d7-c240-45ef-91fd-153d3b49e37a",
   "metadata": {},
   "source": [
    "```JSON\n",
    "{\n",
    "   \"generated_fields\":[\n",
    "      {\n",
    "         \"target_name\":\"sin_t_sunset\",\n",
    "         \"input_fields\":[\n",
    "            \"index\"\n",
    "         ],\n",
    "         \"gen_func\":\"sin_t_since_sunset\",\n",
    "         \"additional_kwargs\":{\n",
    "            \"lat\":-24.6275,\n",
    "            \"lon\":-70.4044,\n",
    "            \"elevation\":2635\n",
    "         }\n",
    "      }\n",
    "   ],\n",
    "   \"postprocessing_output\":{\n",
    "      \"output_format\":\"pickle\",\n",
    "      \"output_path\":\"output/example_datapipe/postprocessed_df_genfields.pkl\"\n",
    "   },\n",
    "   \"sync_options\":{\n",
    "      \"sample_spacing\":60,\n",
    "      \"chunk_options\":{\n",
    "         \"max_gap_size\":600,\n",
    "         \"min_chunk_size\":3600\n",
    "      },\n",
    "      \"diagnostic_plots\":false\n",
    "   },\n",
    "   \"data_sources\":[\n",
    "      {\n",
    "         \"name\":\"lso_dimm\",\n",
    "         \"path\":\"data/LSO/lasilla_dimm.csv\",\n",
    "         \"fields\":[\n",
    "            {\n",
    "               \"field_name\":\"Date time\",\n",
    "               \"is_date\":true\n",
    "            },\n",
    "            {\n",
    "               \"field_name\":\"DIMM Seeing [arcsec]\",\n",
    "               \"postprocessing_options\":{\n",
    "                  \"smooth_options\":{\n",
    "                     \"window_size\":10,\n",
    "                     \"units\":\"min\"\n",
    "                  }\n",
    "               }\n",
    "            }\n",
    "         ],\n",
    "         \"comment_format\":\"#\"\n",
    "      },\n",
    "      {\n",
    "         \"name\":\"lso_meteo\",\n",
    "         \"path\":\"data/LSO/lasilla_meteo.csv\",\n",
    "         \"fields\":[\n",
    "            {\n",
    "               \"field_name\":\"Date time\",\n",
    "               \"is_date\":true\n",
    "            },\n",
    "            {\n",
    "               \"field_name\":\"Wind Speed at 10m [m/s]\"\n",
    "            },\n",
    "            {\n",
    "               \"field_name\":\"Wind Direction at 10m [deg]\"\n",
    "            }\n",
    "         ],\n",
    "         \"comment_format\":\"#\"\n",
    "      }\n",
    "   ]\n",
    "}\n",
    "```"
   ]
  },
  {
   "cell_type": "markdown",
   "id": "26e42923-a6c8-4bda-80e7-b4e170268d5d",
   "metadata": {},
   "source": [
    "The `generated_fields` key contains a tuple (an array in JSON) of `GeneratedField` structs. Each one of these tells the pipeline how to generate new fields based on pre-implemented functions:\n",
    "\n",
    "- `target_name` will be the name of the new field\n",
    "- `input_field` is a tuple of the names of the fields to use as input to the\n",
    "   generator function\n",
    "- `gen_func` is the lowercase name of the function to use as identified by the\n",
    "  `GeneratorFunction` enumeration struct.\n",
    "- `additional_kwargs` is a dictionary of additional key-word arguments \n",
    "   necessary for the function.\n",
    "   \n",
    "In our case, we have configured our pipeline to generate one new field consisting in the sine of the seconds since the last sunset out of the number of seconds in teh day. This of course requires a temporal input which is why we pass our index. We also need to provide the pipeline with geographical information so that it knows where the sun horizon is.\n",
    "\n",
    "Note -- at the moment, this function is _very_ slow. Please allow around 5 minutes for this operation alone. This is a known issue being tracked [here](https://gitlab.eso.org/gstarace/nowcastlib/-/issues/4)"
   ]
  },
  {
   "cell_type": "markdown",
   "id": "86a4d2da-9761-489d-b4c1-8d936292cc0a",
   "metadata": {},
   "source": [
    "#### Postprocessing Example Run 2"
   ]
  },
  {
   "cell_type": "markdown",
   "id": "f73e78c8-90a0-4954-9313-ea99cb0b3c2e",
   "metadata": {},
   "source": [
    "Generating additional fields is part of the `postprocess` CLI command. Simply specifying the additional configuration will let the pipeline know that we are interested in generating additional fields. Let's save the above config to the file `tutorial_pipeline_postprocess_genfields.json` and try it out.\n",
    "\n",
    "---"
   ]
  },
  {
   "cell_type": "code",
   "execution_count": 24,
   "id": "8026b3dd-f85f-4bfa-81e0-22c0a0c2b658",
   "metadata": {},
   "outputs": [
    {
     "name": "stdout",
     "output_type": "stream",
     "text": [
      "2021-08-25 21:20:23,501 - INFO - Preprocessing dataset...\n",
      "2021-08-25 21:20:23,502 - DEBUG - Preprocessing lso_dimm...\n",
      "2021-08-25 21:20:23,502 - DEBUG - Reading file...\n",
      "2021-08-25 21:20:24,905 - DEBUG - Processing field Date time of lso_dimm...\n",
      "2021-08-25 21:20:24,905 - DEBUG - Processing field DIMM Seeing [arcsec] of lso_dimm...\n",
      "2021-08-25 21:20:24,905 - DEBUG - Dropping NaNs...\n",
      "2021-08-25 21:20:24,933 - DEBUG - Preprocessing lso_meteo...\n",
      "2021-08-25 21:20:24,933 - DEBUG - Reading file...\n",
      "2021-08-25 21:20:33,381 - DEBUG - Processing field Date time of lso_meteo...\n",
      "2021-08-25 21:20:33,381 - DEBUG - Processing field Wind Speed at 10m [m/s] of lso_meteo...\n",
      "2021-08-25 21:20:33,381 - DEBUG - Processing field Wind Direction at 10m [deg] of lso_meteo...\n",
      "2021-08-25 21:20:33,381 - DEBUG - Dropping NaNs...\n",
      "2021-08-25 21:20:33,522 - INFO - Dataset preprocessing complete.\n",
      "2021-08-25 21:20:33,522 - INFO - Synchronizing dataset...\n",
      "2021-08-25 21:20:33,522 - DEBUG - Resampling DataSource 1 of 2...\n",
      "2021-08-25 21:20:33,856 - DEBUG - Resampling DataSource 2 of 2...\n",
      "2021-08-25 21:20:34,614 - DEBUG - Finding overlapping range and joining into single dataframe...\n",
      "2021-08-25 21:20:36,843 - DEBUG - Splitting data into contiguous chunks...\n",
      "2021-08-25 21:20:42,455 - INFO - Dataset synchronization complete.\n",
      "2021-08-25 21:20:42,570 - INFO - Postprocessing dataset...\n",
      "2021-08-25 21:20:42,861 - DEBUG - Processing field Date time...\n",
      "2021-08-25 21:20:42,861 - DEBUG - Processing field DIMM Seeing [arcsec]...\n",
      "2021-08-25 21:20:42,871 - DEBUG - Applying moving average for smoothing...\n",
      "2021-08-25 21:20:45,113 - DEBUG - Processing field Date time...\n",
      "2021-08-25 21:20:45,113 - DEBUG - Processing field Wind Speed at 10m [m/s]...\n",
      "2021-08-25 21:20:45,113 - DEBUG - Processing field Wind Direction at 10m [deg]...\n",
      "2021-08-25 21:20:45,113 - INFO - Dataset postprocessing complete.\n",
      "2021-08-25 21:20:45,234 - INFO - Generating additional fields...\n",
      "2021-08-25 21:20:45,234 - DEBUG - Generating field sin_t_sunset...\n",
      "2021-08-25 21:24:16,516 - INFO - Field Generation complete.\n",
      "2021-08-25 21:24:16,527 - INFO - Serializing postprocessing results...\n",
      "2021-08-25 21:24:17,076 - INFO - Serialization complete.\n"
     ]
    }
   ],
   "source": [
    "!nowcastlib -v postprocess -c tutorial_pipeline_postprocess_genfields.json"
   ]
  },
  {
   "cell_type": "markdown",
   "id": "9bc66796-f05f-45f2-a7f4-c2de95de8d9b",
   "metadata": {},
   "source": [
    "---\n",
    "\n",
    "Let's read our postprocessing (with additional generated fields) results and check that it worked."
   ]
  },
  {
   "cell_type": "code",
   "execution_count": 25,
   "id": "59d338cc-6955-4304-8f0a-afe16fe0bc14",
   "metadata": {},
   "outputs": [],
   "source": [
    "genfield_df = pd.read_pickle(\"output/example_datapipe/postprocessed_df_genfields.pkl\")"
   ]
  },
  {
   "cell_type": "code",
   "execution_count": 26,
   "id": "ddffe5dc-539f-40cf-b00f-f7a06cd2eafb",
   "metadata": {},
   "outputs": [
    {
     "data": {
      "text/html": [
       "<div>\n",
       "<style scoped>\n",
       "    .dataframe tbody tr th:only-of-type {\n",
       "        vertical-align: middle;\n",
       "    }\n",
       "\n",
       "    .dataframe tbody tr th {\n",
       "        vertical-align: top;\n",
       "    }\n",
       "\n",
       "    .dataframe thead th {\n",
       "        text-align: right;\n",
       "    }\n",
       "</style>\n",
       "<table border=\"1\" class=\"dataframe\">\n",
       "  <thead>\n",
       "    <tr style=\"text-align: right;\">\n",
       "      <th></th>\n",
       "      <th>DIMM Seeing [arcsec]</th>\n",
       "      <th>Wind Direction at 10m [deg]</th>\n",
       "      <th>Wind Speed at 10m [m/s]</th>\n",
       "      <th>sin_t_sunset</th>\n",
       "    </tr>\n",
       "  </thead>\n",
       "  <tbody>\n",
       "    <tr>\n",
       "      <th>2005-04-20 08:06:00</th>\n",
       "      <td>1.682727</td>\n",
       "      <td>51.0</td>\n",
       "      <td>3.3</td>\n",
       "      <td>0.562985</td>\n",
       "    </tr>\n",
       "    <tr>\n",
       "      <th>2005-04-20 08:07:00</th>\n",
       "      <td>1.693636</td>\n",
       "      <td>51.0</td>\n",
       "      <td>3.3</td>\n",
       "      <td>0.559374</td>\n",
       "    </tr>\n",
       "    <tr>\n",
       "      <th>2005-04-20 08:08:00</th>\n",
       "      <td>1.670909</td>\n",
       "      <td>51.0</td>\n",
       "      <td>3.3</td>\n",
       "      <td>0.555752</td>\n",
       "    </tr>\n",
       "    <tr>\n",
       "      <th>2005-04-20 08:09:00</th>\n",
       "      <td>1.640909</td>\n",
       "      <td>51.0</td>\n",
       "      <td>3.3</td>\n",
       "      <td>0.552119</td>\n",
       "    </tr>\n",
       "    <tr>\n",
       "      <th>2005-04-20 08:10:00</th>\n",
       "      <td>1.631818</td>\n",
       "      <td>51.0</td>\n",
       "      <td>3.3</td>\n",
       "      <td>0.548476</td>\n",
       "    </tr>\n",
       "    <tr>\n",
       "      <th>...</th>\n",
       "      <td>...</td>\n",
       "      <td>...</td>\n",
       "      <td>...</td>\n",
       "      <td>...</td>\n",
       "    </tr>\n",
       "    <tr>\n",
       "      <th>2005-04-20 09:41:00</th>\n",
       "      <td>2.154545</td>\n",
       "      <td>60.0</td>\n",
       "      <td>2.5</td>\n",
       "      <td>0.182450</td>\n",
       "    </tr>\n",
       "    <tr>\n",
       "      <th>2005-04-20 09:42:00</th>\n",
       "      <td>2.199091</td>\n",
       "      <td>60.0</td>\n",
       "      <td>2.5</td>\n",
       "      <td>0.178158</td>\n",
       "    </tr>\n",
       "    <tr>\n",
       "      <th>2005-04-20 09:43:00</th>\n",
       "      <td>2.234545</td>\n",
       "      <td>60.0</td>\n",
       "      <td>2.5</td>\n",
       "      <td>0.173863</td>\n",
       "    </tr>\n",
       "    <tr>\n",
       "      <th>2005-04-20 09:44:00</th>\n",
       "      <td>2.285455</td>\n",
       "      <td>60.0</td>\n",
       "      <td>2.5</td>\n",
       "      <td>0.169565</td>\n",
       "    </tr>\n",
       "    <tr>\n",
       "      <th>2005-04-20 09:45:00</th>\n",
       "      <td>2.290909</td>\n",
       "      <td>60.0</td>\n",
       "      <td>2.5</td>\n",
       "      <td>0.165263</td>\n",
       "    </tr>\n",
       "  </tbody>\n",
       "</table>\n",
       "<p>100 rows × 4 columns</p>\n",
       "</div>"
      ],
      "text/plain": [
       "                     DIMM Seeing [arcsec]  Wind Direction at 10m [deg]  \\\n",
       "2005-04-20 08:06:00              1.682727                         51.0   \n",
       "2005-04-20 08:07:00              1.693636                         51.0   \n",
       "2005-04-20 08:08:00              1.670909                         51.0   \n",
       "2005-04-20 08:09:00              1.640909                         51.0   \n",
       "2005-04-20 08:10:00              1.631818                         51.0   \n",
       "...                                   ...                          ...   \n",
       "2005-04-20 09:41:00              2.154545                         60.0   \n",
       "2005-04-20 09:42:00              2.199091                         60.0   \n",
       "2005-04-20 09:43:00              2.234545                         60.0   \n",
       "2005-04-20 09:44:00              2.285455                         60.0   \n",
       "2005-04-20 09:45:00              2.290909                         60.0   \n",
       "\n",
       "                     Wind Speed at 10m [m/s]  sin_t_sunset  \n",
       "2005-04-20 08:06:00                      3.3      0.562985  \n",
       "2005-04-20 08:07:00                      3.3      0.559374  \n",
       "2005-04-20 08:08:00                      3.3      0.555752  \n",
       "2005-04-20 08:09:00                      3.3      0.552119  \n",
       "2005-04-20 08:10:00                      3.3      0.548476  \n",
       "...                                      ...           ...  \n",
       "2005-04-20 09:41:00                      2.5      0.182450  \n",
       "2005-04-20 09:42:00                      2.5      0.178158  \n",
       "2005-04-20 09:43:00                      2.5      0.173863  \n",
       "2005-04-20 09:44:00                      2.5      0.169565  \n",
       "2005-04-20 09:45:00                      2.5      0.165263  \n",
       "\n",
       "[100 rows x 4 columns]"
      ]
     },
     "execution_count": 26,
     "metadata": {},
     "output_type": "execute_result"
    }
   ],
   "source": [
    "genfield_df[1900:2000]"
   ]
  },
  {
   "cell_type": "markdown",
   "id": "64ef5cbe-dcff-40f3-933a-193920a89950",
   "metadata": {},
   "source": [
    "As we can see, an additional column with the generated field has been added."
   ]
  },
  {
   "cell_type": "markdown",
   "id": "61f965ef-407c-4b79-8f73-a639057a709a",
   "metadata": {},
   "source": [
    "### Splitprocessing"
   ]
  },
  {
   "cell_type": "markdown",
   "id": "f6cb6a7a-bebd-4bd2-a321-17e9578d785a",
   "metadata": {},
   "source": [
    "Some operations require careful consideration of the data splitting intricacies to avoid information leakage across train and test sets. These operations, which we refer to as \"splitprocessing\", will therefore occur after we split our data. \n",
    "\n",
    "As such, data splitting options need to be configured for splitprocessing to occur.\n",
    "\n",
    "Let's add add a top level `split_options` key to our most recent config, omitting additional generated fields for the sake of speed:"
   ]
  },
  {
   "cell_type": "markdown",
   "id": "0c4e6b28-31b6-4142-8d75-f425ce50af35",
   "metadata": {},
   "source": [
    "```JSON\n",
    "{\n",
    "   \"split_options\":{\n",
    "      \"train_split\":0.8,\n",
    "      \"validation\":{\n",
    "         \"train_extent\":0.7,\n",
    "         \"val_extent\":0.1,\n",
    "         \"iterations\":3\n",
    "      }\n",
    "   },\n",
    "   \"postprocessing_output\":{\n",
    "      \"output_format\":\"pickle\",\n",
    "      \"output_path\":\"output/example_datapipe/postprocessed_df_genfields.pkl\"\n",
    "   },\n",
    "   \"sync_options\":{\n",
    "      \"sample_spacing\":60,\n",
    "      \"chunk_options\":{\n",
    "         \"max_gap_size\":600,\n",
    "         \"min_chunk_size\":3600\n",
    "      },\n",
    "      \"diagnostic_plots\":false\n",
    "   },\n",
    "   \"data_sources\":[\n",
    "      {\n",
    "         \"name\":\"lso_dimm\",\n",
    "         \"path\":\"data/LSO/lasilla_dimm.csv\",\n",
    "         \"fields\":[\n",
    "            {\n",
    "               \"field_name\":\"Date time\",\n",
    "               \"is_date\":true\n",
    "            },\n",
    "            {\n",
    "               \"field_name\":\"DIMM Seeing [arcsec]\",\n",
    "               \"postprocessing_options\":{\n",
    "                  \"smooth_options\":{\n",
    "                     \"window_size\":10,\n",
    "                     \"units\":\"min\"\n",
    "                  }\n",
    "               }\n",
    "            }\n",
    "         ],\n",
    "         \"comment_format\":\"#\"\n",
    "      },\n",
    "      {\n",
    "         \"name\":\"lso_meteo\",\n",
    "         \"path\":\"data/LSO/lasilla_meteo.csv\",\n",
    "         \"fields\":[\n",
    "            {\n",
    "               \"field_name\":\"Date time\",\n",
    "               \"is_date\":true\n",
    "            },\n",
    "            {\n",
    "               \"field_name\":\"Wind Speed at 10m [m/s]\"\n",
    "            },\n",
    "            {\n",
    "               \"field_name\":\"Wind Direction at 10m [deg]\"\n",
    "            }\n",
    "         ],\n",
    "         \"comment_format\":\"#\"\n",
    "      }\n",
    "   ]\n",
    "}\n",
    "```"
   ]
  },
  {
   "cell_type": "markdown",
   "id": "6976530e-9ee6-4ff3-a873-71acf9074397",
   "metadata": {},
   "source": [
    "The way we split our data is determined by how we plan to evaluate it. The model training and evaluation subpipeline (not yet implemented) is made of two test harnesses:\n",
    "\n",
    "- One for cross validation, using repeated holdout splits of the training set.\n",
    "- One for model evaluation, using the actual test set.\n",
    "\n",
    "From this, one infers that there is a nested splitting process involved in our pipeline. This is mirrored in the `split_options` configuration: \n",
    "\n",
    "- `train_split` specifies the percentage, index or date at which we wish to split our entire dataset into training and test sets. In our particular case, we are using 80% (0.8) of our dataset for training and cross validation, with the remaining 20% being left for the test set.\n",
    "- We then split this 80% further for cross validation in \"folds\". This is to allow the user to gather statistics and metrics about the model performance without touching the test set and hence avoiding overfitting. This is what we refer to as cross validation. This is configured in the `validation` key.\n",
    "    - `train_extent` is the percentage of the training data to use for each\n",
    "       training fold\n",
    "    - `val_extent` is the same but for each validation fold\n",
    "    - to avoid overlap across folds, `train_extent + val_extent` should be  \n",
    "      around 0.6 or 0.7, depending on the number of folds.\n",
    "    - `iterations` corresponds to the number of folds."
   ]
  },
  {
   "cell_type": "markdown",
   "id": "7ebfb958-85a3-4a6c-b624-f7227f8c7b55",
   "metadata": {},
   "source": [
    "#### Standardization"
   ]
  },
  {
   "cell_type": "markdown",
   "id": "d9ea2174-2d20-4c4a-9a8a-aabfe243571f",
   "metadata": {},
   "source": [
    "Before handing off our data for our models to train on, we may wish to standardize it. This is the process of rescaling or reshaping the data so that it falls into a smaller range or follows a different distribution. Certain algorithms assume their input to be Gaussian, while other algorithms simply perform better when their input is relatively small ($|x| < 1$) (e.g. vanishing/exploding gradients problem), so it is useful to be able to standardize the data to meet these requirements.\n",
    "\n",
    "Some standardization methods make use of sample statistics to work and as such special care needs to be taken to avoid information leakage between train and test sets. This is why the nowcastlib pipeline splits the dataset before standardization\n",
    "\n",
    "The `GeneratedField` and `RawField` structs share a common parent, the `BaseField` from which they inherit the `std_options` attribute. This key is used to tell the pipeline how to standardize our fields. Once again, let's only standardize one field (\"DIMM Seeing [arcsec]\") to keep things simple."
   ]
  },
  {
   "cell_type": "markdown",
   "id": "3142b124-5af5-48aa-9a7d-0623b65d2fc1",
   "metadata": {},
   "source": [
    "```JSON\n",
    "   \"split_options\":{\n",
    "      \"train_split\":0.8,\n",
    "      \"validation\":{\n",
    "         \"train_extent\":0.7,\n",
    "         \"val_extent\":0.1,\n",
    "         \"iterations\":3\n",
    "      }\n",
    "   },\n",
    "   \"postprocessing_output\":{\n",
    "      \"output_format\":\"pickle\",\n",
    "      \"output_path\":\"output/example_datapipe/postprocessed_df_genfields.pkl\"\n",
    "   },\n",
    "   \"sync_options\":{\n",
    "      \"sample_spacing\":60,\n",
    "      \"chunk_options\":{\n",
    "         \"max_gap_size\":600,\n",
    "         \"min_chunk_size\":3600\n",
    "      },\n",
    "      \"diagnostic_plots\":false\n",
    "   },\n",
    "   \"data_sources\":[\n",
    "      {\n",
    "         \"name\":\"lso_dimm\",\n",
    "         \"path\":\"data/LSO/lasilla_dimm.csv\",\n",
    "         \"fields\":[\n",
    "            {\n",
    "               \"field_name\":\"Date time\",\n",
    "               \"is_date\":true\n",
    "            },\n",
    "            {\n",
    "               \"field_name\":\"DIMM Seeing [arcsec]\",\n",
    "               \"postprocessing_options\":{\n",
    "                  \"smooth_options\":{\n",
    "                     \"window_size\":10,\n",
    "                     \"units\":\"min\"\n",
    "                  }\n",
    "               },\n",
    "                \"std_options\":{\n",
    "                  \"method\":\"robust\",\n",
    "                  \"diagnostic_plots\":false\n",
    "               }\n",
    "            }\n",
    "         ],\n",
    "         \"comment_format\":\"#\"\n",
    "      },\n",
    "      {\n",
    "         \"name\":\"lso_meteo\",\n",
    "         \"path\":\"data/LSO/lasilla_meteo.csv\",\n",
    "         \"fields\":[\n",
    "            {\n",
    "               \"field_name\":\"Date time\",\n",
    "               \"is_date\":true\n",
    "            },\n",
    "            {\n",
    "               \"field_name\":\"Wind Speed at 10m [m/s]\"\n",
    "            },\n",
    "            {\n",
    "               \"field_name\":\"Wind Direction at 10m [deg]\"\n",
    "            }\n",
    "         ],\n",
    "         \"comment_format\":\"#\"\n",
    "      }\n",
    "   ]\n",
    "}\n",
    "```"
   ]
  },
  {
   "cell_type": "markdown",
   "id": "799db2e4-ff7c-4dee-af75-bed80c0bf6df",
   "metadata": {},
   "source": [
    "The `std_options` key contains a `StandardizationOptions` struct:\n",
    "- The `method` key takes a `StandardizationMethod` enumeration value. In this case we have chosen `robust`. This centers the distribution about its median and then rescales it using its interquartile range so to preserve the shape (including outliers) while keeping the data as close to the [-1, 1] range as possible.\n",
    "- Setting the `diagnostic_plots` key to `true` will have the pipeline prompt\n",
    "  the user to confirm their selected standardization method after viewing a \n",
    "  plot of the distributions of the data with each of the available methods\n",
    "  applied as well as without any standardization. Once again, since we are\n",
    "  running the pipeline as a terminal command from within Jupyter, interactive\n",
    "  plots cannot be shown, and as such it is set to `false`."
   ]
  },
  {
   "cell_type": "markdown",
   "id": "555e2eb8-6cc9-4b9c-91c1-3a19cc5e271f",
   "metadata": {},
   "source": [
    "#### Splitprocessing example run"
   ]
  },
  {
   "cell_type": "markdown",
   "id": "a5b00dc3-2a4a-44bf-ad76-59bb1bfb4132",
   "metadata": {},
   "source": [
    "With the config above, the result of splitting and standardizing will not be saved to disk. To do so, we need to specify the `output_options` key within our `SplitOptions` configuration. Let's also get rid of the `postprocessing_output` key since we are no longer interested in that."
   ]
  },
  {
   "cell_type": "markdown",
   "id": "ca2e5c60-be48-4fed-a0fa-796c0ebc0351",
   "metadata": {},
   "source": [
    "```JSON\n",
    "{\n",
    "   \"split_options\":{\n",
    "      \"train_split\":0.8,\n",
    "      \"validation\":{\n",
    "         \"train_extent\":0.7,\n",
    "         \"val_extent\":0.1,\n",
    "         \"iterations\":3\n",
    "      },\n",
    "      \"output_options\":{\n",
    "         \"parent_path\":\"output/example_datapipe/split_output\",\n",
    "         \"overwrite\":true,\n",
    "         \"create_parents\":true\n",
    "      }\n",
    "   },\n",
    "   \"sync_options\":{\n",
    "      \"sample_spacing\":60,\n",
    "      \"chunk_options\":{\n",
    "         \"max_gap_size\":600,\n",
    "         \"min_chunk_size\":3600\n",
    "      },\n",
    "      \"diagnostic_plots\":false\n",
    "   },\n",
    "   \"data_sources\":[\n",
    "      {\n",
    "         \"name\":\"lso_dimm\",\n",
    "         \"path\":\"data/LSO/lasilla_dimm.csv\",\n",
    "         \"fields\":[\n",
    "            {\n",
    "               \"field_name\":\"Date time\",\n",
    "               \"is_date\":true\n",
    "            },\n",
    "            {\n",
    "               \"field_name\":\"DIMM Seeing [arcsec]\",\n",
    "               \"postprocessing_options\":{\n",
    "                  \"smooth_options\":{\n",
    "                     \"window_size\":10,\n",
    "                     \"units\":\"min\"\n",
    "                  }\n",
    "               },\n",
    "               \"std_options\":{\n",
    "                  \"method\":\"robust\",\n",
    "                  \"diagnostic_plots\":false\n",
    "               }\n",
    "            }\n",
    "         ],\n",
    "         \"comment_format\":\"#\"\n",
    "      },\n",
    "      {\n",
    "         \"name\":\"lso_meteo\",\n",
    "         \"path\":\"data/LSO/lasilla_meteo.csv\",\n",
    "         \"fields\":[\n",
    "            {\n",
    "               \"field_name\":\"Date time\",\n",
    "               \"is_date\":true\n",
    "            },\n",
    "            {\n",
    "               \"field_name\":\"Wind Speed at 10m [m/s]\"\n",
    "            },\n",
    "            {\n",
    "               \"field_name\":\"Wind Direction at 10m [deg]\"\n",
    "            }\n",
    "         ],\n",
    "         \"comment_format\":\"#\"\n",
    "      }\n",
    "   ]\n",
    "}\n",
    "```"
   ]
  },
  {
   "cell_type": "markdown",
   "id": "75627c0a-d6ac-44a1-afd2-618dd05860a2",
   "metadata": {},
   "source": [
    "Let's save the above config to the file `tutorial_pipeline_splitprocess.json` and try it out. Some notes:\n",
    "\n",
    "1. If we wanted to simply perform splitting without any standardization, all we would have to do is omit any standardization configuration, leaving in the split configuration. \n",
    "2. Running splitprocess on its own will not run postprocessing since the minimum requirement is a synchronized dataset. Instead it will run all processes up to and including synchronization before proceeding to splitprocessing.\n",
    "3. The split serialization process is somewhat slow. Please allow a few minutes for it to complete.\n",
    "\n",
    "---"
   ]
  },
  {
   "cell_type": "code",
   "execution_count": 27,
   "id": "afad74b5-b090-4a5a-b85b-691ee272a673",
   "metadata": {},
   "outputs": [
    {
     "name": "stdout",
     "output_type": "stream",
     "text": [
      "2021-08-25 21:24:20,699 - INFO - Preprocessing dataset...\n",
      "2021-08-25 21:24:20,699 - DEBUG - Preprocessing lso_dimm...\n",
      "2021-08-25 21:24:20,699 - DEBUG - Reading file...\n",
      "2021-08-25 21:24:22,423 - DEBUG - Processing field Date time of lso_dimm...\n",
      "2021-08-25 21:24:22,423 - DEBUG - Processing field DIMM Seeing [arcsec] of lso_dimm...\n",
      "2021-08-25 21:24:22,423 - DEBUG - Dropping NaNs...\n",
      "2021-08-25 21:24:22,449 - DEBUG - Preprocessing lso_meteo...\n",
      "2021-08-25 21:24:22,449 - DEBUG - Reading file...\n",
      "2021-08-25 21:24:32,637 - DEBUG - Processing field Date time of lso_meteo...\n",
      "2021-08-25 21:24:32,637 - DEBUG - Processing field Wind Speed at 10m [m/s] of lso_meteo...\n",
      "2021-08-25 21:24:32,637 - DEBUG - Processing field Wind Direction at 10m [deg] of lso_meteo...\n",
      "2021-08-25 21:24:32,638 - DEBUG - Dropping NaNs...\n",
      "2021-08-25 21:24:32,782 - INFO - Dataset preprocessing complete.\n",
      "2021-08-25 21:24:32,782 - INFO - Synchronizing dataset...\n",
      "2021-08-25 21:24:32,782 - DEBUG - Resampling DataSource 1 of 2...\n",
      "2021-08-25 21:24:33,175 - DEBUG - Resampling DataSource 2 of 2...\n",
      "2021-08-25 21:24:33,963 - DEBUG - Finding overlapping range and joining into single dataframe...\n",
      "2021-08-25 21:24:36,113 - DEBUG - Splitting data into contiguous chunks...\n",
      "2021-08-25 21:24:41,946 - INFO - Dataset synchronization complete.\n",
      "2021-08-25 21:24:42,063 - INFO - Splitting dataset...\n",
      "2021-08-25 21:24:42,063 - DEBUG - Performing outer split...\n",
      "2021-08-25 21:24:42,080 - DEBUG - Performing inner split...\n",
      "2021-08-25 21:24:42,559 - INFO - Dataset splitting complete...\n",
      "2021-08-25 21:24:42,560 - INFO - Standardizing splits...\n",
      "2021-08-25 21:24:42,560 - DEBUG - Standardizing field DIMM Seeing [arcsec]...\n",
      "2021-08-25 21:24:42,768 - INFO - Standardization complete.\n",
      "2021-08-25 21:24:42,768 - INFO - Standardizing splits...\n",
      "2021-08-25 21:24:42,769 - DEBUG - Standardizing field DIMM Seeing [arcsec]...\n",
      "2021-08-25 21:24:42,903 - DEBUG - Standardizing field DIMM Seeing [arcsec]...\n",
      "2021-08-25 21:24:42,999 - DEBUG - Standardizing field DIMM Seeing [arcsec]...\n",
      "2021-08-25 21:24:43,193 - INFO - Standardization complete.\n",
      "2021-08-25 21:24:43,193 - INFO - Serializing splits...\n",
      "2021-08-25 21:44:39,577 - INFO - Split serialization complete.\n",
      "Closing remaining open files:output/example_datapipe/split_output/main_split/test_data.hdf5...doneoutput/example_datapipe/split_output/cv_split/train_data_1.hdf5...doneoutput/example_datapipe/split_output/cv_split/train_data_2.hdf5...doneoutput/example_datapipe/split_output/cv_split/train_data_3.hdf5...doneoutput/example_datapipe/split_output/cv_split/val_data_3.hdf5...doneoutput/example_datapipe/split_output/cv_split/val_data_2.hdf5...doneoutput/example_datapipe/split_output/cv_split/val_data_1.hdf5...doneoutput/example_datapipe/split_output/main_split/train_data.hdf5...done\n"
     ]
    }
   ],
   "source": [
    "!nowcastlib -v splitprocess -c tutorial_pipeline_splitprocess.json"
   ]
  },
  {
   "cell_type": "markdown",
   "id": "308d0f04-030b-4261-bd9e-92476539f587",
   "metadata": {},
   "source": [
    "---\n",
    "\n",
    "Let's verify that our splits were serialized as configured:"
   ]
  },
  {
   "cell_type": "code",
   "execution_count": 28,
   "id": "e518662a-4635-4674-ae74-8e128e43129b",
   "metadata": {},
   "outputs": [
    {
     "name": "stdout",
     "output_type": "stream",
     "text": [
      "\u001b[01;34moutput/example_datapipe/split_output/\u001b[00m\n",
      "├── \u001b[01;34mcv_split\u001b[00m\n",
      "│   ├── train_data_1.hdf5\n",
      "│   ├── train_data_2.hdf5\n",
      "│   ├── train_data_3.hdf5\n",
      "│   ├── val_data_1.hdf5\n",
      "│   ├── val_data_2.hdf5\n",
      "│   └── val_data_3.hdf5\n",
      "└── \u001b[01;34mmain_split\u001b[00m\n",
      "    ├── test_data.hdf5\n",
      "    └── train_data.hdf5\n",
      "\n",
      "2 directories, 8 files\n"
     ]
    }
   ],
   "source": [
    "!tree output/example_datapipe/split_output/"
   ]
  },
  {
   "cell_type": "markdown",
   "id": "2b19ff73-8698-4085-bd2e-cdb3ef0a4838",
   "metadata": {},
   "source": [
    "As we can see, we have succesfully performed splitting."
   ]
  },
  {
   "cell_type": "markdown",
   "id": "252e0ad9-847e-4600-8a87-7a8ad7df5be7",
   "metadata": {},
   "source": [
    "### Running the pipeline as a whole"
   ]
  },
  {
   "cell_type": "markdown",
   "id": "08748383-ec3e-42b1-b97a-bd7ed803930a",
   "metadata": {},
   "source": [
    "While the Nowcastlib Pipeline can be run in a somewhat modular (yet cascading) manner as shown in the above examples, the pipeline works best when run as a whole from start (preprocessing) to finish (splitting). In this way, certain redundant calculations are avoided. To do this, all we need to do is use the `datapipe` CLI command with a `DataSet` configuration specified as desired. \n",
    "\n",
    "For completeness, let's merge all or most of our example configurations above into a single configuration:"
   ]
  },
  {
   "cell_type": "markdown",
   "id": "ce58fd35-68a5-46d4-a770-e9495431103e",
   "metadata": {},
   "source": [
    "```JSON\n",
    "{\n",
    "   \"generated_fields\":[\n",
    "      {\n",
    "         \"target_name\":\"sin_t_sunset\",\n",
    "         \"input_fields\":[\n",
    "            \"index\"\n",
    "         ],\n",
    "         \"gen_func\":\"sin_t_since_sunset\",\n",
    "         \"additional_kwargs\":{\n",
    "            \"lat\":-24.6275,\n",
    "            \"lon\":-70.4044,\n",
    "            \"elevation\":2635\n",
    "         }\n",
    "      }\n",
    "   ],\n",
    "   \"split_options\":{\n",
    "      \"train_split\":0.8,\n",
    "      \"validation\":{\n",
    "         \"train_extent\":0.7,\n",
    "         \"val_extent\":0.1,\n",
    "         \"iterations\":3\n",
    "      },\n",
    "      \"output_options\":{\n",
    "         \"parent_path\":\"output/example_datapipe/split_output_bigrun\",\n",
    "         \"overwrite\":true,\n",
    "         \"create_parents\":true\n",
    "      }\n",
    "   },\n",
    "   \"postprocessing_output\":{\n",
    "      \"output_format\":\"pickle\",\n",
    "      \"output_path\":\"output/example_datapipe/postprocessed_df_bigrun.pkl\"\n",
    "   },\n",
    "   \"sync_options\":{\n",
    "      \"sample_spacing\":60,\n",
    "      \"chunk_options\":{\n",
    "         \"max_gap_size\":600,\n",
    "         \"min_chunk_size\":3600\n",
    "      },\n",
    "      \"diagnostic_plots\":false,\n",
    "      \"data_output\":{\n",
    "         \"output_format\":\"pickle\",\n",
    "         \"output_path\":\"output/example_datapipe/synced_df_bigrun.pkl\"\n",
    "      },\n",
    "      \"chunks_output\":{\n",
    "         \"output_format\":\"npy\",\n",
    "         \"output_path\":\"output/example_datapipe/chunk_locs_bigrun.npy\"\n",
    "      }\n",
    "   },\n",
    "   \"data_sources\":[\n",
    "      {\n",
    "         \"name\":\"lso_dimm\",\n",
    "         \"path\":\"data/LSO/lasilla_dimm.csv\",\n",
    "         \"fields\":[\n",
    "            {\n",
    "               \"field_name\":\"Date time\",\n",
    "               \"is_date\":true\n",
    "            },\n",
    "            {\n",
    "               \"field_name\":\"DIMM Seeing [arcsec]\",\n",
    "               \"preprocessing_options\":{\n",
    "                  \"overwrite\":false,\n",
    "                  \"outlier_options\":{\n",
    "                     \"lower\":0,\n",
    "                     \"upper\":5,\n",
    "                     \"quantile_based\":false\n",
    "                  }\n",
    "               },\n",
    "               \"postprocessing_options\":{\n",
    "                  \"smooth_options\":{\n",
    "                     \"window_size\":10,\n",
    "                     \"units\":\"min\"\n",
    "                  }\n",
    "               },\n",
    "               \"std_options\":{\n",
    "                  \"method\":\"robust\",\n",
    "                  \"diagnostic_plots\":false\n",
    "               }\n",
    "            }\n",
    "         ],\n",
    "         \"comment_format\":\"#\"\n",
    "      },\n",
    "      {\n",
    "         \"name\":\"lso_meteo\",\n",
    "         \"path\":\"data/LSO/lasilla_meteo.csv\",\n",
    "         \"fields\":[\n",
    "            {\n",
    "               \"field_name\":\"Date time\",\n",
    "               \"is_date\":true\n",
    "            },\n",
    "            {\n",
    "               \"field_name\":\"Wind Speed at 10m [m/s]\"\n",
    "            },\n",
    "            {\n",
    "               \"field_name\":\"Wind Direction at 10m [deg]\"\n",
    "            }\n",
    "         ],\n",
    "         \"comment_format\":\"#\"\n",
    "      }\n",
    "   ]\n",
    "}\n",
    "```"
   ]
  },
  {
   "cell_type": "markdown",
   "id": "670f6c1a-3358-4321-9679-2b170adf6751",
   "metadata": {},
   "source": [
    "Let's save the above config to the file `tutorial_pipeline.json` and give it a go. Note, this will take a few minutes due to the field generation and split serialization.\n",
    "\n",
    "---"
   ]
  },
  {
   "cell_type": "code",
   "execution_count": 29,
   "id": "3f9e20f2-0982-46aa-9ee0-d8aa92bd83a0",
   "metadata": {},
   "outputs": [
    {
     "name": "stdout",
     "output_type": "stream",
     "text": [
      "2021-08-25 21:44:43,328 - INFO - Preprocessing dataset...\n",
      "2021-08-25 21:44:43,328 - DEBUG - Preprocessing lso_dimm...\n",
      "2021-08-25 21:44:43,328 - DEBUG - Reading file...\n",
      "2021-08-25 21:44:44,679 - DEBUG - Processing field Date time of lso_dimm...\n",
      "2021-08-25 21:44:44,679 - DEBUG - Processing field DIMM Seeing [arcsec] of lso_dimm...\n",
      "2021-08-25 21:44:44,711 - DEBUG - Dropping outliers...\n",
      "2021-08-25 21:44:44,898 - DEBUG - Dropping NaNs...\n",
      "2021-08-25 21:44:44,952 - DEBUG - Preprocessing lso_meteo...\n",
      "2021-08-25 21:44:44,952 - DEBUG - Reading file...\n",
      "2021-08-25 21:44:54,100 - DEBUG - Processing field Date time of lso_meteo...\n",
      "2021-08-25 21:44:54,100 - DEBUG - Processing field Wind Speed at 10m [m/s] of lso_meteo...\n",
      "2021-08-25 21:44:54,100 - DEBUG - Processing field Wind Direction at 10m [deg] of lso_meteo...\n",
      "2021-08-25 21:44:54,100 - DEBUG - Dropping NaNs...\n",
      "2021-08-25 21:44:54,253 - INFO - Dataset preprocessing complete.\n",
      "2021-08-25 21:44:54,253 - INFO - Synchronizing dataset...\n",
      "2021-08-25 21:44:54,253 - DEBUG - Resampling DataSource 1 of 2...\n",
      "2021-08-25 21:44:54,708 - DEBUG - Resampling DataSource 2 of 2...\n",
      "2021-08-25 21:44:55,388 - DEBUG - Finding overlapping range and joining into single dataframe...\n",
      "2021-08-25 21:44:57,441 - DEBUG - Splitting data into contiguous chunks...\n",
      "2021-08-25 21:45:05,196 - DEBUG - Serializing chunked dataframe...\n",
      "2021-08-25 21:45:05,536 - DEBUG - Serializing chunk locations...\n",
      "2021-08-25 21:45:05,539 - INFO - Dataset synchronization complete.\n",
      "2021-08-25 21:45:05,993 - INFO - Postprocessing dataset...\n",
      "2021-08-25 21:45:06,138 - DEBUG - Processing field Date time...\n",
      "2021-08-25 21:45:06,139 - DEBUG - Processing field processed_DIMM Seeing [arcsec]...\n",
      "2021-08-25 21:45:06,150 - DEBUG - Applying moving average for smoothing...\n",
      "2021-08-25 21:45:08,399 - DEBUG - Processing field Date time...\n",
      "2021-08-25 21:45:08,399 - DEBUG - Processing field Wind Speed at 10m [m/s]...\n",
      "2021-08-25 21:45:08,399 - DEBUG - Processing field Wind Direction at 10m [deg]...\n",
      "2021-08-25 21:45:08,399 - INFO - Dataset postprocessing complete.\n",
      "2021-08-25 21:45:08,544 - INFO - Generating additional fields...\n",
      "2021-08-25 21:45:08,544 - DEBUG - Generating field sin_t_sunset...\n",
      "2021-08-25 21:48:55,387 - INFO - Field Generation complete.\n",
      "2021-08-25 21:48:55,399 - INFO - Serializing postprocessing results...\n",
      "2021-08-25 21:48:56,461 - INFO - Serialization complete.\n",
      "2021-08-25 21:48:57,450 - INFO - Splitting dataset...\n",
      "2021-08-25 21:48:57,450 - DEBUG - Performing outer split...\n",
      "2021-08-25 21:48:57,462 - DEBUG - Performing inner split...\n",
      "2021-08-25 21:48:58,027 - INFO - Dataset splitting complete...\n",
      "2021-08-25 21:48:58,028 - INFO - Standardizing splits...\n",
      "2021-08-25 21:48:58,031 - DEBUG - Standardizing field processed_DIMM Seeing [arcsec]...\n",
      "2021-08-25 21:48:58,678 - INFO - Standardization complete.\n",
      "2021-08-25 21:48:58,678 - INFO - Standardizing splits...\n",
      "2021-08-25 21:48:58,679 - DEBUG - Standardizing field processed_DIMM Seeing [arcsec]...\n",
      "2021-08-25 21:48:58,805 - DEBUG - Standardizing field processed_DIMM Seeing [arcsec]...\n",
      "2021-08-25 21:48:58,907 - DEBUG - Standardizing field processed_DIMM Seeing [arcsec]...\n",
      "2021-08-25 21:48:59,020 - INFO - Standardization complete.\n",
      "2021-08-25 21:48:59,020 - INFO - Serializing splits...\n",
      "2021-08-25 22:06:13,670 - INFO - Split serialization complete.\n",
      "Closing remaining open files:output/example_datapipe/split_output_bigrun/cv_split/train_data_1.hdf5...doneoutput/example_datapipe/split_output_bigrun/main_split/train_data.hdf5...doneoutput/example_datapipe/split_output_bigrun/main_split/test_data.hdf5...doneoutput/example_datapipe/split_output_bigrun/cv_split/train_data_2.hdf5...doneoutput/example_datapipe/split_output_bigrun/cv_split/train_data_3.hdf5...doneoutput/example_datapipe/split_output_bigrun/cv_split/val_data_2.hdf5...doneoutput/example_datapipe/split_output_bigrun/cv_split/val_data_3.hdf5...doneoutput/example_datapipe/split_output_bigrun/cv_split/val_data_1.hdf5...done\n"
     ]
    }
   ],
   "source": [
    "!nowcastlib -v datapipe -c tutorial_pipeline.json"
   ]
  },
  {
   "cell_type": "markdown",
   "id": "5fa0ab1a-2064-411d-8f0b-730f29722e8b",
   "metadata": {},
   "source": [
    "## Conclusion"
   ]
  },
  {
   "cell_type": "markdown",
   "id": "18de29ef-37f9-4c35-bf6d-09b04944eb97",
   "metadata": {},
   "source": [
    "The sections above will hopefully serve as a good introduction to the nowcastlib pipeline. Users are encouraged to experiment and read deeper into the documentation."
   ]
  }
 ],
 "metadata": {
  "kernelspec": {
   "display_name": "Python 3 (ipykernel)",
   "language": "python",
   "name": "python3"
  },
  "language_info": {
   "codemirror_mode": {
    "name": "ipython",
    "version": 3
   },
   "file_extension": ".py",
   "mimetype": "text/x-python",
   "name": "python",
   "nbconvert_exporter": "python",
   "pygments_lexer": "ipython3",
   "version": "3.7.10"
  },
  "toc-autonumbering": true,
  "toc-showcode": false,
  "toc-showmarkdowntxt": false,
  "toc-showtags": false
 },
 "nbformat": 4,
 "nbformat_minor": 5
}
