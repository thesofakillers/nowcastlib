{
 "cells": [
  {
   "cell_type": "markdown",
   "id": "f466798b-7775-4309-8670-17cea5d192b9",
   "metadata": {},
   "source": [
    "# Nowcast Library Pipeline - A Tutorial"
   ]
  },
  {
   "cell_type": "markdown",
   "id": "0bfe54d9-6951-4c84-9353-b1bfeacae923",
   "metadata": {},
   "source": [
    "The Nowcast Library Pipeline is intended as a holistic yet modular system for processing and synchronizing data, fitting models to it, and evaluating these models.\n",
    "\n",
    "This notebook will provide users with an example of how one may use the library, along with a description of the available functionality."
   ]
  },
  {
   "cell_type": "markdown",
   "id": "33da8b5e-c0a6-43c9-a96f-7a2cc8963169",
   "metadata": {},
   "source": [
    "## Preliminary Notes "
   ]
  },
  {
   "cell_type": "markdown",
   "id": "16c5e289-a002-4576-a8a3-5b36ba09a999",
   "metadata": {},
   "source": [
    "The pipeline is primarily intended to be used via the command line. As such this notebook will mostly make calls to the command line. In Jupyter Notebooks, this is done by adding an exclamation mark prefix to the prompt, as such:\n",
    "\n",
    "---"
   ]
  },
  {
   "cell_type": "code",
   "execution_count": 1,
   "id": "406a1ffb-4d2e-4f92-bc8f-d74f459d78b6",
   "metadata": {},
   "outputs": [
    {
     "name": "stdout",
     "output_type": "stream",
     "text": [
      "usage: nowcastlib [-h] [-v]\n",
      "                  {triangulate,preprocess,sync,postprocess,datapipe} ...\n",
      "\n",
      "positional arguments:\n",
      "  {triangulate,preprocess,sync,postprocess,datapipe}\n",
      "                        available commands\n",
      "    triangulate         Run `nowcastlib triangulate -h` for further help\n",
      "    preprocess          Run `nowcastlib preprocess -h` for further help\n",
      "    sync                Run `nowcastlib sync -h` for further help\n",
      "    postprocess         Run `nowcastlib postprocess -h` for further help\n",
      "    datapipe            Run `nowcastlib datapipe -h` for further help\n",
      "\n",
      "optional arguments:\n",
      "  -h, --help            show this help message and exit\n",
      "  -v, --verbose         increase verbosity level from INFO to DEBUG\n"
     ]
    }
   ],
   "source": [
    "!nowcastlib -h"
   ]
  },
  {
   "cell_type": "markdown",
   "id": "1244a132-d736-4e49-8e02-78e79a732b6e",
   "metadata": {},
   "source": [
    "---\n",
    "Users should therefore take note not to copy the exclamation mark when copying with the intention of pasting example prompts into their own terminal."
   ]
  },
  {
   "cell_type": "markdown",
   "id": "cee62beb-2717-434d-a56d-469dc5b94742",
   "metadata": {},
   "source": [
    "## Configuration"
   ]
  },
  {
   "cell_type": "markdown",
   "id": "7cd98ff1-90f5-4abb-9449-4c860c40a3be",
   "metadata": {},
   "source": [
    "If we ask for help with any of the pipeline cli commands, we will notice that the pipeline only takes a single argument to run:\n",
    "\n",
    "---"
   ]
  },
  {
   "cell_type": "code",
   "execution_count": 2,
   "id": "f55f4bfc-3ccb-4d83-a90d-192771970204",
   "metadata": {},
   "outputs": [
    {
     "name": "stdout",
     "output_type": "stream",
     "text": [
      "usage: nowcastlib datapipe [-h] -c CONFIG\n",
      "\n",
      "Run the data-wrangling pipeline step: Preprocessing, Synchronization and\n",
      "Postprocessing\n",
      "\n",
      "optional arguments:\n",
      "  -h, --help            show this help message and exit\n",
      "  -c CONFIG, --config CONFIG\n",
      "                        path to JSON file following the DataSet format. See\n",
      "                        docs for available fields\n"
     ]
    }
   ],
   "source": [
    "!nowcastlib datapipe -h"
   ]
  },
  {
   "cell_type": "markdown",
   "id": "481fbfd6-877d-4e49-96a7-54b83ffb3fd3",
   "metadata": {},
   "source": [
    "---\n",
    "\n",
    "Namely `-c` or `--config`, the path to a JSON file containing the desired configuration for our pipeline command.\n",
    "\n",
    "The \"schema\" for this configuration file can be inferred from the custom classes or \"structs\" defined in the nowcastlib.pipeline.structs submodule, with documentation available [here](https://www.giuliostarace.com/nowcastlib/pipeline/structs). \n",
    "\n",
    "Any JSON configuration will essentially be a representation of an instance of the `DataSet` class, with additional sub-classes (for more granular configuration) defined within."
   ]
  },
  {
   "cell_type": "markdown",
   "id": "d9fd81e2-4522-4799-ba5d-73e6a49f2213",
   "metadata": {},
   "source": [
    "## Example Config"
   ]
  },
  {
   "cell_type": "markdown",
   "id": "24b074da-39d3-420e-a530-b31b3e7ce33a",
   "metadata": {},
   "source": [
    "Let's explore the available configuration options by gradually building a `DataSet` JSON object. If we look at the `DataSet` class we see that we can represent a (very bare) `DataSet` instance with the following JSON:"
   ]
  },
  {
   "cell_type": "markdown",
   "id": "cb8593da-96cf-4ff3-a9a9-50ebeac05ebe",
   "metadata": {},
   "source": [
    "```JSON\n",
    "{\n",
    "    \"data_sources\":[],\n",
    "    \"sync_options\":null,\n",
    "    \"split_options\": null,\n",
    "    \"generated_fields\": null\n",
    "}\n",
    "```"
   ]
  },
  {
   "cell_type": "markdown",
   "id": "6df66bbf-46ad-4b21-b2b3-20ee21e2a921",
   "metadata": {},
   "source": [
    "### DataSources"
   ]
  },
  {
   "cell_type": "markdown",
   "id": "ed540f07-3f16-42a5-bb5f-33c2e2aead6e",
   "metadata": {},
   "source": [
    "Any `DataSet` instance will need to list the `DataSource`s comprising it. This is specified via the `data_sources` key. The other keys are for additional \n",
    "configuration, which the user may even omit (omitting will default them to null, or `NoneType` as referred to in the documentation). We will get to these later. \n",
    "\n",
    "Let's start by specifying two data sources, La Silla DIMM and La Silla Meteo."
   ]
  },
  {
   "cell_type": "markdown",
   "id": "059b7b2a-6111-4cd1-a8f3-c41bd48f00ab",
   "metadata": {},
   "source": [
    "```JSON\n",
    "{\n",
    "    \"data_sources\": [\n",
    "        {\n",
    "            \"name\": \"lso_dimm\",\n",
    "            \"path\": \"data/LSO/lasilla_dimm.csv\",\n",
    "            \"fields\": [],\n",
    "            \"comment_format\": \"#\",\n",
    "        },\n",
    "        {\n",
    "            \"name\": \"lso_meteo\",\n",
    "            \"path\": \"data/LSO/lasilla_meteo.csv\",\n",
    "            \"fields\": [],\n",
    "            \"comment_format\": \"#\",\n",
    "        },\n",
    "    ],\n",
    "}\n",
    "```"
   ]
  },
  {
   "cell_type": "markdown",
   "id": "8c60d68d-8a5c-426b-9a1f-b1e6012818a8",
   "metadata": {},
   "source": [
    "### DataFields"
   ]
  },
  {
   "cell_type": "markdown",
   "id": "98f3cc53-ad53-4f1f-9594-89a309ccf112",
   "metadata": {},
   "source": [
    "For each `DataSource`, we then also have to specify what fields (columns) we are interested in, and what to do with them. We do this by listing `RawField` objects under the `fields` key of each `DataSource`:"
   ]
  },
  {
   "cell_type": "markdown",
   "id": "5ef7f956-aed9-42de-9701-1e6172392113",
   "metadata": {},
   "source": [
    "```JSON\n",
    "{\n",
    "   \"data_sources\":[\n",
    "      {\n",
    "         \"name\":\"lso_dimm\",\n",
    "         \"path\":\"data/LSO/lasilla_dimm.csv\",\n",
    "         \"fields\":[\n",
    "            {\n",
    "               \"field_name\":\"Date time\",\n",
    "               \"is_date\":true\n",
    "            },\n",
    "            {\n",
    "               \"field_name\":\"DIMM Seeing [arcsec]\"\n",
    "            }\n",
    "         ],\n",
    "         \"comment_format\":\"#\"\n",
    "      },\n",
    "      {\n",
    "         \"name\":\"lso_meteo\",\n",
    "         \"path\":\"data/LSO/lasilla_meteo.csv\",\n",
    "         \"fields\":[\n",
    "            {\n",
    "               \"field_name\":\"Date time\",\n",
    "               \"is_date\":true\n",
    "            },\n",
    "            {\n",
    "               \"field_name\":\"Wind Speed at 10m [m/s]\"\n",
    "            },\n",
    "            {\n",
    "               \"field_name\":\"Wind Direction at 10m [deg]\"\n",
    "            }\n",
    "         ],\n",
    "         \"comment_format\":\"#\"\n",
    "      }\n",
    "   ]\n",
    "}\n",
    "```"
   ]
  },
  {
   "cell_type": "markdown",
   "id": "5c6f7eec-6770-4300-818b-1c919502c74c",
   "metadata": {},
   "source": [
    "### Preprocessing"
   ]
  },
  {
   "cell_type": "markdown",
   "id": "ed2a207a-6724-44ca-a2df-5d65314dae60",
   "metadata": {},
   "source": [
    "For the moment, we are simply specifying the field name in the csv file, and whether the field is the date to be used as the index.\n",
    "\n",
    "We can now start specifying how we wish to preprocess each `RawField` entry with the `preprocessing_options` key. \n",
    "\n",
    "For conciseness, we will use the \"DIMM Seeing [arcsec]\" field as an example and omit adding further configuration to the other fields, but in practice one may very well choose to process all fields.\n",
    "\n",
    "Omitting further configuration is equivalent to setting the respective keys their default, which is often `null` (or `None` in Python). In general, when keys are `null` or omitted, this signals to the pipeline that the user is not interested in running the relevant processing steps for that field. Users should check the documentation about specific default behavior of each key."
   ]
  },
  {
   "cell_type": "markdown",
   "id": "48880132-009f-4354-8998-01ab1bef8e56",
   "metadata": {},
   "source": [
    "```JSON\n",
    "{\n",
    "   \"data_sources\":[\n",
    "      {\n",
    "         \"name\":\"lso_dimm\",\n",
    "         \"path\":\"data/LSO/lasilla_dimm.csv\",\n",
    "         \"fields\":[\n",
    "            {\n",
    "               \"field_name\":\"Date time\",\n",
    "               \"is_date\":true\n",
    "            },\n",
    "            {\n",
    "               \"field_name\":\"DIMM Seeing [arcsec]\",\n",
    "               \"preprocessing_options\":{\n",
    "                  \"overwrite\":false,\n",
    "                  \"outlier_options\":{\n",
    "                     \"lower\":0,\n",
    "                     \"upper\":5,\n",
    "                     \"quantile_based\":false\n",
    "                  }\n",
    "               }\n",
    "            }\n",
    "         ],\n",
    "         \"comment_format\":\"#\"\n",
    "      },\n",
    "      {\n",
    "         \"name\":\"lso_meteo\",\n",
    "         \"path\":\"data/LSO/lasilla_meteo.csv\",\n",
    "         \"fields\":[\n",
    "            {\n",
    "               \"field_name\":\"Date time\",\n",
    "               \"is_date\":true\n",
    "            },\n",
    "            {\n",
    "               \"field_name\":\"Wind Speed at 10m [m/s]\"\n",
    "            },\n",
    "            {\n",
    "               \"field_name\":\"Wind Direction at 10m [deg]\"\n",
    "            }\n",
    "         ],\n",
    "         \"comment_format\":\"#\"\n",
    "      }\n",
    "   ]\n",
    "}\n",
    "```"
   ]
  },
  {
   "cell_type": "markdown",
   "id": "4c04a6dc-b64d-4b63-a710-ca70f31bbc4f",
   "metadata": {},
   "source": [
    "We have added some preprocessing options to the \"DIMM Seeing [arcsec]\" field. \n",
    "\n",
    "- We set `overwrite` to `false` (although this is the default). The original column will be maintained in the data and a new column of the same name prefixed with \"processed_\" will be created. If we had set `overwrite` to `true`, the original column would have been overwritten.\n",
    "- With the `outlier_options` key we are filtering \"outliers\" by specifying the allowed range of values that the field may have. We are doing so in absolute terms since we have set `quantile_based` to `false`. Alternatively we may have decided that we only wanted to keep the bottom 99.9999% of the data, in which case we would have set `quantile_based` to `true` and `upper` to `0.999999`.\n",
    "- We do not handle any periodicity with `periodic_options` because our quantity is not periodic in nature. Had we been dealing with for example Wind Direction, we may have wanted our values to be limited to the range `[0, 360[`, such that values of `361` would be mapped to `1` for example. An example `periodic_options` configuration for the above may have looked like:\n",
    "    ```JSON\n",
    "    {\n",
    "    \"period_length\":360\n",
    "    }\n",
    "    ```\n",
    "- We do not perform any unit conversion with `conversion_options` since we are happy with our current units. An example `conversion_options` configuration for converting from miles per hour to meters per second may have looked like:\n",
    "    ```JSON\n",
    "    {\n",
    "        \"key\":\"mph2ms\"\n",
    "    }\n",
    "    ```\n",
    "- We do not perform any smoothing by omitting the `smoothing_options` key. This is simply because in this notebook this will be peformed in postprocessing. Users may decide to perform smoothing in preprocessing although this is generally not suggested."
   ]
  },
  {
   "cell_type": "markdown",
   "id": "c726e5ef-b9e9-4e97-981e-a6e5d4439e56",
   "metadata": {},
   "source": [
    "#### Preprocessing Serialization"
   ]
  },
  {
   "cell_type": "markdown",
   "id": "b1124ad3-650d-434a-987e-90d42ae7ea58",
   "metadata": {},
   "source": [
    "The pipeline can also be used to perform only data preprocessing. In this case the user will probably wish to serialize (save to disk) the preprocessing results. This is done by configuring the `preprocessing_output` key for any `DataSource` whose preprocessing results we wish to serialize. \n",
    "\n",
    "Since we are only preprocessing the \"lso_dimm\" data source, let's go ahead and serialize only that:"
   ]
  },
  {
   "cell_type": "markdown",
   "id": "0074458d-97dc-426e-8b89-41ff2f96c1cf",
   "metadata": {},
   "source": [
    "```JSON\n",
    "{\n",
    "   \"data_sources\":[\n",
    "      {\n",
    "         \"name\":\"lso_dimm\",\n",
    "         \"path\":\"data/LSO/lasilla_dimm.csv\",\n",
    "         \"fields\":[\n",
    "            {\n",
    "               \"field_name\":\"Date time\",\n",
    "               \"is_date\":true\n",
    "            },\n",
    "            {\n",
    "               \"field_name\":\"DIMM Seeing [arcsec]\",\n",
    "               \"preprocessing_options\":{\n",
    "                  \"overwrite\":false,\n",
    "                  \"outlier_options\":{\n",
    "                     \"lower\":0,\n",
    "                     \"upper\":5,\n",
    "                     \"quantile_based\":false\n",
    "                  }\n",
    "               }\n",
    "            }\n",
    "         ],\n",
    "         \"comment_format\":\"#\",\n",
    "         \"preprocessing_output\":{\n",
    "            \"output_format\":\"csv\",\n",
    "            \"output_path\":\"output/example_datapipe/preproc_lso_dimm.csv\"\n",
    "         }\n",
    "      },\n",
    "      {\n",
    "         \"name\":\"lso_meteo\",\n",
    "         \"path\":\"data/LSO/lasilla_meteo.csv\",\n",
    "         \"fields\":[\n",
    "            {\n",
    "               \"field_name\":\"Date time\",\n",
    "               \"is_date\":true\n",
    "            },\n",
    "            {\n",
    "               \"field_name\":\"Wind Speed at 10m [m/s]\"\n",
    "            },\n",
    "            {\n",
    "               \"field_name\":\"Wind Direction at 10m [deg]\"\n",
    "            }\n",
    "         ],\n",
    "         \"comment_format\":\"#\"\n",
    "      }\n",
    "   ]\n",
    "}\n",
    "```"
   ]
  },
  {
   "cell_type": "markdown",
   "id": "089b58f8-f5c2-4e85-ba29-09d4ebb36151",
   "metadata": {},
   "source": [
    "Running preprocessing with the above config should therefore result in a csv file containing the processed \"lso_dimm\" data."
   ]
  },
  {
   "cell_type": "markdown",
   "id": "ff489ab6-a42f-45a1-9f74-1679544c16fb",
   "metadata": {},
   "source": [
    "#### Preprocessing Example run"
   ]
  },
  {
   "cell_type": "markdown",
   "id": "40e91e47-a055-48af-a408-dcccfaa1d6d6",
   "metadata": {},
   "source": [
    "Let's save the above config to the file `tutorial_pipeline_preprocess.json` and run a preprocessing pipeline. We will use the `-v` flag for additional verbosity.\n",
    "\n",
    "---"
   ]
  },
  {
   "cell_type": "code",
   "execution_count": 3,
   "id": "2a4a47eb-c4e1-48a1-af83-e6d3cdda0041",
   "metadata": {},
   "outputs": [
    {
     "name": "stdout",
     "output_type": "stream",
     "text": [
      "2021-08-18 18:03:13,142 - INFO - Preprocessing dataset...\n",
      "2021-08-18 18:03:13,142 - DEBUG - Preprocessing lso_dimm...\n",
      "2021-08-18 18:03:13,142 - DEBUG - Reading file...\n",
      "2021-08-18 18:03:14,491 - DEBUG - Processing field Date time of lso_dimm...\n",
      "2021-08-18 18:03:14,491 - DEBUG - Processing field DIMM Seeing [arcsec] of lso_dimm...\n",
      "2021-08-18 18:03:14,524 - DEBUG - Dropping outliers...\n",
      "2021-08-18 18:03:14,683 - DEBUG - Dropping NaNs...\n",
      "2021-08-18 18:03:14,787 - DEBUG - Serializing preprocessing output...\n",
      "2021-08-18 18:03:20,938 - DEBUG - Preprocessing lso_meteo...\n",
      "2021-08-18 18:03:20,938 - DEBUG - Reading file...\n",
      "2021-08-18 18:03:29,901 - DEBUG - Processing field Date time of lso_meteo...\n",
      "2021-08-18 18:03:29,901 - DEBUG - Processing field Wind Speed at 10m [m/s] of lso_meteo...\n",
      "2021-08-18 18:03:29,901 - DEBUG - Processing field Wind Direction at 10m [deg] of lso_meteo...\n",
      "2021-08-18 18:03:29,901 - DEBUG - Dropping NaNs...\n",
      "2021-08-18 18:03:30,041 - INFO - Dataset preprocessing complete.\n"
     ]
    }
   ],
   "source": [
    "!nowcastlib -v preprocess -c tutorial_pipeline_preprocess.json"
   ]
  },
  {
   "cell_type": "markdown",
   "id": "ec335177-e8db-4576-864d-81bf61115ea0",
   "metadata": {},
   "source": [
    "---"
   ]
  },
  {
   "cell_type": "markdown",
   "id": "d568964d-f065-41b1-b2c9-bd976157ad59",
   "metadata": {},
   "source": [
    "As we can see, the pipeline correctly preprocessed the \"lso_dimm\" DataSource as configured, dropping outliers and serializing the resulting output.\n",
    "\n",
    "Let's read the serialized output and check it."
   ]
  },
  {
   "cell_type": "code",
   "execution_count": 4,
   "id": "7b4ffb38-28bd-492a-a6ec-40225a8f83ec",
   "metadata": {},
   "outputs": [],
   "source": [
    "import pandas as pd"
   ]
  },
  {
   "cell_type": "code",
   "execution_count": 5,
   "id": "e834ba3c-6fcd-4c42-afb1-f4dd4d03c3c3",
   "metadata": {},
   "outputs": [],
   "source": [
    "preproc_lso_dimm = pd.read_csv(\n",
    "    \"output/example_datapipe/preproc_lso_dimm.csv\",\n",
    "    parse_dates=True,\n",
    "    index_col=\"Date time\",\n",
    ")"
   ]
  },
  {
   "cell_type": "code",
   "execution_count": 6,
   "id": "37ebbcdc-3b32-41b4-9211-acb2f6951bbc",
   "metadata": {},
   "outputs": [
    {
     "data": {
      "text/html": [
       "<div>\n",
       "<style scoped>\n",
       "    .dataframe tbody tr th:only-of-type {\n",
       "        vertical-align: middle;\n",
       "    }\n",
       "\n",
       "    .dataframe tbody tr th {\n",
       "        vertical-align: top;\n",
       "    }\n",
       "\n",
       "    .dataframe thead th {\n",
       "        text-align: right;\n",
       "    }\n",
       "</style>\n",
       "<table border=\"1\" class=\"dataframe\">\n",
       "  <thead>\n",
       "    <tr style=\"text-align: right;\">\n",
       "      <th></th>\n",
       "      <th>DIMM Seeing [arcsec]</th>\n",
       "      <th>processed_DIMM Seeing [arcsec]</th>\n",
       "    </tr>\n",
       "    <tr>\n",
       "      <th>Date time</th>\n",
       "      <th></th>\n",
       "      <th></th>\n",
       "    </tr>\n",
       "  </thead>\n",
       "  <tbody>\n",
       "    <tr>\n",
       "      <th>2005-04-19 00:26:20</th>\n",
       "      <td>2.03</td>\n",
       "      <td>2.03</td>\n",
       "    </tr>\n",
       "    <tr>\n",
       "      <th>2005-04-19 00:27:20</th>\n",
       "      <td>2.12</td>\n",
       "      <td>2.12</td>\n",
       "    </tr>\n",
       "    <tr>\n",
       "      <th>2005-04-19 00:28:20</th>\n",
       "      <td>3.13</td>\n",
       "      <td>3.13</td>\n",
       "    </tr>\n",
       "    <tr>\n",
       "      <th>2005-04-19 00:29:20</th>\n",
       "      <td>2.47</td>\n",
       "      <td>2.47</td>\n",
       "    </tr>\n",
       "    <tr>\n",
       "      <th>2005-04-19 00:30:20</th>\n",
       "      <td>2.73</td>\n",
       "      <td>2.73</td>\n",
       "    </tr>\n",
       "    <tr>\n",
       "      <th>...</th>\n",
       "      <td>...</td>\n",
       "      <td>...</td>\n",
       "    </tr>\n",
       "    <tr>\n",
       "      <th>2021-03-28 23:30:37</th>\n",
       "      <td>1.25</td>\n",
       "      <td>1.25</td>\n",
       "    </tr>\n",
       "    <tr>\n",
       "      <th>2021-03-28 23:31:37</th>\n",
       "      <td>1.41</td>\n",
       "      <td>1.41</td>\n",
       "    </tr>\n",
       "    <tr>\n",
       "      <th>2021-03-28 23:32:37</th>\n",
       "      <td>1.30</td>\n",
       "      <td>1.30</td>\n",
       "    </tr>\n",
       "    <tr>\n",
       "      <th>2021-03-29 01:02:48</th>\n",
       "      <td>0.86</td>\n",
       "      <td>0.86</td>\n",
       "    </tr>\n",
       "    <tr>\n",
       "      <th>2021-03-29 01:05:49</th>\n",
       "      <td>1.03</td>\n",
       "      <td>1.03</td>\n",
       "    </tr>\n",
       "  </tbody>\n",
       "</table>\n",
       "<p>1256461 rows × 2 columns</p>\n",
       "</div>"
      ],
      "text/plain": [
       "                     DIMM Seeing [arcsec]  processed_DIMM Seeing [arcsec]\n",
       "Date time                                                                \n",
       "2005-04-19 00:26:20                  2.03                            2.03\n",
       "2005-04-19 00:27:20                  2.12                            2.12\n",
       "2005-04-19 00:28:20                  3.13                            3.13\n",
       "2005-04-19 00:29:20                  2.47                            2.47\n",
       "2005-04-19 00:30:20                  2.73                            2.73\n",
       "...                                   ...                             ...\n",
       "2021-03-28 23:30:37                  1.25                            1.25\n",
       "2021-03-28 23:31:37                  1.41                            1.41\n",
       "2021-03-28 23:32:37                  1.30                            1.30\n",
       "2021-03-29 01:02:48                  0.86                            0.86\n",
       "2021-03-29 01:05:49                  1.03                            1.03\n",
       "\n",
       "[1256461 rows x 2 columns]"
      ]
     },
     "execution_count": 6,
     "metadata": {},
     "output_type": "execute_result"
    }
   ],
   "source": [
    "preproc_lso_dimm"
   ]
  },
  {
   "cell_type": "markdown",
   "id": "a2f37ad9-8deb-48d3-b34e-eb0285c9ebd9",
   "metadata": {},
   "source": [
    "The serialization was successful. We can also see that the overwriting config was also successfully parsed given the creation of the new column. Finally we can check that our outlier configuration was respected by checking the statistics of our processed column:"
   ]
  },
  {
   "cell_type": "code",
   "execution_count": 7,
   "id": "0fca8d76-2392-4b20-a9ea-49ace6659c2b",
   "metadata": {},
   "outputs": [
    {
     "data": {
      "text/plain": [
       "count    1.256461e+06\n",
       "mean     1.027188e+00\n",
       "std      4.197804e-01\n",
       "min      0.000000e+00\n",
       "25%      7.400000e-01\n",
       "50%      9.400000e-01\n",
       "75%      1.220000e+00\n",
       "max      4.990000e+00\n",
       "Name: processed_DIMM Seeing [arcsec], dtype: float64"
      ]
     },
     "execution_count": 7,
     "metadata": {},
     "output_type": "execute_result"
    }
   ],
   "source": [
    "preproc_lso_dimm[\"processed_DIMM Seeing [arcsec]\"].describe()"
   ]
  },
  {
   "cell_type": "code",
   "execution_count": 8,
   "id": "034b0890-42ca-4bcd-8157-5827c123c765",
   "metadata": {},
   "outputs": [
    {
     "data": {
      "text/plain": [
       "<AxesSubplot:>"
      ]
     },
     "execution_count": 8,
     "metadata": {},
     "output_type": "execute_result"
    },
    {
     "data": {
      "image/png": "[encoded data removed]",
      "text/plain": [
       "<Figure size 432x288 with 1 Axes>"
      ]
     },
     "metadata": {
      "needs_background": "light"
     },
     "output_type": "display_data"
    }
   ],
   "source": [
    "preproc_lso_dimm[\"processed_DIMM Seeing [arcsec]\"].hist(bins=100)"
   ]
  },
  {
   "cell_type": "markdown",
   "id": "1a196ebb-7799-4883-9428-f8a64b04e8ee",
   "metadata": {},
   "source": [
    "As we can see, the data outside the range `[0, 5]` has been removed, as configured."
   ]
  },
  {
   "cell_type": "markdown",
   "id": "c2e8457f-c378-4810-b1d5-4ba6502724e9",
   "metadata": {},
   "source": [
    "### Synchronization"
   ]
  },
  {
   "cell_type": "markdown",
   "id": "30ca18ae-4314-4e4c-894f-0628f4be6ab8",
   "metadata": {},
   "source": [
    "Since we have specified more than one `DataSource` in our configuration, we can also perform _synchronization_. This is the process of aligning two or more `DataSource`s in time, matching them to a single sample-rate and only keeping chunks of data where there is complete overlap across all `DataSource`s.\n",
    "\n",
    "To synchronize our data we need to configure the `sync_options` key of our JSON configuration at the top level:"
   ]
  },
  {
   "cell_type": "markdown",
   "id": "57c58748-488e-4f0a-b1f2-92fbd873dfce",
   "metadata": {},
   "source": [
    "```JSON\n",
    "{\n",
    "   \"sync_options\":{\n",
    "      \"sample_spacing\":60,\n",
    "      \"chunk_options\":{\n",
    "         \"max_gap_size\":600,\n",
    "         \"min_chunk_size\":3600\n",
    "      },\n",
    "      \"diagnostic_plots\":false\n",
    "   },\n",
    "   \"data_sources\":[\n",
    "      {\n",
    "         \"name\":\"lso_dimm\",\n",
    "         \"path\":\"data/LSO/lasilla_dimm.csv\",\n",
    "         \"fields\":[\n",
    "            {\n",
    "               \"field_name\":\"Date time\",\n",
    "               \"is_date\":true\n",
    "            },\n",
    "            {\n",
    "               \"field_name\":\"DIMM Seeing [arcsec]\",\n",
    "               \"preprocessing_options\":{\n",
    "                  \"overwrite\":false,\n",
    "                  \"outlier_options\":{\n",
    "                     \"lower\":0,\n",
    "                     \"upper\":5,\n",
    "                     \"quantile_based\":false\n",
    "                  }\n",
    "               }\n",
    "            }\n",
    "         ],\n",
    "         \"comment_format\":\"#\",\n",
    "         \"preprocessing_output\":{\n",
    "            \"output_format\":\"csv\",\n",
    "            \"output_path\":\"output/example_datapipe/preproc_lso_dimm.csv\"\n",
    "         }\n",
    "      },\n",
    "      {\n",
    "         \"name\":\"lso_meteo\",\n",
    "         \"path\":\"data/LSO/lasilla_meteo.csv\",\n",
    "         \"fields\":[\n",
    "            {\n",
    "               \"field_name\":\"Date time\",\n",
    "               \"is_date\":true\n",
    "            },\n",
    "            {\n",
    "               \"field_name\":\"Wind Speed at 10m [m/s]\"\n",
    "            },\n",
    "            {\n",
    "               \"field_name\":\"Wind Direction at 10m [deg]\"\n",
    "            }\n",
    "         ],\n",
    "         \"comment_format\":\"#\"\n",
    "      }\n",
    "   ]\n",
    "}\n",
    "```"
   ]
  },
  {
   "cell_type": "markdown",
   "id": "d6f51279-253c-4ab0-8a91-9cc786b3de53",
   "metadata": {},
   "source": [
    "The contents of the `sync_options` key is a JSON representation of a `SyncOptions` struct.\n",
    "\n",
    "- Our `DataSource`s may have different sample rates, and as such need to be\n",
    "  resampled to the same sample rate to facilitate synchronization. We specify\n",
    "  this 'target' sample rate by setting the `sample_spacing` option. Here we\n",
    "  have set it to 60 seconds.\n",
    "- Setting `diagnostic_plots` to `true` will have the pipeline prompt the user\n",
    "  to confirm their selected sample spacing after viewing a plot of the\n",
    "  distributions of sample spacings of each `DataSource`. Because we are\n",
    "  running the pipeline as a terminal command from within Jupyter, interactive\n",
    "  plots cannot be shown, and as such it is set to `false`.\n",
    "- Because synchronization can often results in \"chunks\", contiguous portions\n",
    "  of data delimited by `NaN` gaps, the user is also required to specify\n",
    "  `chunk_options`:\n",
    "    - There may be instances where the gaps between data points are\n",
    "      sufficiently small to be imputed with linear interpolation. The\n",
    "      `max_gap_size` sets the upper limit on these small gaps. In our example,\n",
    "      any gap smaller than 10 minutes (600 seconds) will be imputed via linear\n",
    "      interpolation\n",
    "   -  Certain chunks may be too small to be considered. In this case the user\n",
    "      may wish to ignore them. The lower limit for a chunk size can therefore\n",
    "      be set with `min_chunk_size`. In our example, any chunk shorter than 1\n",
    "      hour (3600 seconds) will be ignored. "
   ]
  },
  {
   "cell_type": "markdown",
   "id": "09c269af-3fb6-428a-a6f7-dadbc94d58d4",
   "metadata": {},
   "source": [
    "#### Synchronization Example Run 1"
   ]
  },
  {
   "cell_type": "markdown",
   "id": "370246b9-2871-4d23-a670-6350778d4df4",
   "metadata": {},
   "source": [
    "At this point, we may run a synchronization process. However, with the current configuration, this will also run preprocessing on our `lso_dimm` `DataSource`. Let's save the JSON above to the file `tutorial_pipeline_sync_with_preprocess.json` and have a look. We once again use the `-v` flag for extra verbosity.\n",
    "\n",
    "---"
   ]
  },
  {
   "cell_type": "code",
   "execution_count": 11,
   "id": "88b4c8db-71f3-4cdb-8fb6-3cbc9b2b1cd1",
   "metadata": {},
   "outputs": [
    {
     "name": "stdout",
     "output_type": "stream",
     "text": [
      "2021-08-18 18:07:45,060 - INFO - Preprocessing dataset...\n",
      "2021-08-18 18:07:45,060 - DEBUG - Preprocessing lso_dimm...\n",
      "2021-08-18 18:07:45,060 - DEBUG - Reading file...\n",
      "2021-08-18 18:07:46,436 - DEBUG - Processing field Date time of lso_dimm...\n",
      "2021-08-18 18:07:46,436 - DEBUG - Processing field DIMM Seeing [arcsec] of lso_dimm...\n",
      "2021-08-18 18:07:46,468 - DEBUG - Dropping outliers...\n",
      "2021-08-18 18:07:46,592 - DEBUG - Dropping NaNs...\n",
      "2021-08-18 18:07:46,648 - DEBUG - Serializing preprocessing output...\n",
      "2021-08-18 18:07:52,145 - DEBUG - Preprocessing lso_meteo...\n",
      "2021-08-18 18:07:52,145 - DEBUG - Reading file...\n",
      "2021-08-18 18:08:00,463 - DEBUG - Processing field Date time of lso_meteo...\n",
      "2021-08-18 18:08:00,463 - DEBUG - Processing field Wind Speed at 10m [m/s] of lso_meteo...\n",
      "2021-08-18 18:08:00,463 - DEBUG - Processing field Wind Direction at 10m [deg] of lso_meteo...\n",
      "2021-08-18 18:08:00,463 - DEBUG - Dropping NaNs...\n",
      "2021-08-18 18:08:00,611 - INFO - Dataset preprocessing complete.\n",
      "2021-08-18 18:08:00,612 - INFO - Synchronizing dataset...\n",
      "2021-08-18 18:08:00,612 - DEBUG - Resampling DataSource 1 of 2...\n",
      "2021-08-18 18:08:01,062 - DEBUG - Resampling DataSource 2 of 2...\n",
      "2021-08-18 18:08:01,792 - DEBUG - Finding overlapping range and joining into single dataframe...\n",
      "2021-08-18 18:08:03,793 - DEBUG - Splitting data into contiguous chunks...\n",
      "2021-08-18 18:08:11,307 - INFO - Dataset synchronization complete.\n"
     ]
    }
   ],
   "source": [
    "!nowcastlib -v sync -c tutorial_pipeline_sync_with_preprocess.json"
   ]
  },
  {
   "cell_type": "markdown",
   "id": "bb7cb0a4-ffe4-40f6-965b-a44825c0ebfc",
   "metadata": {},
   "source": [
    "---"
   ]
  },
  {
   "cell_type": "markdown",
   "id": "d6e2ddcc-ac7c-438c-9656-01fb68bd1a2e",
   "metadata": {},
   "source": [
    "As we can see, both preprocessing and synchronization were performed. There was also no serialization of our synchronization output, so that is not of much use to us."
   ]
  },
  {
   "cell_type": "markdown",
   "id": "578eff07-87da-4e65-9cfd-8d6f5bfc73a1",
   "metadata": {},
   "source": [
    "#### Synchronization Example Run 2"
   ]
  },
  {
   "cell_type": "markdown",
   "id": "268104a3-d16d-4c91-893e-1976a7ad2567",
   "metadata": {},
   "source": [
    "To avoid preprocessing, we simply need to remove any preprocessing configuration from our config file. "
   ]
  },
  {
   "cell_type": "markdown",
   "id": "bc679f35-66a4-45f0-844a-a3080633712a",
   "metadata": {},
   "source": [
    "```JSON\n",
    "{\n",
    "   \"sync_options\":{\n",
    "      \"sample_spacing\":60,\n",
    "      \"chunk_options\":{\n",
    "         \"max_gap_size\":600,\n",
    "         \"min_chunk_size\":3600\n",
    "      },\n",
    "      \"diagnostic_plots\":false\n",
    "   },\n",
    "   \"data_sources\":[\n",
    "      {\n",
    "         \"name\":\"lso_dimm\",\n",
    "         \"path\":\"data/LSO/lasilla_dimm.csv\",\n",
    "         \"fields\":[\n",
    "            {\n",
    "               \"field_name\":\"Date time\",\n",
    "               \"is_date\":true\n",
    "            },\n",
    "            {\n",
    "               \"field_name\":\"DIMM Seeing [arcsec]\"\n",
    "            }\n",
    "         ],\n",
    "         \"comment_format\":\"#\"\n",
    "      },\n",
    "      {\n",
    "         \"name\":\"lso_meteo\",\n",
    "         \"path\":\"data/LSO/lasilla_meteo.csv\",\n",
    "         \"fields\":[\n",
    "            {\n",
    "               \"field_name\":\"Date time\",\n",
    "               \"is_date\":true\n",
    "            },\n",
    "            {\n",
    "               \"field_name\":\"Wind Speed at 10m [m/s]\"\n",
    "            },\n",
    "            {\n",
    "               \"field_name\":\"Wind Direction at 10m [deg]\"\n",
    "            }\n",
    "         ],\n",
    "         \"comment_format\":\"#\"\n",
    "      }\n",
    "   ]\n",
    "}\n",
    "```"
   ]
  },
  {
   "cell_type": "markdown",
   "id": "758873b9-0a6b-48ef-aad9-b302ffbe255b",
   "metadata": {},
   "source": [
    "The output of our synchronization process is a sparse pandas dataframe with the aligned data and a numpy array of shape (-1, 2) with the start and end indices of each chunk. We can serialize these objects using the `data_output` and `chunks_output` keys respectively, which both consist in a `SerializationOptions` struct."
   ]
  },
  {
   "cell_type": "markdown",
   "id": "37186cde-f2ac-49b4-9f63-df20d1b5d147",
   "metadata": {},
   "source": [
    "```JSON\n",
    "{\n",
    "   \"sync_options\":{\n",
    "      \"sample_spacing\":60,\n",
    "      \"chunk_options\":{\n",
    "         \"max_gap_size\":600,\n",
    "         \"min_chunk_size\":3600\n",
    "      },\n",
    "      \"diagnostic_plots\":false,\n",
    "      \"data_output\":{\n",
    "         \"output_format\":\"pickle\",\n",
    "         \"output_path\":\"output/example_datapipe/synced_df.pkl\"\n",
    "      },\n",
    "      \"chunks_output\":{\n",
    "         \"output_format\":\"npy\",\n",
    "         \"output_path\":\"output/example_datapipe/chunk_locs.npy\"\n",
    "      }\n",
    "   },\n",
    "   \"data_sources\":[\n",
    "      {\n",
    "         \"name\":\"lso_dimm\",\n",
    "         \"path\":\"data/LSO/lasilla_dimm.csv\",\n",
    "         \"fields\":[\n",
    "            {\n",
    "               \"field_name\":\"Date time\",\n",
    "               \"is_date\":true\n",
    "            },\n",
    "            {\n",
    "               \"field_name\":\"DIMM Seeing [arcsec]\"\n",
    "            }\n",
    "         ],\n",
    "         \"comment_format\":\"#\"\n",
    "      },\n",
    "      {\n",
    "         \"name\":\"lso_meteo\",\n",
    "         \"path\":\"data/LSO/lasilla_meteo.csv\",\n",
    "         \"fields\":[\n",
    "            {\n",
    "               \"field_name\":\"Date time\",\n",
    "               \"is_date\":true\n",
    "            },\n",
    "            {\n",
    "               \"field_name\":\"Wind Speed at 10m [m/s]\"\n",
    "            },\n",
    "            {\n",
    "               \"field_name\":\"Wind Direction at 10m [deg]\"\n",
    "            }\n",
    "         ],\n",
    "         \"comment_format\":\"#\"\n",
    "      }\n",
    "   ]\n",
    "}\n",
    "```"
   ]
  },
  {
   "cell_type": "markdown",
   "id": "47601193-cba5-4be2-8f3d-f17742892519",
   "metadata": {},
   "source": [
    "Now that we're all set, let's save the JSON above to the file `tutorial_pipeline_sync.json` and try again:\n",
    "\n",
    "---"
   ]
  },
  {
   "cell_type": "code",
   "execution_count": 14,
   "id": "aa9e70b5-7c77-4566-b019-826f1aba18af",
   "metadata": {},
   "outputs": [
    {
     "name": "stdout",
     "output_type": "stream",
     "text": [
      "2021-08-18 18:34:31,875 - INFO - Preprocessing dataset...\n",
      "2021-08-18 18:34:31,875 - DEBUG - Preprocessing lso_dimm...\n",
      "2021-08-18 18:34:31,875 - DEBUG - Reading file...\n",
      "2021-08-18 18:34:33,274 - DEBUG - Processing field Date time of lso_dimm...\n",
      "2021-08-18 18:34:33,274 - DEBUG - Processing field DIMM Seeing [arcsec] of lso_dimm...\n",
      "2021-08-18 18:34:33,274 - DEBUG - Dropping NaNs...\n",
      "2021-08-18 18:34:33,299 - DEBUG - Preprocessing lso_meteo...\n",
      "2021-08-18 18:34:33,299 - DEBUG - Reading file...\n",
      "2021-08-18 18:34:41,873 - DEBUG - Processing field Date time of lso_meteo...\n",
      "2021-08-18 18:34:41,873 - DEBUG - Processing field Wind Speed at 10m [m/s] of lso_meteo...\n",
      "2021-08-18 18:34:41,873 - DEBUG - Processing field Wind Direction at 10m [deg] of lso_meteo...\n",
      "2021-08-18 18:34:41,873 - DEBUG - Dropping NaNs...\n",
      "2021-08-18 18:34:42,014 - INFO - Dataset preprocessing complete.\n",
      "2021-08-18 18:34:42,015 - INFO - Synchronizing dataset...\n",
      "2021-08-18 18:34:42,015 - DEBUG - Resampling DataSource 1 of 2...\n",
      "2021-08-18 18:34:42,336 - DEBUG - Resampling DataSource 2 of 2...\n",
      "2021-08-18 18:34:43,054 - DEBUG - Finding overlapping range and joining into single dataframe...\n",
      "2021-08-18 18:34:45,067 - DEBUG - Splitting data into contiguous chunks...\n",
      "2021-08-18 18:34:51,103 - DEBUG - Serializing chunked dataframe...\n",
      "2021-08-18 18:34:51,392 - DEBUG - Serializing chunk locations...\n",
      "2021-08-18 18:34:51,393 - INFO - Dataset synchronization complete.\n"
     ]
    }
   ],
   "source": [
    "!nowcastlib -v sync -c tutorial_pipeline_sync.json"
   ]
  },
  {
   "cell_type": "markdown",
   "id": "af6da74f-2020-49e4-915b-0bf8a1a18a27",
   "metadata": {},
   "source": [
    "---"
   ]
  },
  {
   "cell_type": "markdown",
   "id": "b871ad35-e53d-407a-8c0c-89b105ae119e",
   "metadata": {},
   "source": [
    "As we can see from the logs, \"preprocessing\" here simply consisted in reading the raw data and dropping NaNs. Synchronization was performed once again but this time we have serialized files that we can check."
   ]
  },
  {
   "cell_type": "code",
   "execution_count": 15,
   "id": "c5fee1c3-0b31-454f-bf43-42f1778d303d",
   "metadata": {},
   "outputs": [],
   "source": [
    "synced_df = pd.read_pickle(\"output/example_datapipe/synced_df.pkl\")"
   ]
  },
  {
   "cell_type": "code",
   "execution_count": 16,
   "id": "0c99aeee-6d63-43a2-8ad9-e2862bd193c2",
   "metadata": {},
   "outputs": [
    {
     "data": {
      "text/html": [
       "<div>\n",
       "<style scoped>\n",
       "    .dataframe tbody tr th:only-of-type {\n",
       "        vertical-align: middle;\n",
       "    }\n",
       "\n",
       "    .dataframe tbody tr th {\n",
       "        vertical-align: top;\n",
       "    }\n",
       "\n",
       "    .dataframe thead th {\n",
       "        text-align: right;\n",
       "    }\n",
       "</style>\n",
       "<table border=\"1\" class=\"dataframe\">\n",
       "  <thead>\n",
       "    <tr style=\"text-align: right;\">\n",
       "      <th></th>\n",
       "      <th>DIMM Seeing [arcsec]</th>\n",
       "      <th>Wind Direction at 10m [deg]</th>\n",
       "      <th>Wind Speed at 10m [m/s]</th>\n",
       "    </tr>\n",
       "  </thead>\n",
       "  <tbody>\n",
       "    <tr>\n",
       "      <th>2005-04-19 00:26:00</th>\n",
       "      <td>NaN</td>\n",
       "      <td>NaN</td>\n",
       "      <td>NaN</td>\n",
       "    </tr>\n",
       "    <tr>\n",
       "      <th>2005-04-19 00:27:00</th>\n",
       "      <td>NaN</td>\n",
       "      <td>NaN</td>\n",
       "      <td>NaN</td>\n",
       "    </tr>\n",
       "    <tr>\n",
       "      <th>2005-04-19 00:28:00</th>\n",
       "      <td>NaN</td>\n",
       "      <td>NaN</td>\n",
       "      <td>NaN</td>\n",
       "    </tr>\n",
       "    <tr>\n",
       "      <th>2005-04-19 00:29:00</th>\n",
       "      <td>NaN</td>\n",
       "      <td>NaN</td>\n",
       "      <td>NaN</td>\n",
       "    </tr>\n",
       "    <tr>\n",
       "      <th>2005-04-19 00:30:00</th>\n",
       "      <td>NaN</td>\n",
       "      <td>NaN</td>\n",
       "      <td>NaN</td>\n",
       "    </tr>\n",
       "    <tr>\n",
       "      <th>...</th>\n",
       "      <td>...</td>\n",
       "      <td>...</td>\n",
       "      <td>...</td>\n",
       "    </tr>\n",
       "    <tr>\n",
       "      <th>2021-03-29 01:01:00</th>\n",
       "      <td>NaN</td>\n",
       "      <td>NaN</td>\n",
       "      <td>NaN</td>\n",
       "    </tr>\n",
       "    <tr>\n",
       "      <th>2021-03-29 01:02:00</th>\n",
       "      <td>NaN</td>\n",
       "      <td>NaN</td>\n",
       "      <td>NaN</td>\n",
       "    </tr>\n",
       "    <tr>\n",
       "      <th>2021-03-29 01:03:00</th>\n",
       "      <td>NaN</td>\n",
       "      <td>NaN</td>\n",
       "      <td>NaN</td>\n",
       "    </tr>\n",
       "    <tr>\n",
       "      <th>2021-03-29 01:04:00</th>\n",
       "      <td>NaN</td>\n",
       "      <td>NaN</td>\n",
       "      <td>NaN</td>\n",
       "    </tr>\n",
       "    <tr>\n",
       "      <th>2021-03-29 01:05:00</th>\n",
       "      <td>NaN</td>\n",
       "      <td>NaN</td>\n",
       "      <td>NaN</td>\n",
       "    </tr>\n",
       "  </tbody>\n",
       "</table>\n",
       "<p>8385160 rows × 3 columns</p>\n",
       "</div>"
      ],
      "text/plain": [
       "                     DIMM Seeing [arcsec]  Wind Direction at 10m [deg]  \\\n",
       "2005-04-19 00:26:00                   NaN                          NaN   \n",
       "2005-04-19 00:27:00                   NaN                          NaN   \n",
       "2005-04-19 00:28:00                   NaN                          NaN   \n",
       "2005-04-19 00:29:00                   NaN                          NaN   \n",
       "2005-04-19 00:30:00                   NaN                          NaN   \n",
       "...                                   ...                          ...   \n",
       "2021-03-29 01:01:00                   NaN                          NaN   \n",
       "2021-03-29 01:02:00                   NaN                          NaN   \n",
       "2021-03-29 01:03:00                   NaN                          NaN   \n",
       "2021-03-29 01:04:00                   NaN                          NaN   \n",
       "2021-03-29 01:05:00                   NaN                          NaN   \n",
       "\n",
       "                     Wind Speed at 10m [m/s]  \n",
       "2005-04-19 00:26:00                      NaN  \n",
       "2005-04-19 00:27:00                      NaN  \n",
       "2005-04-19 00:28:00                      NaN  \n",
       "2005-04-19 00:29:00                      NaN  \n",
       "2005-04-19 00:30:00                      NaN  \n",
       "...                                      ...  \n",
       "2021-03-29 01:01:00                      NaN  \n",
       "2021-03-29 01:02:00                      NaN  \n",
       "2021-03-29 01:03:00                      NaN  \n",
       "2021-03-29 01:04:00                      NaN  \n",
       "2021-03-29 01:05:00                      NaN  \n",
       "\n",
       "[8385160 rows x 3 columns]"
      ]
     },
     "execution_count": 16,
     "metadata": {},
     "output_type": "execute_result"
    }
   ],
   "source": [
    "synced_df"
   ]
  },
  {
   "cell_type": "code",
   "execution_count": 17,
   "id": "c6c060b4-01a8-495c-ad7b-fdd86f5b5914",
   "metadata": {},
   "outputs": [],
   "source": [
    "import numpy as np"
   ]
  },
  {
   "cell_type": "code",
   "execution_count": 18,
   "id": "083bbcd7-30bc-4966-bd87-84e4ca7ff0cb",
   "metadata": {},
   "outputs": [],
   "source": [
    "chunk_locs = np.load(\"output/example_datapipe/chunk_locs.npy\")"
   ]
  },
  {
   "cell_type": "code",
   "execution_count": 19,
   "id": "335a2e29-1110-421a-9077-12bafa66e770",
   "metadata": {},
   "outputs": [
    {
     "data": {
      "text/plain": [
       "array([[     52,     143],\n",
       "       [    170,     507],\n",
       "       [   1560,    1932],\n",
       "       ...,\n",
       "       [8382631, 8382758],\n",
       "       [8383719, 8383858],\n",
       "       [8384028, 8384186]])"
      ]
     },
     "execution_count": 19,
     "metadata": {},
     "output_type": "execute_result"
    }
   ],
   "source": [
    "chunk_locs"
   ]
  },
  {
   "cell_type": "markdown",
   "id": "115b2d2a-1b27-45e6-b040-098369ebc1f9",
   "metadata": {},
   "source": [
    "We can now for example break our `synced_df` into an array of non-sparse dataframes using `nowcastlib.datasets`, with our pre-computed `chunk_locs` to speed up the process."
   ]
  },
  {
   "cell_type": "code",
   "execution_count": 20,
   "id": "721e3608-3d79-4fe4-a533-de047abf4368",
   "metadata": {},
   "outputs": [],
   "source": [
    "from nowcastlib.datasets import make_chunks"
   ]
  },
  {
   "cell_type": "code",
   "execution_count": 21,
   "id": "932e1193-9f61-46fd-a217-41de56b7a055",
   "metadata": {},
   "outputs": [],
   "source": [
    "chunks = make_chunks(synced_df, chunk_locs)"
   ]
  },
  {
   "cell_type": "code",
   "execution_count": 30,
   "id": "d16c0f87-bbb1-4f24-a2e4-37b9b006bf26",
   "metadata": {},
   "outputs": [
    {
     "data": {
      "text/html": [
       "<div>\n",
       "<style scoped>\n",
       "    .dataframe tbody tr th:only-of-type {\n",
       "        vertical-align: middle;\n",
       "    }\n",
       "\n",
       "    .dataframe tbody tr th {\n",
       "        vertical-align: top;\n",
       "    }\n",
       "\n",
       "    .dataframe thead th {\n",
       "        text-align: right;\n",
       "    }\n",
       "</style>\n",
       "<table border=\"1\" class=\"dataframe\">\n",
       "  <thead>\n",
       "    <tr style=\"text-align: right;\">\n",
       "      <th></th>\n",
       "      <th>DIMM Seeing [arcsec]</th>\n",
       "      <th>Wind Direction at 10m [deg]</th>\n",
       "      <th>Wind Speed at 10m [m/s]</th>\n",
       "    </tr>\n",
       "  </thead>\n",
       "  <tbody>\n",
       "    <tr>\n",
       "      <th>2005-05-13 22:30:00</th>\n",
       "      <td>2.080</td>\n",
       "      <td>14.0</td>\n",
       "      <td>1.2</td>\n",
       "    </tr>\n",
       "    <tr>\n",
       "      <th>2005-05-13 22:31:00</th>\n",
       "      <td>2.180</td>\n",
       "      <td>14.0</td>\n",
       "      <td>1.2</td>\n",
       "    </tr>\n",
       "    <tr>\n",
       "      <th>2005-05-13 22:32:00</th>\n",
       "      <td>2.370</td>\n",
       "      <td>14.0</td>\n",
       "      <td>1.4</td>\n",
       "    </tr>\n",
       "    <tr>\n",
       "      <th>2005-05-13 22:33:00</th>\n",
       "      <td>1.960</td>\n",
       "      <td>14.0</td>\n",
       "      <td>1.6</td>\n",
       "    </tr>\n",
       "    <tr>\n",
       "      <th>2005-05-13 22:34:00</th>\n",
       "      <td>2.180</td>\n",
       "      <td>14.0</td>\n",
       "      <td>1.6</td>\n",
       "    </tr>\n",
       "    <tr>\n",
       "      <th>...</th>\n",
       "      <td>...</td>\n",
       "      <td>...</td>\n",
       "      <td>...</td>\n",
       "    </tr>\n",
       "    <tr>\n",
       "      <th>2005-05-14 03:16:00</th>\n",
       "      <td>1.295</td>\n",
       "      <td>4.0</td>\n",
       "      <td>5.3</td>\n",
       "    </tr>\n",
       "    <tr>\n",
       "      <th>2005-05-14 03:17:00</th>\n",
       "      <td>1.350</td>\n",
       "      <td>4.0</td>\n",
       "      <td>5.3</td>\n",
       "    </tr>\n",
       "    <tr>\n",
       "      <th>2005-05-14 03:18:00</th>\n",
       "      <td>1.350</td>\n",
       "      <td>4.0</td>\n",
       "      <td>5.3</td>\n",
       "    </tr>\n",
       "    <tr>\n",
       "      <th>2005-05-14 03:19:00</th>\n",
       "      <td>1.350</td>\n",
       "      <td>4.0</td>\n",
       "      <td>5.3</td>\n",
       "    </tr>\n",
       "    <tr>\n",
       "      <th>2005-05-14 03:20:00</th>\n",
       "      <td>1.350</td>\n",
       "      <td>4.0</td>\n",
       "      <td>5.3</td>\n",
       "    </tr>\n",
       "  </tbody>\n",
       "</table>\n",
       "<p>291 rows × 3 columns</p>\n",
       "</div>"
      ],
      "text/plain": [
       "                     DIMM Seeing [arcsec]  Wind Direction at 10m [deg]  \\\n",
       "2005-05-13 22:30:00                 2.080                         14.0   \n",
       "2005-05-13 22:31:00                 2.180                         14.0   \n",
       "2005-05-13 22:32:00                 2.370                         14.0   \n",
       "2005-05-13 22:33:00                 1.960                         14.0   \n",
       "2005-05-13 22:34:00                 2.180                         14.0   \n",
       "...                                   ...                          ...   \n",
       "2005-05-14 03:16:00                 1.295                          4.0   \n",
       "2005-05-14 03:17:00                 1.350                          4.0   \n",
       "2005-05-14 03:18:00                 1.350                          4.0   \n",
       "2005-05-14 03:19:00                 1.350                          4.0   \n",
       "2005-05-14 03:20:00                 1.350                          4.0   \n",
       "\n",
       "                     Wind Speed at 10m [m/s]  \n",
       "2005-05-13 22:30:00                      1.2  \n",
       "2005-05-13 22:31:00                      1.2  \n",
       "2005-05-13 22:32:00                      1.4  \n",
       "2005-05-13 22:33:00                      1.6  \n",
       "2005-05-13 22:34:00                      1.6  \n",
       "...                                      ...  \n",
       "2005-05-14 03:16:00                      5.3  \n",
       "2005-05-14 03:17:00                      5.3  \n",
       "2005-05-14 03:18:00                      5.3  \n",
       "2005-05-14 03:19:00                      5.3  \n",
       "2005-05-14 03:20:00                      5.3  \n",
       "\n",
       "[291 rows x 3 columns]"
      ]
     },
     "execution_count": 30,
     "metadata": {},
     "output_type": "execute_result"
    }
   ],
   "source": [
    "# showing an arbitrary chunk\n",
    "chunks[30]"
   ]
  }
 ],
 "metadata": {
  "kernelspec": {
   "display_name": "Python 3 (ipykernel)",
   "language": "python",
   "name": "python3"
  },
  "language_info": {
   "codemirror_mode": {
    "name": "ipython",
    "version": 3
   },
   "file_extension": ".py",
   "mimetype": "text/x-python",
   "name": "python",
   "nbconvert_exporter": "python",
   "pygments_lexer": "ipython3",
   "version": "3.7.10"
  },
  "toc-autonumbering": true,
  "toc-showcode": false,
  "toc-showmarkdowntxt": false,
  "toc-showtags": false
 },
 "nbformat": 4,
 "nbformat_minor": 5
}
