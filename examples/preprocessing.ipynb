{
 "cells": [
  {
   "cell_type": "markdown",
   "id": "dimensional-celebration",
   "metadata": {},
   "source": [
    "# Data Preprocessing"
   ]
  },
  {
   "cell_type": "code",
   "execution_count": 1,
   "id": "smoking-perspective",
   "metadata": {},
   "outputs": [],
   "source": [
    "%reload_ext autoreload"
   ]
  },
  {
   "cell_type": "code",
   "execution_count": 2,
   "id": "practical-triangle",
   "metadata": {},
   "outputs": [],
   "source": [
    "%autoreload 2\n",
    "%aimport importlib\n",
    "import nowcastlib.pipeline as ncl_pipe\n",
    "%aimport cattr\n",
    "import pandas as pd\n",
    "import matplotlib.pyplot as plt"
   ]
  },
  {
   "cell_type": "code",
   "execution_count": 3,
   "id": "414d5001-e4cc-41b4-9666-8b2e33d48ecb",
   "metadata": {},
   "outputs": [],
   "source": [
    "c = cattr.GenConverter(forbid_extra_keys=True)"
   ]
  },
  {
   "cell_type": "code",
   "execution_count": 4,
   "id": "cheap-obligation",
   "metadata": {},
   "outputs": [],
   "source": [
    "# d = {\n",
    "#     \"name\": \"lco_wind\",\n",
    "#     \"path\": \"data/LCO/lascampanas_wind.csv\",\n",
    "#     \"fields\": [\n",
    "#         {\"field_name\": \"vtm\", \"is_date\": True},\n",
    "#         {\n",
    "#             \"field_name\": \"wind_speed\",\n",
    "#             \"preprocessing_options\": {\n",
    "#                 \"conversion_options\": {\"key\": \"mph2ms\"},\n",
    "#                 \"overwrite\": True,\n",
    "#             },\n",
    "#         },\n",
    "#         {\n",
    "#             \"field_name\": \"wind_dir\",\n",
    "#             \"preprocessing_options\": {\n",
    "#                 \"outlier_options\": {\"quantile_based\": False, \"lower\": 0, \"upper\": 720},\n",
    "#                 \"periodic_options\": {\"period_length\": 360},\n",
    "#             },\n",
    "#         },\n",
    "#     ],\n",
    "# }\n",
    "# config = c.structure(d, ncl_pipe.structs.DataSource)"
   ]
  },
  {
   "cell_type": "code",
   "execution_count": 5,
   "id": "3e37066b-7784-4c55-8fcb-dec93582f652",
   "metadata": {},
   "outputs": [],
   "source": [
    "# hash(config.fields[2])"
   ]
  },
  {
   "cell_type": "code",
   "execution_count": 6,
   "id": "moved-masters",
   "metadata": {},
   "outputs": [],
   "source": [
    "# data_df = ncl_pipe.preprocess.preprocess_datasource(config)"
   ]
  },
  {
   "cell_type": "code",
   "execution_count": 7,
   "id": "621ff24c-8da2-4600-8e87-c6dc5ddc640b",
   "metadata": {},
   "outputs": [],
   "source": [
    "# data_df"
   ]
  },
  {
   "cell_type": "markdown",
   "id": "continuous-comfort",
   "metadata": {},
   "source": [
    "## Sandbox"
   ]
  },
  {
   "cell_type": "code",
   "execution_count": 4,
   "id": "f26c2c3b-8470-4843-8be1-c3570ae2d789",
   "metadata": {},
   "outputs": [],
   "source": [
    "sync_json = {\n",
    "    \"data_sources\": [\n",
    "        {\n",
    "            \"name\": \"lco_wind\",\n",
    "            \"path\": \"data/LCO/lascampanas_wind.csv\",\n",
    "            \"fields\": [\n",
    "                {\"field_name\": \"vtm\", \"is_date\": True},\n",
    "                {\"field_name\": \"wind_speed\"},\n",
    "                {\"field_name\": \"wind_dir\"},\n",
    "            ],\n",
    "        },\n",
    "        {\n",
    "            \"name\": \"lco_dimm\",\n",
    "            \"path\": \"data/LCO/lascampanas_dimm.csv\",\n",
    "            \"fields\": [{\"field_name\": \"tsd\", \"is_date\": True}, {\"field_name\": \"FWHM\"}],\n",
    "        },\n",
    "    ],\n",
    "    \"sync_options\": {\n",
    "        \"sample_spacing\": 60,\n",
    "        \"chunk_options\": {\"min_chunk_size\": 7200, \"max_gap_size\": 600},\n",
    "        \"data_output\": {\"output_format\": \"csv\", \"output_path\": \"some/random/path.csv\"},\n",
    "        \"chunks_output\": {\n",
    "            \"output_format\": \"npy\",\n",
    "            \"output_path\": \"some/random/path.npy\",\n",
    "        },\n",
    "        \"diagnostic_plots\": False,\n",
    "    },\n",
    "}\n",
    "\n",
    "config = c.structure(sync_json, ncl_pipe.structs.DataSet)"
   ]
  },
  {
   "cell_type": "code",
   "execution_count": 5,
   "id": "ddf84615-6bb5-4a88-8697-9bc2543eadd6",
   "metadata": {},
   "outputs": [
    {
     "data": {
      "text/plain": [
       "DataSet(data_sources=(DataSource(name='lco_wind', path='data/LCO/lascampanas_wind.csv', fields=(DataField(field_name='vtm', is_date=True, date_format='%Y-%m-%dT%H:%M:%S', preprocessing_options=None, postprocessing_options=None), DataField(field_name='wind_speed', is_date=False, date_format='%Y-%m-%dT%H:%M:%S', preprocessing_options=None, postprocessing_options=None), DataField(field_name='wind_dir', is_date=False, date_format='%Y-%m-%dT%H:%M:%S', preprocessing_options=None, postprocessing_options=None)), comment_format='#', preprocessing_output=None), DataSource(name='lco_dimm', path='data/LCO/lascampanas_dimm.csv', fields=(DataField(field_name='tsd', is_date=True, date_format='%Y-%m-%dT%H:%M:%S', preprocessing_options=None, postprocessing_options=None), DataField(field_name='FWHM', is_date=False, date_format='%Y-%m-%dT%H:%M:%S', preprocessing_options=None, postprocessing_options=None)), comment_format='#', preprocessing_output=None)), sync_options=SyncOptions(sample_spacing=60, chunk_options=ChunkOptions(max_gap_size=600, min_chunk_size=7200), data_output=SerializationOptions(output_format='csv', output_path='some/random/path.csv'), chunks_output=SerializationOptions(output_format='npy', output_path='some/random/path.npy'), diagnostic_plots=False))"
      ]
     },
     "execution_count": 5,
     "metadata": {},
     "output_type": "execute_result"
    }
   ],
   "source": [
    "config"
   ]
  },
  {
   "cell_type": "code",
   "execution_count": 7,
   "id": "4593b51b-b41e-4af2-b6e2-0a40f85e0859",
   "metadata": {},
   "outputs": [
    {
     "name": "stderr",
     "output_type": "stream",
     "text": [
      "2021-06-29 15:54:48,156 - INFO - Preprocessing dataset...\n",
      "2021-06-29 15:54:53,401 - INFO - Synchronizing dataset...\n"
     ]
    }
   ],
   "source": [
    "chunks = ncl_pipe.sync.synchronize_dataset(config)"
   ]
  },
  {
   "cell_type": "code",
   "execution_count": null,
   "id": "7969824c-372c-4f6d-bace-ecaede251cdb",
   "metadata": {},
   "outputs": [],
   "source": [
    "len(chunks)"
   ]
  },
  {
   "cell_type": "code",
   "execution_count": null,
   "id": "598faac6-78b7-45aa-87b3-a5c1cc2b3112",
   "metadata": {},
   "outputs": [],
   "source": []
  }
 ],
 "metadata": {
  "kernelspec": {
   "display_name": "Python 3",
   "language": "python",
   "name": "python3"
  },
  "language_info": {
   "codemirror_mode": {
    "name": "ipython",
    "version": 3
   },
   "file_extension": ".py",
   "mimetype": "text/x-python",
   "name": "python",
   "nbconvert_exporter": "python",
   "pygments_lexer": "ipython3",
   "version": "3.7.10"
  }
 },
 "nbformat": 4,
 "nbformat_minor": 5
}
