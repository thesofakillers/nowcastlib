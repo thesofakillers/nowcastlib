{
 "cells": [
  {
   "cell_type": "code",
   "execution_count": 1,
   "id": "alive-boxing",
   "metadata": {},
   "outputs": [],
   "source": [
    "%matplotlib widget"
   ]
  },
  {
   "cell_type": "markdown",
   "id": "rocky-better",
   "metadata": {},
   "source": [
    "# Adding Noise to a Signal\n",
    "\n",
    "The following notebook serves as an example for how one may decide to add noise to a signal at a specific SNR using functionality from the `signals` submodule"
   ]
  },
  {
   "cell_type": "markdown",
   "id": "juvenile-stomach",
   "metadata": {},
   "source": [
    "## Imports"
   ]
  },
  {
   "cell_type": "code",
   "execution_count": 2,
   "id": "prescribed-powell",
   "metadata": {},
   "outputs": [],
   "source": [
    "import numpy as np\n",
    "import matplotlib.pyplot as plt\n",
    "import seaborn as sns\n",
    "from nowcastlib import signals"
   ]
  },
  {
   "cell_type": "code",
   "execution_count": 3,
   "id": "signal-disaster",
   "metadata": {},
   "outputs": [],
   "source": [
    "sns.set_style(\"ticks\")\n",
    "sns.set_context(\"notebook\")"
   ]
  },
  {
   "cell_type": "code",
   "execution_count": 4,
   "id": "compatible-installation",
   "metadata": {},
   "outputs": [],
   "source": [
    "plt.close(\"all\")"
   ]
  },
  {
   "cell_type": "markdown",
   "id": "arranged-midwest",
   "metadata": {},
   "source": [
    "## Main"
   ]
  },
  {
   "cell_type": "markdown",
   "id": "social-frequency",
   "metadata": {},
   "source": [
    "### Noise Setup"
   ]
  },
  {
   "cell_type": "code",
   "execution_count": 5,
   "id": "pending-plane",
   "metadata": {},
   "outputs": [],
   "source": [
    "# The SNR we want to achieve, in dB\n",
    "target_snr = 2"
   ]
  },
  {
   "cell_type": "markdown",
   "id": "blocked-constant",
   "metadata": {},
   "source": [
    "For this specific example, we will use a mixed-noise signal, made out of the addition of white noise and red noise."
   ]
  },
  {
   "cell_type": "code",
   "execution_count": 6,
   "id": "brief-handbook",
   "metadata": {},
   "outputs": [],
   "source": [
    "# Normalize red noise so that it is in a similar range as white noise\n",
    "white_noise = np.random.randn(5000)\n",
    "red_noise = signals.normalize_signal(np.random.randn(5000).cumsum())\n",
    "# We may wish build our noise signal such that it is dominated by a particular color\n",
    "rn_weight = 1\n",
    "wn_weight = 1\n",
    "# finally we can build our noise signal\n",
    "total_noise = wn_weight * white_noise + rn_weight * red_noise"
   ]
  },
  {
   "cell_type": "markdown",
   "id": "automatic-bottle",
   "metadata": {},
   "source": [
    "### Signal Generation"
   ]
  },
  {
   "cell_type": "markdown",
   "id": "gross-november",
   "metadata": {},
   "source": [
    "As for our \"noiseless\" signal, to which we wish to add noise, we will use a sinusoidal wave"
   ]
  },
  {
   "cell_type": "code",
   "execution_count": 7,
   "id": "parliamentary-accused",
   "metadata": {},
   "outputs": [],
   "source": [
    "T = 5000\n",
    "x = np.arange(T)\n",
    "b = 5\n",
    "example_signal = np.sin((2 * np.pi * b * x) / T)"
   ]
  },
  {
   "cell_type": "markdown",
   "id": "contained-myrtle",
   "metadata": {},
   "source": [
    "### Putting them together"
   ]
  },
  {
   "cell_type": "code",
   "execution_count": 8,
   "id": "funny-positive",
   "metadata": {},
   "outputs": [],
   "source": [
    "# We add noise to the signal using the target SNR specified earlier\n",
    "noise_and_signal = signals.add_noise(example_signal, total_noise, target_snr)"
   ]
  },
  {
   "cell_type": "markdown",
   "id": "political-kentucky",
   "metadata": {},
   "source": [
    "### Plotting to see results"
   ]
  },
  {
   "cell_type": "code",
   "execution_count": 9,
   "id": "dynamic-values",
   "metadata": {},
   "outputs": [
    {
     "data": {
      "application/vnd.jupyter.widget-view+json": {
       "model_id": "fb121b4c0e1d46cfa0a3f572ff2710f9",
       "version_major": 2,
       "version_minor": 0
      },
      "text/plain": [
       "Canvas(toolbar=Toolbar(toolitems=[('Home', 'Reset original view', 'home', 'home'), ('Back', 'Back to previous …"
      ]
     },
     "metadata": {},
     "output_type": "display_data"
    }
   ],
   "source": [
    "# Plot to see the effect of our work\n",
    "f, (ax1, ax2, ax3, ax4) = plt.subplots(4, 1, sharex=True, figsize=(12, 8))\n",
    "ax1.plot(\n",
    "    noise_and_signal,\n",
    "    linewidth=0.5,\n",
    "    color=\"orange\",\n",
    "    label=\"Orig. Sgnl w/ add. noise at SNR={} dB\".format(target_snr),\n",
    ")\n",
    "ax1.plot(example_signal, color=\"black\", label=\"Orig. Sgnl\")\n",
    "ax1.set_ylim([-3, 4])\n",
    "ax1.set_yticks([-2, 0, 2])\n",
    "ax1.legend()\n",
    "ax2.plot(total_noise, color=\"purple\", linewidth=0.3, label=\"Red + White noise\")\n",
    "ax2.legend()\n",
    "ax3.plot(red_noise, color=\"red\", linewidth=0.6, label=\"Red noise\")\n",
    "ax3.legend()\n",
    "ax4.plot(white_noise, color=\"blue\", linewidth=0.3, label=\"White noise\")\n",
    "ax4.legend()\n",
    "f.suptitle(\"Addition of mixed noise to a sinusoidal signal at a desired SNR\")\n",
    "f.set_tight_layout(True)\n",
    "plt.show()"
   ]
  },
  {
   "cell_type": "markdown",
   "id": "pressing-gross",
   "metadata": {},
   "source": [
    "## Conclusion"
   ]
  },
  {
   "cell_type": "markdown",
   "id": "twenty-cuisine",
   "metadata": {},
   "source": [
    "We have successfully added a mixture of noise to an example signal at a desired SNR. Users are encouraged to have a look at the remaining functions of the `signals` submodule. For example, `gen_composite_red_noise()`, which is to be used when we want to generate a noise signal that is red-noise-like at a scale smaller than the signal length."
   ]
  }
 ],
 "metadata": {
  "kernelspec": {
   "display_name": "Python 3",
   "language": "python",
   "name": "python3"
  },
  "language_info": {
   "codemirror_mode": {
    "name": "ipython",
    "version": 3
   },
   "file_extension": ".py",
   "mimetype": "text/x-python",
   "name": "python",
   "nbconvert_exporter": "python",
   "pygments_lexer": "ipython3",
   "version": "3.6.9"
  }
 },
 "nbformat": 4,
 "nbformat_minor": 5
}
