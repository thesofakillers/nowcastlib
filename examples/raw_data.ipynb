{
 "cells": [
  {
   "cell_type": "code",
   "execution_count": 1,
   "id": "active-bankruptcy",
   "metadata": {},
   "outputs": [],
   "source": [
    "%matplotlib widget"
   ]
  },
  {
   "cell_type": "markdown",
   "id": "nasty-latest",
   "metadata": {},
   "source": [
    "# Processing Raw Data"
   ]
  },
  {
   "cell_type": "markdown",
   "id": "naval-finger",
   "metadata": {},
   "source": [
    "This notebook will showcase how one may use the Nowcast Library to process raw time series data, particularly with regards to synchronizing data sets coming from different data sources."
   ]
  },
  {
   "cell_type": "markdown",
   "id": "passive-spouse",
   "metadata": {},
   "source": [
    "## Imports and Config"
   ]
  },
  {
   "cell_type": "code",
   "execution_count": 2,
   "id": "statutory-fault",
   "metadata": {},
   "outputs": [],
   "source": [
    "import datetime\n",
    "import numpy as np\n",
    "import pandas as pd\n",
    "import matplotlib.pyplot as plt\n",
    "import seaborn as sns"
   ]
  },
  {
   "cell_type": "code",
   "execution_count": 3,
   "id": "educational-device",
   "metadata": {},
   "outputs": [],
   "source": [
    "sns.set_style(\"ticks\")\n",
    "sns.set_context(\"notebook\")"
   ]
  },
  {
   "cell_type": "code",
   "execution_count": 4,
   "id": "brown-singapore",
   "metadata": {},
   "outputs": [],
   "source": [
    "plt.close(\"all\")"
   ]
  },
  {
   "cell_type": "markdown",
   "id": "comic-method",
   "metadata": {},
   "source": [
    "## The Data"
   ]
  },
  {
   "cell_type": "markdown",
   "id": "basic-conditions",
   "metadata": {},
   "source": [
    "To make this notebook independent of external data, let's generate our own. We will generate data from 3 different data sources, and then work with that. The data will have different sample rates, perhaps even be irregular, and will be missing data at different time period."
   ]
  },
  {
   "cell_type": "markdown",
   "id": "thick-pennsylvania",
   "metadata": {},
   "source": [
    "First, let's define a function for generating data"
   ]
  },
  {
   "cell_type": "code",
   "execution_count": 5,
   "id": "representative-explorer",
   "metadata": {},
   "outputs": [],
   "source": [
    "def generate_data(\n",
    "    sr_secs,\n",
    "    start_date,\n",
    "    end_date,\n",
    "    n_cols=1,\n",
    "    sr_stdev=0,\n",
    "    gap_period=0,\n",
    "    gap_size=0,\n",
    "    gap_size_stdev=0,\n",
    "):\n",
    "    \"\"\"\n",
    "    Generates random time series data\n",
    "\n",
    "    Parameters\n",
    "    ----------\n",
    "    sr_secs : int\n",
    "        The number of seconds between each data point\n",
    "    start_date : string or datetime.datetime or numpy.datetime64\n",
    "        When the generated time series should start\n",
    "    end_date : string or datetime.datetime or numpy.datetime64\n",
    "        When the generated time series should end\n",
    "    n_cols : int, default 1\n",
    "        The number of columns the resulting dataframe should have\n",
    "    sr_stdev : number, default 0\n",
    "        The standard deviation in seconds the sample rate should have,\n",
    "        if an irregular sample rate is desired\n",
    "    gap_period: int, default 0\n",
    "        Every how many seconds should a gap occur, 0 means never\n",
    "    gap_size : int, default 0\n",
    "        How long a gap should be in seconds\n",
    "    gap_size_stdev: number, default 0\n",
    "        The standard deviation in gap size, if the gap size should be irregular\n",
    "\n",
    "    Returns\n",
    "    -------\n",
    "    pandas.core.frame.DataFrame\n",
    "        Time-indexed pandas dataframe containing the generated data\n",
    "    \"\"\"\n",
    "    regular_tsteps = np.arange(\n",
    "        start_date, end_date, step=np.timedelta64(sr_secs, \"s\"), dtype=\"datetime64[ms]\"\n",
    "    )\n",
    "    n_frames = len(regular_tsteps)\n",
    "\n",
    "    gap_mask = np.ones(n_frames)\n",
    "    if gap_period > 0:\n",
    "        assert gap_size > 0, \"Can't have 0-length gaps\"\n",
    "        # need to convert from seconds to frames\n",
    "        gap_size = int(gap_size / sr_secs)\n",
    "        gap_size_stdev = gap_size_stdev / sr_secs\n",
    "        gap_period = int(gap_period / sr_secs)\n",
    "\n",
    "        gappy_section_length = n_frames - 2 * gap_period\n",
    "\n",
    "        n_gaps = int(gappy_section_length / gap_size)\n",
    "\n",
    "        deviations = np.random.normal(gap_size, gap_size_stdev, n_gaps) - gap_size\n",
    "        for i in range(n_gaps):\n",
    "            curr_index = i * (gap_period + gap_size)\n",
    "            if (curr_index + gap_size + deviations[i]) < gappy_section_length:\n",
    "                gap_mask[gap_period:-gap_period][\n",
    "                    curr_index : curr_index + int(gap_size + deviations[i])\n",
    "                ] = 0\n",
    "    gap_mask = gap_mask.astype(bool)\n",
    "\n",
    "    tsteps = regular_tsteps\n",
    "    if sr_stdev != 0:\n",
    "        deviations = (\n",
    "            np.random.normal(sr_secs, sr_stdev, n_frames - 2) - sr_secs\n",
    "        ) * 1000\n",
    "        tsteps[1:-1] += deviations.astype(int)\n",
    "    gen_data = pd.DataFrame(np.random.randn(n_frames, n_cols), index=tsteps)\n",
    "    return gen_data[gap_mask]"
   ]
  },
  {
   "cell_type": "code",
   "execution_count": 6,
   "id": "supreme-bangladesh",
   "metadata": {},
   "outputs": [],
   "source": [
    "df = generate_data(120, \"2020-01-01\", \"2020-01-31\", 3, 300, 12 * 3600, 6 * 3600, 1200)\n",
    "resampled_df = df.resample(\"2T\").mean()"
   ]
  },
  {
   "cell_type": "code",
   "execution_count": 7,
   "id": "parliamentary-forum",
   "metadata": {},
   "outputs": [
    {
     "data": {
      "application/vnd.jupyter.widget-view+json": {
       "model_id": "bf7836ccea004adca38ec679f7363e9f",
       "version_major": 2,
       "version_minor": 0
      },
      "text/plain": [
       "Canvas(toolbar=Toolbar(toolitems=[('Home', 'Reset original view', 'home', 'home'), ('Back', 'Back to previous …"
      ]
     },
     "metadata": {},
     "output_type": "display_data"
    }
   ],
   "source": [
    "plt.figure(figsize=(10, 6))\n",
    "plt.plot(resampled_df[1], linewidth=0.5, color=\"darkblue\", label=\"resampled\", zorder=1)\n",
    "plt.scatter(df.index, df[1], s=0.5, c=\"red\", label=\"raw\", zorder=2)\n",
    "plt.legend()\n",
    "plt.tight_layout()\n",
    "plt.draw()"
   ]
  }
 ],
 "metadata": {
  "kernelspec": {
   "display_name": "Python 3",
   "language": "python",
   "name": "python3"
  },
  "language_info": {
   "codemirror_mode": {
    "name": "ipython",
    "version": 3
   },
   "file_extension": ".py",
   "mimetype": "text/x-python",
   "name": "python",
   "nbconvert_exporter": "python",
   "pygments_lexer": "ipython3",
   "version": "3.6.9"
  },
  "latex_envs": {
   "LaTeX_envs_menu_present": true,
   "autoclose": false,
   "autocomplete": true,
   "bibliofile": "references.bib",
   "cite_by": "apalike",
   "current_citInitial": 1,
   "eqLabelWithNumbers": true,
   "eqNumInitial": 1,
   "hotkeys": {
    "equation": "Ctrl-E",
    "itemize": "Ctrl-I"
   },
   "labels_anchors": false,
   "latex_user_defs": false,
   "report_style_numbering": false,
   "user_envs_cfg": false
  },
  "toc": {
   "base_numbering": 1,
   "nav_menu": {},
   "number_sections": true,
   "sideBar": true,
   "skip_h1_title": false,
   "title_cell": "Table of Contents",
   "title_sidebar": "Contents",
   "toc_cell": false,
   "toc_position": {},
   "toc_section_display": true,
   "toc_window_display": false
  }
 },
 "nbformat": 4,
 "nbformat_minor": 5
}
